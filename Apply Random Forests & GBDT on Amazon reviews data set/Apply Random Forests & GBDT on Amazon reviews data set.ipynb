{
 "cells": [
  {
   "cell_type": "code",
   "execution_count": 1,
   "metadata": {
    "colab": {},
    "colab_type": "code",
    "collapsed": true,
    "id": "NXpXKSnuhLWN"
   },
   "outputs": [],
   "source": [
    "%matplotlib inline\n",
    "import warnings\n",
    "warnings.filterwarnings(\"ignore\")\n",
    "\n",
    "\n",
    "import sqlite3\n",
    "import pandas as pd\n",
    "import numpy as np\n",
    "import nltk\n",
    "import string\n",
    "import matplotlib.pyplot as plt\n",
    "import seaborn as sns\n",
    "from sklearn.feature_extraction.text import TfidfTransformer\n",
    "from sklearn.feature_extraction.text import TfidfVectorizer\n",
    "\n",
    "from sklearn.feature_extraction.text import CountVectorizer\n",
    "from sklearn.metrics import confusion_matrix\n",
    "from sklearn import metrics\n",
    "from sklearn.metrics import roc_curve, auc\n",
    "from nltk.stem.porter import PorterStemmer\n",
    "\n",
    "import re\n",
    "# Tutorial about Python regular expressions: https://pymotw.com/2/re/\n",
    "import string\n",
    "from nltk.corpus import stopwords\n",
    "from nltk.stem import PorterStemmer\n",
    "from nltk.stem.wordnet import WordNetLemmatizer\n",
    "\n",
    "from gensim.models import Word2Vec\n",
    "from gensim.models import KeyedVectors\n",
    "import pickle\n",
    "\n",
    "from tqdm import tqdm\n",
    "import os\n",
    "from sklearn import linear_model\n",
    "from sklearn.calibration import CalibratedClassifierCV"
   ]
  },
  {
   "cell_type": "code",
   "execution_count": 2,
   "metadata": {
    "colab": {
     "base_uri": "https://localhost:8080/",
     "height": 122
    },
    "colab_type": "code",
    "collapsed": false,
    "executionInfo": {
     "elapsed": 27312,
     "status": "ok",
     "timestamp": 1552136125870,
     "user": {
      "displayName": "Rajendra Choudhary",
      "photoUrl": "https://lh3.googleusercontent.com/-H2n68bMjaqM/AAAAAAAAAAI/AAAAAAAAADs/35wbnA9B3WM/s64/photo.jpg",
      "userId": "11987022453046813676"
     },
     "user_tz": -330
    },
    "id": "Vwq9wZZVhLWU",
    "outputId": "735bd53f-5b04-4b6a-c063-7c299a1e93a9"
   },
   "outputs": [
    {
     "name": "stdout",
     "output_type": "stream",
     "text": [
      "Go to this URL in a browser: https://accounts.google.com/o/oauth2/auth?client_id=947318989803-6bn6qk8qdgf4n4g3pfee6491hc0brc4i.apps.googleusercontent.com&redirect_uri=urn%3Aietf%3Awg%3Aoauth%3A2.0%3Aoob&scope=email%20https%3A%2F%2Fwww.googleapis.com%2Fauth%2Fdocs.test%20https%3A%2F%2Fwww.googleapis.com%2Fauth%2Fdrive%20https%3A%2F%2Fwww.googleapis.com%2Fauth%2Fdrive.photos.readonly%20https%3A%2F%2Fwww.googleapis.com%2Fauth%2Fpeopleapi.readonly&response_type=code\n",
      "\n",
      "Enter your authorization code:\n",
      "··········\n",
      "Mounted at /content/gdrive\n"
     ]
    }
   ],
   "source": [
    "#mounting the dataset from drive\n",
    "from google.colab import drive\n",
    "drive.mount('/content/gdrive') \n",
    "\n",
    "#connecting to sqlite db\n",
    "con = sqlite3.connect('database.sqlite')\n",
    "                      \n",
    "# filtering only positive and negative reviews i.e. \n",
    "# not taking into consideration those reviews with Score=3\n",
    "# SELECT * FROM Reviews WHERE Score != 3 LIMIT 500000, will give top 500000 data points\n",
    "# you can change the number to any other number based on your computing power\n",
    "\n",
    "# filtered_data = pd.read_sql_query(\"\"\" SELECT * FROM Reviews WHERE Score != 3 LIMIT 500000\"\"\", con) \n",
    "# for tsne assignment you can take 5k data points\n",
    "\n",
    "filtered_data = pd.read_sql_query(\"\"\" SELECT * FROM Reviews WHERE Score != 3\"\"\", con) \n",
    "\n",
    "# Give reviews with Score>3 a positive rating(1), and reviews with a score<3 a negative rating(0).\n",
    "def partition(x):\n",
    "    if x < 3:\n",
    "        return 0\n",
    "    return 1\n",
    "\n",
    "#changing reviews with score less than 3 to be positive and vice-versa\n",
    "actualScore = filtered_data['Score']\n",
    "positiveNegative = actualScore.map(partition) \n",
    "filtered_data['Score'] = positiveNegative\n",
    "print(\"Number of data points in our data\", filtered_data.shape)\n",
    "filtered_data.head(3)"
   ]
  },
  {
   "cell_type": "code",
   "execution_count": 0,
   "metadata": {
    "colab": {},
    "colab_type": "code",
    "collapsed": true,
    "id": "Qrek6FSuhLWc"
   },
   "outputs": [],
   "source": [
    "display = pd.read_sql_query(\"\"\"\n",
    "SELECT UserId, ProductId, ProfileName, Time, Score, Text, COUNT(*)\n",
    "FROM Reviews\n",
    "GROUP BY UserId\n",
    "HAVING COUNT(*)>1\n",
    "\"\"\", con)"
   ]
  },
  {
   "cell_type": "code",
   "execution_count": 0,
   "metadata": {
    "colab": {},
    "colab_type": "code",
    "collapsed": false,
    "id": "5pwldX9thLWi",
    "outputId": "55841cb9-f5c1-4663-e9ba-6df1fbef629e"
   },
   "outputs": [
    {
     "name": "stdout",
     "output_type": "stream",
     "text": [
      "(80668, 7)\n"
     ]
    },
    {
     "data": {
      "text/html": [
       "<div>\n",
       "<style scoped>\n",
       "    .dataframe tbody tr th:only-of-type {\n",
       "        vertical-align: middle;\n",
       "    }\n",
       "\n",
       "    .dataframe tbody tr th {\n",
       "        vertical-align: top;\n",
       "    }\n",
       "\n",
       "    .dataframe thead th {\n",
       "        text-align: right;\n",
       "    }\n",
       "</style>\n",
       "<table border=\"1\" class=\"dataframe\">\n",
       "  <thead>\n",
       "    <tr style=\"text-align: right;\">\n",
       "      <th></th>\n",
       "      <th>UserId</th>\n",
       "      <th>ProductId</th>\n",
       "      <th>ProfileName</th>\n",
       "      <th>Time</th>\n",
       "      <th>Score</th>\n",
       "      <th>Text</th>\n",
       "      <th>COUNT(*)</th>\n",
       "    </tr>\n",
       "  </thead>\n",
       "  <tbody>\n",
       "    <tr>\n",
       "      <th>0</th>\n",
       "      <td>#oc-R115TNMSPFT9I7</td>\n",
       "      <td>B007Y59HVM</td>\n",
       "      <td>Breyton</td>\n",
       "      <td>1331510400</td>\n",
       "      <td>2</td>\n",
       "      <td>Overall its just OK when considering the price...</td>\n",
       "      <td>2</td>\n",
       "    </tr>\n",
       "    <tr>\n",
       "      <th>1</th>\n",
       "      <td>#oc-R11D9D7SHXIJB9</td>\n",
       "      <td>B005HG9ET0</td>\n",
       "      <td>Louis E. Emory \"hoppy\"</td>\n",
       "      <td>1342396800</td>\n",
       "      <td>5</td>\n",
       "      <td>My wife has recurring extreme muscle spasms, u...</td>\n",
       "      <td>3</td>\n",
       "    </tr>\n",
       "    <tr>\n",
       "      <th>2</th>\n",
       "      <td>#oc-R11DNU2NBKQ23Z</td>\n",
       "      <td>B007Y59HVM</td>\n",
       "      <td>Kim Cieszykowski</td>\n",
       "      <td>1348531200</td>\n",
       "      <td>1</td>\n",
       "      <td>This coffee is horrible and unfortunately not ...</td>\n",
       "      <td>2</td>\n",
       "    </tr>\n",
       "    <tr>\n",
       "      <th>3</th>\n",
       "      <td>#oc-R11O5J5ZVQE25C</td>\n",
       "      <td>B005HG9ET0</td>\n",
       "      <td>Penguin Chick</td>\n",
       "      <td>1346889600</td>\n",
       "      <td>5</td>\n",
       "      <td>This will be the bottle that you grab from the...</td>\n",
       "      <td>3</td>\n",
       "    </tr>\n",
       "    <tr>\n",
       "      <th>4</th>\n",
       "      <td>#oc-R12KPBODL2B5ZD</td>\n",
       "      <td>B007OSBE1U</td>\n",
       "      <td>Christopher P. Presta</td>\n",
       "      <td>1348617600</td>\n",
       "      <td>1</td>\n",
       "      <td>I didnt like this coffee. Instead of telling y...</td>\n",
       "      <td>2</td>\n",
       "    </tr>\n",
       "  </tbody>\n",
       "</table>\n",
       "</div>"
      ],
      "text/plain": [
       "               UserId   ProductId             ProfileName        Time  Score  \\\n",
       "0  #oc-R115TNMSPFT9I7  B007Y59HVM                 Breyton  1331510400      2   \n",
       "1  #oc-R11D9D7SHXIJB9  B005HG9ET0  Louis E. Emory \"hoppy\"  1342396800      5   \n",
       "2  #oc-R11DNU2NBKQ23Z  B007Y59HVM        Kim Cieszykowski  1348531200      1   \n",
       "3  #oc-R11O5J5ZVQE25C  B005HG9ET0           Penguin Chick  1346889600      5   \n",
       "4  #oc-R12KPBODL2B5ZD  B007OSBE1U   Christopher P. Presta  1348617600      1   \n",
       "\n",
       "                                                Text  COUNT(*)  \n",
       "0  Overall its just OK when considering the price...         2  \n",
       "1  My wife has recurring extreme muscle spasms, u...         3  \n",
       "2  This coffee is horrible and unfortunately not ...         2  \n",
       "3  This will be the bottle that you grab from the...         3  \n",
       "4  I didnt like this coffee. Instead of telling y...         2  "
      ]
     },
     "execution_count": 4,
     "metadata": {
      "tags": []
     },
     "output_type": "execute_result"
    }
   ],
   "source": [
    "print(display.shape)\n",
    "display.head()"
   ]
  },
  {
   "cell_type": "code",
   "execution_count": 27,
   "metadata": {
    "colab": {
     "base_uri": "https://localhost:8080/",
     "height": 34
    },
    "colab_type": "code",
    "collapsed": false,
    "executionInfo": {
     "elapsed": 802,
     "status": "ok",
     "timestamp": 1552136640623,
     "user": {
      "displayName": "Rajendra Choudhary",
      "photoUrl": "https://lh3.googleusercontent.com/-H2n68bMjaqM/AAAAAAAAAAI/AAAAAAAAADs/35wbnA9B3WM/s64/photo.jpg",
      "userId": "11987022453046813676"
     },
     "user_tz": -330
    },
    "id": "0zMhTJ0vhLWo",
    "outputId": "b4cf1142-e417-49bf-df3b-875656169a02"
   },
   "outputs": [
    {
     "name": "stdout",
     "output_type": "stream",
     "text": [
      "(100000, 13)\n"
     ]
    }
   ],
   "source": [
    "# Removing duplicate reviews\n",
    "final=filtered_data.drop_duplicates(subset={\"UserId\",\"ProfileName\",\"Time\",\"Text\"}, keep='first', inplace=False)\n",
    "print(final.shape)"
   ]
  },
  {
   "cell_type": "code",
   "execution_count": 28,
   "metadata": {
    "colab": {
     "base_uri": "https://localhost:8080/",
     "height": 34
    },
    "colab_type": "code",
    "collapsed": false,
    "executionInfo": {
     "elapsed": 627,
     "status": "ok",
     "timestamp": 1552136642295,
     "user": {
      "displayName": "Rajendra Choudhary",
      "photoUrl": "https://lh3.googleusercontent.com/-H2n68bMjaqM/AAAAAAAAAAI/AAAAAAAAADs/35wbnA9B3WM/s64/photo.jpg",
      "userId": "11987022453046813676"
     },
     "user_tz": -330
    },
    "id": "ix6PYTOQhLWv",
    "outputId": "fec5624d-ef8c-4558-bdd0-41926bdbef1b"
   },
   "outputs": [
    {
     "data": {
      "text/plain": [
       "100.0"
      ]
     },
     "execution_count": 28,
     "metadata": {
      "tags": []
     },
     "output_type": "execute_result"
    }
   ],
   "source": [
    "(final['Id'].size*1.0)/(filtered_data['Id'].size*1.0)*100"
   ]
  },
  {
   "cell_type": "code",
   "execution_count": 0,
   "metadata": {
    "colab": {},
    "colab_type": "code",
    "collapsed": true,
    "id": "5JaUI9ahhLW1"
   },
   "outputs": [],
   "source": [
    "final=final[final.HelpfulnessNumerator<=final.HelpfulnessDenominator]"
   ]
  },
  {
   "cell_type": "code",
   "execution_count": 30,
   "metadata": {
    "colab": {
     "base_uri": "https://localhost:8080/",
     "height": 85
    },
    "colab_type": "code",
    "collapsed": false,
    "executionInfo": {
     "elapsed": 615,
     "status": "ok",
     "timestamp": 1552136645358,
     "user": {
      "displayName": "Rajendra Choudhary",
      "photoUrl": "https://lh3.googleusercontent.com/-H2n68bMjaqM/AAAAAAAAAAI/AAAAAAAAADs/35wbnA9B3WM/s64/photo.jpg",
      "userId": "11987022453046813676"
     },
     "user_tz": -330
    },
    "id": "TblGL0GNhLW6",
    "outputId": "c7f243a5-9703-4d08-9176-66341d879122"
   },
   "outputs": [
    {
     "name": "stdout",
     "output_type": "stream",
     "text": [
      "(100000, 13)\n"
     ]
    },
    {
     "data": {
      "text/plain": [
       "1    87729\n",
       "0    12271\n",
       "Name: Score, dtype: int64"
      ]
     },
     "execution_count": 30,
     "metadata": {
      "tags": []
     },
     "output_type": "execute_result"
    }
   ],
   "source": [
    "#Before starting the next phase of preprocessing lets see the number of entries left\n",
    "print(final.shape)\n",
    "\n",
    "#How many positive and negative reviews are present in our dataset?\n",
    "final['Score'].value_counts()"
   ]
  },
  {
   "cell_type": "code",
   "execution_count": 31,
   "metadata": {
    "colab": {
     "base_uri": "https://localhost:8080/",
     "height": 119
    },
    "colab_type": "code",
    "collapsed": false,
    "executionInfo": {
     "elapsed": 1080,
     "status": "ok",
     "timestamp": 1552136648333,
     "user": {
      "displayName": "Rajendra Choudhary",
      "photoUrl": "https://lh3.googleusercontent.com/-H2n68bMjaqM/AAAAAAAAAAI/AAAAAAAAADs/35wbnA9B3WM/s64/photo.jpg",
      "userId": "11987022453046813676"
     },
     "user_tz": -330
    },
    "id": "g2ZzJLwghLXC",
    "outputId": "0c3518f4-5c76-41e4-fe0b-4bfd9e5bc92a"
   },
   "outputs": [
    {
     "data": {
      "text/plain": [
       "117924    EVERY book is educational. this witty little b...\n",
       "117901    This whole series is great way to spend time w...\n",
       "298792    Entertainingl Funny!. Beetlejuice is a well wr...\n",
       "169281    A modern day fairy tale. A twist of rumplestis...\n",
       "298791    FANTASTIC!. Beetlejuice is an excellent and fu...\n",
       "Name: cleanReview, dtype: object"
      ]
     },
     "execution_count": 31,
     "metadata": {
      "tags": []
     },
     "output_type": "execute_result"
    }
   ],
   "source": [
    "final[\"cleanReview\"] = final[\"Summary\"].map(str) + \". \" + final[\"Text\"]\n",
    "final['cleanReview'].head()"
   ]
  },
  {
   "cell_type": "code",
   "execution_count": 32,
   "metadata": {
    "colab": {
     "base_uri": "https://localhost:8080/",
     "height": 119
    },
    "colab_type": "code",
    "collapsed": false,
    "executionInfo": {
     "elapsed": 2354,
     "status": "ok",
     "timestamp": 1552136651580,
     "user": {
      "displayName": "Rajendra Choudhary",
      "photoUrl": "https://lh3.googleusercontent.com/-H2n68bMjaqM/AAAAAAAAAAI/AAAAAAAAADs/35wbnA9B3WM/s64/photo.jpg",
      "userId": "11987022453046813676"
     },
     "user_tz": -330
    },
    "id": "-86V0woThLXN",
    "outputId": "8eb7d3ed-44ea-4ad2-b71e-a9e2c5645317"
   },
   "outputs": [
    {
     "data": {
      "text/plain": [
       "117924    78\n",
       "117901    90\n",
       "298792    31\n",
       "169281    41\n",
       "298791    44\n",
       "Name: lengthOfReview, dtype: int64"
      ]
     },
     "execution_count": 32,
     "metadata": {
      "tags": []
     },
     "output_type": "execute_result"
    }
   ],
   "source": [
    "final['lengthOfReview'] = final['cleanReview'].str.split().str.len()\n",
    "final['lengthOfReview'].head()"
   ]
  },
  {
   "cell_type": "code",
   "execution_count": 0,
   "metadata": {
    "colab": {},
    "colab_type": "code",
    "collapsed": false,
    "id": "jwrfY6CJhLXW",
    "outputId": "58b399d2-da45-4bb0-8da3-f2145bfafe73"
   },
   "outputs": [
    {
     "name": "stderr",
     "output_type": "stream",
     "text": [
      "100%|██████████████████████████████████████████████████████████████████████████████████████████████████| 364171/364171 [00:01<00:00, 313040.89it/s]\n"
     ]
    }
   ],
   "source": [
    "#remove urls from text python\n",
    "from tqdm import tqdm\n",
    "lst = []\n",
    "removed_urls_list = []\n",
    "for text in tqdm(final['Text']):\n",
    "  removed_urls_text = re.sub(r\"http\\S+\", \"\", text)\n",
    "  lst.append(removed_urls_text)"
   ]
  },
  {
   "cell_type": "code",
   "execution_count": 0,
   "metadata": {
    "colab": {},
    "colab_type": "code",
    "collapsed": false,
    "id": "abhaKikUhLXc",
    "outputId": "eadd10e5-bc1c-4a71-f776-85c0591daf5f"
   },
   "outputs": [
    {
     "name": "stderr",
     "output_type": "stream",
     "text": [
      "100%|██████████████████████████████████████████████████████████████████████████████████████████████████| 364171/364171 [00:01<00:00, 343430.96it/s]\n"
     ]
    }
   ],
   "source": [
    "#remove urls from text python\n",
    "removed_urls_list = []\n",
    "for text in tqdm(lst):\n",
    "  removed_urls_text = re.sub(r\"http\\S+\", \"\", text)\n",
    "  removed_urls_list.append(removed_urls_text)"
   ]
  },
  {
   "cell_type": "code",
   "execution_count": 0,
   "metadata": {
    "colab": {},
    "colab_type": "code",
    "collapsed": false,
    "id": "9yISBP2XhLXh",
    "outputId": "4c04f0b2-f9a7-4df1-b584-130ee3fd9eb1"
   },
   "outputs": [
    {
     "name": "stderr",
     "output_type": "stream",
     "text": [
      "100%|████████████████████████████████████████████████████████████████████████████████████████████████████| 364171/364171 [02:16<00:00, 2662.25it/s]\n"
     ]
    }
   ],
   "source": [
    "from bs4 import BeautifulSoup\n",
    "text_lst = []\n",
    "for text in tqdm(removed_urls_list):\n",
    "  soup = BeautifulSoup(text, 'lxml')\n",
    "  text = soup.get_text()\n",
    "  text_lst.append(text)\n",
    "# print(text)\n",
    "# print(\"=\"*50)"
   ]
  },
  {
   "cell_type": "code",
   "execution_count": 0,
   "metadata": {
    "colab": {},
    "colab_type": "code",
    "collapsed": false,
    "id": "aeNuAz-MhLXo",
    "outputId": "d6b7e4b9-5c72-4730-f049-90ce6cce9460"
   },
   "outputs": [
    {
     "name": "stdout",
     "output_type": "stream",
     "text": [
      "364171\n"
     ]
    }
   ],
   "source": [
    "print(len(final['Text']))"
   ]
  },
  {
   "cell_type": "code",
   "execution_count": 0,
   "metadata": {
    "colab": {},
    "colab_type": "code",
    "collapsed": true,
    "id": "Tjk6Ify7hLXw"
   },
   "outputs": [],
   "source": [
    "# https://stackoverflow.com/a/47091490/4084039\n",
    "import re\n",
    "\n",
    "def decontracted(phrase):\n",
    "    # specific\n",
    "    phrase = re.sub(r\"won't\", \"will not\", phrase)\n",
    "    phrase = re.sub(r\"can\\'t\", \"can not\", phrase)\n",
    "\n",
    "    # general\n",
    "    phrase = re.sub(r\"n\\'t\", \" not\", phrase)\n",
    "    phrase = re.sub(r\"\\'re\", \" are\", phrase)\n",
    "    phrase = re.sub(r\"\\'s\", \" is\", phrase)\n",
    "    phrase = re.sub(r\"\\'d\", \" would\", phrase)\n",
    "    phrase = re.sub(r\"\\'ll\", \" will\", phrase)\n",
    "    phrase = re.sub(r\"\\'t\", \" not\", phrase)\n",
    "    phrase = re.sub(r\"\\'ve\", \" have\", phrase)\n",
    "    phrase = re.sub(r\"\\'m\", \" am\", phrase)\n",
    "    return phrase"
   ]
  },
  {
   "cell_type": "code",
   "execution_count": 0,
   "metadata": {
    "colab": {},
    "colab_type": "code",
    "collapsed": false,
    "id": "jm3zci1IhLX0",
    "outputId": "bc7b9e4c-7eaf-4cb1-e79b-92c872861077"
   },
   "outputs": [
    {
     "name": "stderr",
     "output_type": "stream",
     "text": [
      "100%|███████████████████████████████████████████████████████████████████████████████████████████████████| 364171/364171 [00:06<00:00, 53616.87it/s]\n"
     ]
    }
   ],
   "source": [
    "decat_lst = []\n",
    "for decat_text in tqdm(text_lst):\n",
    "  text = decontracted(decat_text)\n",
    "  decat_lst.append(text)"
   ]
  },
  {
   "cell_type": "code",
   "execution_count": 0,
   "metadata": {
    "colab": {},
    "colab_type": "code",
    "collapsed": false,
    "id": "zMDIX2TFhLX7",
    "outputId": "90f55104-af1b-40d5-aee8-d47d121b5625"
   },
   "outputs": [
    {
     "name": "stderr",
     "output_type": "stream",
     "text": [
      "100%|███████████████████████████████████████████████████████████████████████████████████████████████████| 364171/364171 [00:30<00:00, 11914.41it/s]\n"
     ]
    }
   ],
   "source": [
    "strip_list = []\n",
    "for to_strip in tqdm(decat_lst):\n",
    "  text = re.sub(\"\\S*\\d\\S*\", \"\", to_strip).strip()\n",
    "  strip_list.append(text)"
   ]
  },
  {
   "cell_type": "code",
   "execution_count": 0,
   "metadata": {
    "colab": {},
    "colab_type": "code",
    "collapsed": false,
    "id": "CVngllHNhLYC",
    "outputId": "228bb1f2-f084-42a7-b141-0c1807bb21cd"
   },
   "outputs": [
    {
     "name": "stderr",
     "output_type": "stream",
     "text": [
      "100%|███████████████████████████████████████████████████████████████████████████████████████████████████| 364171/364171 [00:20<00:00, 18059.44it/s]\n"
     ]
    }
   ],
   "source": [
    "spatial_list = []\n",
    "for to_spatial in tqdm(strip_list):\n",
    "  text = re.sub('[^A-Za-z0-9]+', ' ', to_spatial)\n",
    "  spatial_list.append(text)"
   ]
  },
  {
   "cell_type": "code",
   "execution_count": 0,
   "metadata": {
    "colab": {},
    "colab_type": "code",
    "collapsed": true,
    "id": "NHcUAU_bhLYN"
   },
   "outputs": [],
   "source": [
    "stopwords= set(['br', 'the', 'i', 'me', 'my', 'myself', 'we', 'our', 'ours', 'ourselves', 'you', \"you're\", \"you've\",\\\n",
    "            \"you'll\", \"you'd\", 'your', 'yours', 'yourself', 'yourselves', 'he', 'him', 'his', 'himself', \\\n",
    "            'she', \"she's\", 'her', 'hers', 'herself', 'it', \"it's\", 'its', 'itself', 'they', 'them', 'their',\\\n",
    "            'theirs', 'themselves', 'what', 'which', 'who', 'whom', 'this', 'that', \"that'll\", 'these', 'those', \\\n",
    "            'am', 'is', 'are', 'was', 'were', 'be', 'been', 'being', 'have', 'has', 'had', 'having', 'do', 'does', \\\n",
    "            'did', 'doing', 'a', 'an', 'the', 'and', 'but', 'if', 'or', 'because', 'as', 'until', 'while', 'of', \\\n",
    "            'at', 'by', 'for', 'with', 'about', 'against', 'between', 'into', 'through', 'during', 'before', 'after',\\\n",
    "            'above', 'below', 'to', 'from', 'up', 'down', 'in', 'out', 'on', 'off', 'over', 'under', 'again', 'further',\\\n",
    "            'then', 'once', 'here', 'there', 'when', 'where', 'why', 'how', 'all', 'any', 'both', 'each', 'few', 'more',\\\n",
    "            'most', 'other', 'some', 'such', 'only', 'own', 'same', 'so', 'than', 'too', 'very', \\\n",
    "            's', 't', 'can', 'will', 'just', 'don', \"don't\", 'should', \"should've\", 'now', 'd', 'll', 'm', 'o', 're', \\\n",
    "            've', 'y', 'ain', 'aren', \"aren't\", 'couldn', \"couldn't\", 'didn', \"didn't\", 'doesn', \"doesn't\", 'hadn',\\\n",
    "            \"hadn't\", 'hasn', \"hasn't\", 'haven', \"haven't\", 'isn', \"isn't\", 'ma', 'mightn', \"mightn't\", 'mustn',\\\n",
    "            \"mustn't\", 'needn', \"needn't\", 'shan', \"shan't\", 'shouldn', \"shouldn't\", 'wasn', \"wasn't\", 'weren', \"weren't\", \\\n",
    "            'won', \"won't\", 'wouldn', \"wouldn't\"])"
   ]
  },
  {
   "cell_type": "code",
   "execution_count": 0,
   "metadata": {
    "colab": {},
    "colab_type": "code",
    "collapsed": false,
    "id": "cetNnYTjhLYS",
    "outputId": "a20ed99f-2237-4225-e349-41c58862a696"
   },
   "outputs": [
    {
     "name": "stderr",
     "output_type": "stream",
     "text": [
      "100%|████████████████████████████████████████████████████████████████████████████████████████████████████| 364171/364171 [03:37<00:00, 1671.64it/s]\n"
     ]
    }
   ],
   "source": [
    "# Combining all the above stundents \n",
    "preprocessed_reviews = []\n",
    "# tqdm is for printing the status bar\n",
    "for sentance in tqdm(spatial_list):\n",
    "    sentance = re.sub(r\"http\\S+\", \"\", sentance)\n",
    "    sentance = BeautifulSoup(sentance, 'lxml').get_text()\n",
    "    sentance = decontracted(sentance)\n",
    "    sentance = re.sub(\"\\S*\\d\\S*\", \"\", sentance).strip()\n",
    "    sentance = re.sub('[^A-Za-z]+', ' ', sentance)\n",
    "    # https://gist.github.com/sebleier/554280\n",
    "    sentance = ' '.join(e.lower() for e in sentance.split() if e.lower() not in stopwords)\n",
    "    preprocessed_reviews.append(sentance.strip())"
   ]
  },
  {
   "cell_type": "code",
   "execution_count": 0,
   "metadata": {
    "colab": {},
    "colab_type": "code",
    "collapsed": false,
    "id": "qUbYV3IIhLYb",
    "outputId": "85985213-e21a-4864-f9c3-acb373ca4a55"
   },
   "outputs": [
    {
     "name": "stdout",
     "output_type": "stream",
     "text": [
      "364171\n"
     ]
    },
    {
     "data": {
      "text/plain": [
       "'satisfied product advertised use cereal raw vinegar general sweetner'"
      ]
     },
     "execution_count": 21,
     "metadata": {
      "tags": []
     },
     "output_type": "execute_result"
    }
   ],
   "source": [
    "print(len(preprocessed_reviews))\n",
    "preprocessed_reviews[-1]"
   ]
  },
  {
   "cell_type": "code",
   "execution_count": 0,
   "metadata": {
    "colab": {},
    "colab_type": "code",
    "collapsed": true,
    "id": "5XsfjAnnhLYi"
   },
   "outputs": [],
   "source": [
    "final['Preprocessed_text'] = preprocessed_reviews"
   ]
  },
  {
   "cell_type": "code",
   "execution_count": 0,
   "metadata": {
    "colab": {},
    "colab_type": "code",
    "collapsed": false,
    "id": "hzWyEUXwhLYl",
    "outputId": "a1ae92a8-4122-46e8-8a78-4122af9179c4"
   },
   "outputs": [
    {
     "name": "stdout",
     "output_type": "stream",
     "text": [
      "364171\n"
     ]
    },
    {
     "data": {
      "text/html": [
       "<div>\n",
       "<style scoped>\n",
       "    .dataframe tbody tr th:only-of-type {\n",
       "        vertical-align: middle;\n",
       "    }\n",
       "\n",
       "    .dataframe tbody tr th {\n",
       "        vertical-align: top;\n",
       "    }\n",
       "\n",
       "    .dataframe thead th {\n",
       "        text-align: right;\n",
       "    }\n",
       "</style>\n",
       "<table border=\"1\" class=\"dataframe\">\n",
       "  <thead>\n",
       "    <tr style=\"text-align: right;\">\n",
       "      <th></th>\n",
       "      <th>Id</th>\n",
       "      <th>ProductId</th>\n",
       "      <th>UserId</th>\n",
       "      <th>ProfileName</th>\n",
       "      <th>HelpfulnessNumerator</th>\n",
       "      <th>HelpfulnessDenominator</th>\n",
       "      <th>Score</th>\n",
       "      <th>Time</th>\n",
       "      <th>Summary</th>\n",
       "      <th>Text</th>\n",
       "      <th>cleanReview</th>\n",
       "      <th>lengthOfReview</th>\n",
       "      <th>Preprocessed_text</th>\n",
       "    </tr>\n",
       "  </thead>\n",
       "  <tbody>\n",
       "    <tr>\n",
       "      <th>525809</th>\n",
       "      <td>568450</td>\n",
       "      <td>B001EO7N10</td>\n",
       "      <td>A28KG5XORO54AY</td>\n",
       "      <td>Lettie D. Carter</td>\n",
       "      <td>0</td>\n",
       "      <td>0</td>\n",
       "      <td>1</td>\n",
       "      <td>1299628800</td>\n",
       "      <td>Will not do without</td>\n",
       "      <td>Great for sesame chicken..this is a good if no...</td>\n",
       "      <td>Will not do without. Great for sesame chicken....</td>\n",
       "      <td>30</td>\n",
       "      <td>great sesame chicken good not better resturant...</td>\n",
       "    </tr>\n",
       "    <tr>\n",
       "      <th>525810</th>\n",
       "      <td>568451</td>\n",
       "      <td>B003S1WTCU</td>\n",
       "      <td>A3I8AFVPEE8KI5</td>\n",
       "      <td>R. Sawyer</td>\n",
       "      <td>0</td>\n",
       "      <td>0</td>\n",
       "      <td>0</td>\n",
       "      <td>1331251200</td>\n",
       "      <td>disappointed</td>\n",
       "      <td>I'm disappointed with the flavor. The chocolat...</td>\n",
       "      <td>disappointed. I'm disappointed with the flavor...</td>\n",
       "      <td>47</td>\n",
       "      <td>disappointed flavor chocolate notes especially...</td>\n",
       "    </tr>\n",
       "    <tr>\n",
       "      <th>525811</th>\n",
       "      <td>568452</td>\n",
       "      <td>B004I613EE</td>\n",
       "      <td>A121AA1GQV751Z</td>\n",
       "      <td>pksd \"pk_007\"</td>\n",
       "      <td>2</td>\n",
       "      <td>2</td>\n",
       "      <td>1</td>\n",
       "      <td>1329782400</td>\n",
       "      <td>Perfect for our maltipoo</td>\n",
       "      <td>These stars are small, so you can give 10-15 o...</td>\n",
       "      <td>Perfect for our maltipoo. These stars are smal...</td>\n",
       "      <td>70</td>\n",
       "      <td>stars small give one training session tried tr...</td>\n",
       "    </tr>\n",
       "    <tr>\n",
       "      <th>525812</th>\n",
       "      <td>568453</td>\n",
       "      <td>B004I613EE</td>\n",
       "      <td>A3IBEVCTXKNOH</td>\n",
       "      <td>Kathy A. Welch \"katwel\"</td>\n",
       "      <td>1</td>\n",
       "      <td>1</td>\n",
       "      <td>1</td>\n",
       "      <td>1331596800</td>\n",
       "      <td>Favorite Training and reward treat</td>\n",
       "      <td>These are the BEST treats for training and rew...</td>\n",
       "      <td>Favorite Training and reward treat. These are ...</td>\n",
       "      <td>40</td>\n",
       "      <td>best treats training rewarding dog good groomi...</td>\n",
       "    </tr>\n",
       "    <tr>\n",
       "      <th>525813</th>\n",
       "      <td>568454</td>\n",
       "      <td>B001LR2CU2</td>\n",
       "      <td>A3LGQPJCZVL9UC</td>\n",
       "      <td>srfell17</td>\n",
       "      <td>0</td>\n",
       "      <td>0</td>\n",
       "      <td>1</td>\n",
       "      <td>1338422400</td>\n",
       "      <td>Great Honey</td>\n",
       "      <td>I am very satisfied ,product is as advertised,...</td>\n",
       "      <td>Great Honey. I am very satisfied ,product is a...</td>\n",
       "      <td>23</td>\n",
       "      <td>satisfied product advertised use cereal raw vi...</td>\n",
       "    </tr>\n",
       "  </tbody>\n",
       "</table>\n",
       "</div>"
      ],
      "text/plain": [
       "            Id   ProductId          UserId              ProfileName  \\\n",
       "525809  568450  B001EO7N10  A28KG5XORO54AY         Lettie D. Carter   \n",
       "525810  568451  B003S1WTCU  A3I8AFVPEE8KI5                R. Sawyer   \n",
       "525811  568452  B004I613EE  A121AA1GQV751Z            pksd \"pk_007\"   \n",
       "525812  568453  B004I613EE   A3IBEVCTXKNOH  Kathy A. Welch \"katwel\"   \n",
       "525813  568454  B001LR2CU2  A3LGQPJCZVL9UC                 srfell17   \n",
       "\n",
       "        HelpfulnessNumerator  HelpfulnessDenominator  Score        Time  \\\n",
       "525809                     0                       0      1  1299628800   \n",
       "525810                     0                       0      0  1331251200   \n",
       "525811                     2                       2      1  1329782400   \n",
       "525812                     1                       1      1  1331596800   \n",
       "525813                     0                       0      1  1338422400   \n",
       "\n",
       "                                   Summary  \\\n",
       "525809                 Will not do without   \n",
       "525810                        disappointed   \n",
       "525811            Perfect for our maltipoo   \n",
       "525812  Favorite Training and reward treat   \n",
       "525813                         Great Honey   \n",
       "\n",
       "                                                     Text  \\\n",
       "525809  Great for sesame chicken..this is a good if no...   \n",
       "525810  I'm disappointed with the flavor. The chocolat...   \n",
       "525811  These stars are small, so you can give 10-15 o...   \n",
       "525812  These are the BEST treats for training and rew...   \n",
       "525813  I am very satisfied ,product is as advertised,...   \n",
       "\n",
       "                                              cleanReview  lengthOfReview  \\\n",
       "525809  Will not do without. Great for sesame chicken....              30   \n",
       "525810  disappointed. I'm disappointed with the flavor...              47   \n",
       "525811  Perfect for our maltipoo. These stars are smal...              70   \n",
       "525812  Favorite Training and reward treat. These are ...              40   \n",
       "525813  Great Honey. I am very satisfied ,product is a...              23   \n",
       "\n",
       "                                        Preprocessed_text  \n",
       "525809  great sesame chicken good not better resturant...  \n",
       "525810  disappointed flavor chocolate notes especially...  \n",
       "525811  stars small give one training session tried tr...  \n",
       "525812  best treats training rewarding dog good groomi...  \n",
       "525813  satisfied product advertised use cereal raw vi...  "
      ]
     },
     "execution_count": 23,
     "metadata": {
      "tags": []
     },
     "output_type": "execute_result"
    }
   ],
   "source": [
    "print(len(final))\n",
    "final.tail(5)"
   ]
  },
  {
   "cell_type": "code",
   "execution_count": 2,
   "metadata": {
    "colab": {},
    "colab_type": "code",
    "collapsed": false,
    "id": "OR6soC24hLYs"
   },
   "outputs": [],
   "source": [
    "dir_path = os.getcwd()\n",
    "# conn = sqlite3.connect(os.path.join(dir_path, '/content/gdrive/My Drive/Colab Notebooks/SVM/final.sqlite'))\n",
    "conn = sqlite3.connect(os.path.join(dir_path, 'final.sqlite'))\n",
    "# final.to_sql('Reviews', conn, if_exists='replace', index=False)"
   ]
  },
  {
   "cell_type": "code",
   "execution_count": 3,
   "metadata": {
    "colab": {
     "base_uri": "https://localhost:8080/",
     "height": 51
    },
    "colab_type": "code",
    "collapsed": false,
    "executionInfo": {
     "elapsed": 6979,
     "status": "ok",
     "timestamp": 1552136201761,
     "user": {
      "displayName": "Rajendra Choudhary",
      "photoUrl": "https://lh3.googleusercontent.com/-H2n68bMjaqM/AAAAAAAAAAI/AAAAAAAAADs/35wbnA9B3WM/s64/photo.jpg",
      "userId": "11987022453046813676"
     },
     "user_tz": -330
    },
    "id": "A1O909cihLYw",
    "outputId": "86c06dc3-4f68-4dc4-d916-b4897a84602b"
   },
   "outputs": [
    {
     "name": "stdout",
     "output_type": "stream",
     "text": [
      "   count(*)\n",
      "0    364171\n"
     ]
    }
   ],
   "source": [
    "review_3 = pd.read_sql_query(\"\"\" SELECT count(*) FROM Reviews\"\"\", conn)\n",
    "print(review_3)"
   ]
  },
  {
   "cell_type": "code",
   "execution_count": 4,
   "metadata": {
    "colab": {},
    "colab_type": "code",
    "collapsed": true,
    "id": "znnFBKCrhLY4"
   },
   "outputs": [],
   "source": [
    "filtered_data = pd.read_sql_query(\"\"\" SELECT * FROM Reviews\"\"\", conn)"
   ]
  },
  {
   "cell_type": "code",
   "execution_count": 5,
   "metadata": {
    "colab": {
     "base_uri": "https://localhost:8080/",
     "height": 34
    },
    "colab_type": "code",
    "collapsed": false,
    "executionInfo": {
     "elapsed": 1019,
     "status": "ok",
     "timestamp": 1552136209789,
     "user": {
      "displayName": "Rajendra Choudhary",
      "photoUrl": "https://lh3.googleusercontent.com/-H2n68bMjaqM/AAAAAAAAAAI/AAAAAAAAADs/35wbnA9B3WM/s64/photo.jpg",
      "userId": "11987022453046813676"
     },
     "user_tz": -330
    },
    "id": "h0nZzaglhLZB",
    "outputId": "e129de1d-7eef-430a-f956-34520e57316b"
   },
   "outputs": [
    {
     "data": {
      "text/plain": [
       "(364171, 12)"
      ]
     },
     "execution_count": 5,
     "metadata": {},
     "output_type": "execute_result"
    }
   ],
   "source": [
    "filtered_data.shape"
   ]
  },
  {
   "cell_type": "code",
   "execution_count": 6,
   "metadata": {
    "colab": {},
    "colab_type": "code",
    "collapsed": true,
    "id": "wTPWhDCShLZG"
   },
   "outputs": [],
   "source": [
    "filtered_data[\"Time\"] = pd.to_datetime(filtered_data[\"Time\"], unit = \"s\")\n",
    "filtered_data = filtered_data.sort_values(by = \"Time\")"
   ]
  },
  {
   "cell_type": "code",
   "execution_count": 7,
   "metadata": {
    "colab": {
     "base_uri": "https://localhost:8080/",
     "height": 547
    },
    "colab_type": "code",
    "collapsed": false,
    "executionInfo": {
     "elapsed": 632,
     "status": "ok",
     "timestamp": 1552136217689,
     "user": {
      "displayName": "Rajendra Choudhary",
      "photoUrl": "https://lh3.googleusercontent.com/-H2n68bMjaqM/AAAAAAAAAAI/AAAAAAAAADs/35wbnA9B3WM/s64/photo.jpg",
      "userId": "11987022453046813676"
     },
     "user_tz": -330
    },
    "id": "q6m8WiuzhLZK",
    "outputId": "3e59e1f8-6961-4b5b-d3c0-8c8e9e5befa3"
   },
   "outputs": [
    {
     "data": {
      "text/html": [
       "<div>\n",
       "<style scoped>\n",
       "    .dataframe tbody tr th:only-of-type {\n",
       "        vertical-align: middle;\n",
       "    }\n",
       "\n",
       "    .dataframe tbody tr th {\n",
       "        vertical-align: top;\n",
       "    }\n",
       "\n",
       "    .dataframe thead th {\n",
       "        text-align: right;\n",
       "    }\n",
       "</style>\n",
       "<table border=\"1\" class=\"dataframe\">\n",
       "  <thead>\n",
       "    <tr style=\"text-align: right;\">\n",
       "      <th></th>\n",
       "      <th>Id</th>\n",
       "      <th>ProductId</th>\n",
       "      <th>UserId</th>\n",
       "      <th>ProfileName</th>\n",
       "      <th>HelpfulnessNumerator</th>\n",
       "      <th>HelpfulnessDenominator</th>\n",
       "      <th>Score</th>\n",
       "      <th>Time</th>\n",
       "      <th>Summary</th>\n",
       "      <th>Text</th>\n",
       "      <th>cleanReview</th>\n",
       "      <th>lengthOfReview</th>\n",
       "    </tr>\n",
       "  </thead>\n",
       "  <tbody>\n",
       "    <tr>\n",
       "      <th>117924</th>\n",
       "      <td>150524</td>\n",
       "      <td>0006641040</td>\n",
       "      <td>ACITT7DI6IDDL</td>\n",
       "      <td>shari zychinski</td>\n",
       "      <td>0</td>\n",
       "      <td>0</td>\n",
       "      <td>1</td>\n",
       "      <td>1999-10-08</td>\n",
       "      <td>EVERY book is educational</td>\n",
       "      <td>this witty little book makes my son laugh at l...</td>\n",
       "      <td>every book educational witty little book makes...</td>\n",
       "      <td>38</td>\n",
       "    </tr>\n",
       "    <tr>\n",
       "      <th>117901</th>\n",
       "      <td>150501</td>\n",
       "      <td>0006641040</td>\n",
       "      <td>AJ46FKXOVC7NR</td>\n",
       "      <td>Nicholas A Mesiano</td>\n",
       "      <td>2</td>\n",
       "      <td>2</td>\n",
       "      <td>1</td>\n",
       "      <td>1999-10-25</td>\n",
       "      <td>This whole series is great way to spend time w...</td>\n",
       "      <td>I can remember seeing the show when it aired o...</td>\n",
       "      <td>whole series great way spend time child rememb...</td>\n",
       "      <td>39</td>\n",
       "    </tr>\n",
       "    <tr>\n",
       "      <th>298792</th>\n",
       "      <td>451856</td>\n",
       "      <td>B00004CXX9</td>\n",
       "      <td>AIUWLEQ1ADEG5</td>\n",
       "      <td>Elizabeth Medina</td>\n",
       "      <td>0</td>\n",
       "      <td>0</td>\n",
       "      <td>1</td>\n",
       "      <td>1999-12-02</td>\n",
       "      <td>Entertainingl Funny!</td>\n",
       "      <td>Beetlejuice is a well written movie ..... ever...</td>\n",
       "      <td>entertainingl funny beetlejuice well written m...</td>\n",
       "      <td>15</td>\n",
       "    </tr>\n",
       "    <tr>\n",
       "      <th>169281</th>\n",
       "      <td>230285</td>\n",
       "      <td>B00004RYGX</td>\n",
       "      <td>A344SMIA5JECGM</td>\n",
       "      <td>Vincent P. Ross</td>\n",
       "      <td>1</td>\n",
       "      <td>2</td>\n",
       "      <td>1</td>\n",
       "      <td>1999-12-06</td>\n",
       "      <td>A modern day fairy tale</td>\n",
       "      <td>A twist of rumplestiskin captured on film, sta...</td>\n",
       "      <td>modern day fairy tale twist rumplestiskin capt...</td>\n",
       "      <td>25</td>\n",
       "    </tr>\n",
       "    <tr>\n",
       "      <th>298791</th>\n",
       "      <td>451855</td>\n",
       "      <td>B00004CXX9</td>\n",
       "      <td>AJH6LUC1UT1ON</td>\n",
       "      <td>The Phantom of the Opera</td>\n",
       "      <td>0</td>\n",
       "      <td>0</td>\n",
       "      <td>1</td>\n",
       "      <td>2000-01-03</td>\n",
       "      <td>FANTASTIC!</td>\n",
       "      <td>Beetlejuice is an excellent and funny movie. K...</td>\n",
       "      <td>fantastic beetlejuice excellent funny movie ke...</td>\n",
       "      <td>26</td>\n",
       "    </tr>\n",
       "  </tbody>\n",
       "</table>\n",
       "</div>"
      ],
      "text/plain": [
       "            Id   ProductId          UserId               ProfileName  \\\n",
       "117924  150524  0006641040   ACITT7DI6IDDL           shari zychinski   \n",
       "117901  150501  0006641040   AJ46FKXOVC7NR        Nicholas A Mesiano   \n",
       "298792  451856  B00004CXX9   AIUWLEQ1ADEG5          Elizabeth Medina   \n",
       "169281  230285  B00004RYGX  A344SMIA5JECGM           Vincent P. Ross   \n",
       "298791  451855  B00004CXX9   AJH6LUC1UT1ON  The Phantom of the Opera   \n",
       "\n",
       "        HelpfulnessNumerator  HelpfulnessDenominator  Score       Time  \\\n",
       "117924                     0                       0      1 1999-10-08   \n",
       "117901                     2                       2      1 1999-10-25   \n",
       "298792                     0                       0      1 1999-12-02   \n",
       "169281                     1                       2      1 1999-12-06   \n",
       "298791                     0                       0      1 2000-01-03   \n",
       "\n",
       "                                                  Summary  \\\n",
       "117924                          EVERY book is educational   \n",
       "117901  This whole series is great way to spend time w...   \n",
       "298792                               Entertainingl Funny!   \n",
       "169281                            A modern day fairy tale   \n",
       "298791                                         FANTASTIC!   \n",
       "\n",
       "                                                     Text  \\\n",
       "117924  this witty little book makes my son laugh at l...   \n",
       "117901  I can remember seeing the show when it aired o...   \n",
       "298792  Beetlejuice is a well written movie ..... ever...   \n",
       "169281  A twist of rumplestiskin captured on film, sta...   \n",
       "298791  Beetlejuice is an excellent and funny movie. K...   \n",
       "\n",
       "                                              cleanReview  lengthOfReview  \n",
       "117924  every book educational witty little book makes...              38  \n",
       "117901  whole series great way spend time child rememb...              39  \n",
       "298792  entertainingl funny beetlejuice well written m...              15  \n",
       "169281  modern day fairy tale twist rumplestiskin capt...              25  \n",
       "298791  fantastic beetlejuice excellent funny movie ke...              26  "
      ]
     },
     "execution_count": 7,
     "metadata": {},
     "output_type": "execute_result"
    }
   ],
   "source": [
    "filtered_data.head(5)"
   ]
  },
  {
   "cell_type": "code",
   "execution_count": 8,
   "metadata": {
    "colab": {
     "base_uri": "https://localhost:8080/",
     "height": 357
    },
    "colab_type": "code",
    "collapsed": false,
    "executionInfo": {
     "elapsed": 1049,
     "status": "ok",
     "timestamp": 1552136219612,
     "user": {
      "displayName": "Rajendra Choudhary",
      "photoUrl": "https://lh3.googleusercontent.com/-H2n68bMjaqM/AAAAAAAAAAI/AAAAAAAAADs/35wbnA9B3WM/s64/photo.jpg",
      "userId": "11987022453046813676"
     },
     "user_tz": -330
    },
    "id": "yIOn9j08hLZS",
    "outputId": "a2c4f651-7d9f-408e-8b11-7696a9479f1c"
   },
   "outputs": [
    {
     "name": "stdout",
     "output_type": "stream",
     "text": [
      "364171\n",
      "<class 'pandas.core.frame.DataFrame'>\n",
      "Int64Index: 364171 entries, 117924 to 107253\n",
      "Data columns (total 12 columns):\n",
      "Id                        364171 non-null int64\n",
      "ProductId                 364171 non-null object\n",
      "UserId                    364171 non-null object\n",
      "ProfileName               364171 non-null object\n",
      "HelpfulnessNumerator      364171 non-null int64\n",
      "HelpfulnessDenominator    364171 non-null int64\n",
      "Score                     364171 non-null int64\n",
      "Time                      364171 non-null datetime64[ns]\n",
      "Summary                   364171 non-null object\n",
      "Text                      364171 non-null object\n",
      "cleanReview               364171 non-null object\n",
      "lengthOfReview            364171 non-null int64\n",
      "dtypes: datetime64[ns](1), int64(5), object(6)\n",
      "memory usage: 36.1+ MB\n",
      "100000\n"
     ]
    }
   ],
   "source": [
    "print(len(filtered_data))\n",
    "filtered_data.info()\n",
    "filtered_data = filtered_data.head(100000)\n",
    "print(len(filtered_data))"
   ]
  },
  {
   "cell_type": "code",
   "execution_count": 9,
   "metadata": {
    "colab": {
     "base_uri": "https://localhost:8080/",
     "height": 68
    },
    "colab_type": "code",
    "collapsed": false,
    "executionInfo": {
     "elapsed": 634,
     "status": "ok",
     "timestamp": 1552136221090,
     "user": {
      "displayName": "Rajendra Choudhary",
      "photoUrl": "https://lh3.googleusercontent.com/-H2n68bMjaqM/AAAAAAAAAAI/AAAAAAAAADs/35wbnA9B3WM/s64/photo.jpg",
      "userId": "11987022453046813676"
     },
     "user_tz": -330
    },
    "id": "EXIgTn9ohLZe",
    "outputId": "32dbfe26-e9da-478f-bdf4-b722a3f3cdfc"
   },
   "outputs": [
    {
     "data": {
      "text/plain": [
       "1    87729\n",
       "0    12271\n",
       "Name: Score, dtype: int64"
      ]
     },
     "execution_count": 9,
     "metadata": {},
     "output_type": "execute_result"
    }
   ],
   "source": [
    "filtered_data['Score'].value_counts()"
   ]
  },
  {
   "cell_type": "code",
   "execution_count": 10,
   "metadata": {
    "colab": {
     "base_uri": "https://localhost:8080/",
     "height": 238
    },
    "colab_type": "code",
    "collapsed": false,
    "executionInfo": {
     "elapsed": 616,
     "status": "ok",
     "timestamp": 1552136222758,
     "user": {
      "displayName": "Rajendra Choudhary",
      "photoUrl": "https://lh3.googleusercontent.com/-H2n68bMjaqM/AAAAAAAAAAI/AAAAAAAAADs/35wbnA9B3WM/s64/photo.jpg",
      "userId": "11987022453046813676"
     },
     "user_tz": -330
    },
    "id": "85Xzxa-UhLZm",
    "outputId": "9a5bb0b0-456f-44e9-82e0-be36fe8cb256"
   },
   "outputs": [
    {
     "name": "stdout",
     "output_type": "stream",
     "text": [
      "shape of X: 117924    every book educational witty little book makes...\n",
      "117901    whole series great way spend time child rememb...\n",
      "298792    entertainingl funny beetlejuice well written m...\n",
      "169281    modern day fairy tale twist rumplestiskin capt...\n",
      "298791    fantastic beetlejuice excellent funny movie ke...\n",
      "Name: cleanReview, dtype: object\n",
      "None\n",
      "shape of y: 117924    1\n",
      "117901    1\n",
      "298792    1\n",
      "169281    1\n",
      "298791    1\n",
      "Name: Score, dtype: int64\n"
     ]
    }
   ],
   "source": [
    "X = filtered_data[\"cleanReview\"]\n",
    "print(print(\"shape of X:\", X.head(5)))\n",
    "y = filtered_data[\"Score\"]\n",
    "print(\"shape of y:\", y.head(5))\n",
    "X_len = filtered_data['lengthOfReview']"
   ]
  },
  {
   "cell_type": "code",
   "execution_count": 11,
   "metadata": {
    "colab": {
     "base_uri": "https://localhost:8080/",
     "height": 34
    },
    "colab_type": "code",
    "collapsed": false,
    "executionInfo": {
     "elapsed": 677,
     "status": "ok",
     "timestamp": 1552136224240,
     "user": {
      "displayName": "Rajendra Choudhary",
      "photoUrl": "https://lh3.googleusercontent.com/-H2n68bMjaqM/AAAAAAAAAAI/AAAAAAAAADs/35wbnA9B3WM/s64/photo.jpg",
      "userId": "11987022453046813676"
     },
     "user_tz": -330
    },
    "id": "0qf37OBjhLZu",
    "outputId": "051f7a34-e385-4e3d-906a-b70e863d7dfb"
   },
   "outputs": [
    {
     "data": {
      "text/plain": [
       "100000"
      ]
     },
     "execution_count": 11,
     "metadata": {},
     "output_type": "execute_result"
    }
   ],
   "source": [
    "len(filtered_data['lengthOfReview'])"
   ]
  },
  {
   "cell_type": "code",
   "execution_count": 12,
   "metadata": {
    "colab": {},
    "colab_type": "code",
    "collapsed": true,
    "id": "lYinjInshLZ_"
   },
   "outputs": [],
   "source": [
    "X_train = X[0:60000]\n",
    "Y_train = y[0:60000]\n",
    "X_val = X[60000:80000]\n",
    "Y_val = y[60000:80000]\n",
    "X_test = X[80000:100000]\n",
    "Y_test = y[80000:100000]"
   ]
  },
  {
   "cell_type": "code",
   "execution_count": 13,
   "metadata": {
    "colab": {},
    "colab_type": "code",
    "collapsed": false,
    "id": "A4pJHszRhLaD",
    "outputId": "925105fd-9735-4963-b3a8-0f12e792d3f3"
   },
   "outputs": [
    {
     "name": "stdout",
     "output_type": "stream",
     "text": [
      "60000 20000 20000\n",
      "60000 20000 20000\n"
     ]
    }
   ],
   "source": [
    "print(len(X_train), len(X_test), len(X_val))\n",
    "print(len(Y_train), len(Y_test), len(Y_val))"
   ]
  },
  {
   "cell_type": "markdown",
   "metadata": {
    "colab_type": "text",
    "id": "CG7vVT_JhLaH"
   },
   "source": [
    "# [4.1] BAG OF WORDS"
   ]
  },
  {
   "cell_type": "code",
   "execution_count": 14,
   "metadata": {
    "colab": {},
    "colab_type": "code",
    "collapsed": false,
    "id": "b68rM5sZhLaI",
    "outputId": "f7bd5a15-efea-43df-d022-1a2053643334"
   },
   "outputs": [
    {
     "name": "stdout",
     "output_type": "stream",
     "text": [
      "(60000, 47535)\n"
     ]
    }
   ],
   "source": [
    "from sklearn.feature_extraction.text import CountVectorizer \n",
    "\n",
    "count_vect = CountVectorizer()\n",
    "X_train_vect = count_vect.fit_transform(X_train)\n",
    "X_test_vect = count_vect.transform(X_test)\n",
    "X_val_vect = count_vect.transform(X_val)\n",
    "feature_names = count_vect.get_feature_names()\n",
    "# BoW_dict = {'X_train_vect':X_train_vect, 'X_test_vect': X_test_vect, 'X_val_vect': X_val_vect}\n",
    "print(X_train_vect.shape)\n",
    "# print(feature_names)"
   ]
  },
  {
   "cell_type": "code",
   "execution_count": 15,
   "metadata": {
    "colab": {},
    "colab_type": "code",
    "collapsed": false,
    "id": "k3pclVW1hLaS",
    "outputId": "0cd8d4cd-c3cd-46b9-fea9-dc9d059cc718"
   },
   "outputs": [
    {
     "data": {
      "text/plain": [
       "(60000, 47535)"
      ]
     },
     "execution_count": 15,
     "metadata": {},
     "output_type": "execute_result"
    }
   ],
   "source": [
    "X_train_vect.shape"
   ]
  },
  {
   "cell_type": "code",
   "execution_count": 17,
   "metadata": {
    "colab": {},
    "colab_type": "code",
    "collapsed": false,
    "id": "-H6odpk1hLac",
    "outputId": "76ee42c1-3888-48ef-f883-440ad1dbf785"
   },
   "outputs": [
    {
     "data": {
      "text/plain": [
       "100000"
      ]
     },
     "execution_count": 17,
     "metadata": {},
     "output_type": "execute_result"
    }
   ],
   "source": [
    "len(filtered_data['lengthOfReview'])"
   ]
  },
  {
   "cell_type": "code",
   "execution_count": 19,
   "metadata": {
    "colab": {},
    "colab_type": "code",
    "collapsed": false,
    "id": "DeiPuRhwhLah"
   },
   "outputs": [],
   "source": [
    "from scipy.sparse import hstack\n",
    "# len_review = final['lengthOfReview'].to_sparse()\n",
    "concat_data = hstack((X_train_vect,np.array(filtered_data['lengthOfReview'][0:60000])[:,None]))\n",
    "concat_data_val = hstack((X_val_vect,np.array(filtered_data['lengthOfReview'][60000:80000])[:,None]))\n",
    "concat_data_test = hstack((X_test_vect,np.array(filtered_data['lengthOfReview'][80000:100000])[:,None]))"
   ]
  },
  {
   "cell_type": "code",
   "execution_count": 20,
   "metadata": {
    "colab": {},
    "colab_type": "code",
    "collapsed": false,
    "id": "RIR0RzBUhLal",
    "outputId": "326b0b57-e2b7-4561-aa49-04db5bbd473c"
   },
   "outputs": [
    {
     "name": "stdout",
     "output_type": "stream",
     "text": [
      "(60000, 47536)\n",
      "(20000, 47536)\n",
      "(20000, 47536)\n"
     ]
    }
   ],
   "source": [
    "print(concat_data.shape)\n",
    "print(concat_data_val.shape)\n",
    "print(concat_data_test.shape)"
   ]
  },
  {
   "cell_type": "code",
   "execution_count": 21,
   "metadata": {
    "colab": {},
    "colab_type": "code",
    "collapsed": false,
    "id": "pTYRqcJthLas",
    "outputId": "804a8cc7-01e9-4577-873d-947bc2b8091c"
   },
   "outputs": [
    {
     "name": "stdout",
     "output_type": "stream",
     "text": [
      "47535\n"
     ]
    }
   ],
   "source": [
    "print(len(feature_names))"
   ]
  },
  {
   "cell_type": "code",
   "execution_count": 22,
   "metadata": {
    "colab": {},
    "colab_type": "code",
    "collapsed": false,
    "id": "Crlo-_BUhLa5",
    "outputId": "05f0247f-1e1e-4dd3-cb00-b9b531217972"
   },
   "outputs": [
    {
     "name": "stdout",
     "output_type": "stream",
     "text": [
      "(60000, 47536)\n"
     ]
    }
   ],
   "source": [
    "BoW_dict = {'X_train_vect':concat_data, 'X_test_vect': concat_data_test, 'X_val_vect': concat_data_val}\n",
    "print(BoW_dict['X_train_vect'].shape)"
   ]
  },
  {
   "cell_type": "code",
   "execution_count": 23,
   "metadata": {
    "colab": {},
    "colab_type": "code",
    "collapsed": true,
    "id": "1Vx_S-fPhLa-"
   },
   "outputs": [],
   "source": [
    "import pickle\n",
    "with open('BoW.pkl', 'wb') as handle:\n",
    "    pickle.dump(BoW_dict, handle, protocol=pickle.HIGHEST_PROTOCOL)"
   ]
  },
  {
   "cell_type": "markdown",
   "metadata": {
    "colab_type": "text",
    "id": "Ak83hZkhhLbE"
   },
   "source": [
    "# [4.3] TF-IDF"
   ]
  },
  {
   "cell_type": "code",
   "execution_count": 24,
   "metadata": {
    "colab": {},
    "colab_type": "code",
    "collapsed": false,
    "id": "EP2RDbg4hLbG",
    "outputId": "8a5a1861-700d-447f-d20b-b1a14e6f4354"
   },
   "outputs": [
    {
     "name": "stdout",
     "output_type": "stream",
     "text": [
      "the shape of out text TFIDF vectorizer  (60000, 35873)\n",
      "the type of count vectorizer  <class 'scipy.sparse.csr.csr_matrix'>\n",
      "the number of unique words including both unigrams and bigrams  35873\n"
     ]
    }
   ],
   "source": [
    "tf_idf_vect = TfidfVectorizer(ngram_range=(1,2), min_df=10)\n",
    "train_tf_idf = tf_idf_vect.fit_transform(X_train)\n",
    "cv_tf_idf = tf_idf_vect.transform(X_val)\n",
    "test_tf_idf = tf_idf_vect.transform(X_test)\n",
    "\n",
    "print(\"the shape of out text TFIDF vectorizer \",train_tf_idf.get_shape())\n",
    "print(\"the type of count vectorizer \",type(train_tf_idf))\n",
    "print(\"the number of unique words including both unigrams and bigrams \", train_tf_idf.get_shape()[1])"
   ]
  },
  {
   "cell_type": "code",
   "execution_count": 25,
   "metadata": {
    "colab": {},
    "colab_type": "code",
    "collapsed": false,
    "id": "zUUdceN2hLbK"
   },
   "outputs": [],
   "source": [
    "from scipy.sparse import hstack\n",
    "tfidf_concat_data_train = hstack((train_tf_idf,np.array(filtered_data['lengthOfReview'][0:60000])[:,None]))\n",
    "tfidf_concat_data_val = hstack((cv_tf_idf,np.array(filtered_data['lengthOfReview'][60000:80000])[:,None]))\n",
    "tfidf_concat_data_test = hstack((test_tf_idf,np.array(filtered_data['lengthOfReview'][80000:100000])[:,None]))"
   ]
  },
  {
   "cell_type": "code",
   "execution_count": 26,
   "metadata": {
    "colab": {},
    "colab_type": "code",
    "collapsed": true,
    "id": "nUIjpq9ZhLbQ"
   },
   "outputs": [],
   "source": [
    "tf_idf_dict = {'train_tf_idf': tfidf_concat_data_train, 'cv_tf_idf': tfidf_concat_data_val, 'test_tf_idf': tfidf_concat_data_test}"
   ]
  },
  {
   "cell_type": "code",
   "execution_count": 27,
   "metadata": {
    "colab": {},
    "colab_type": "code",
    "collapsed": true,
    "id": "3BEnG8fOhLbV"
   },
   "outputs": [],
   "source": [
    "import pickle\n",
    "with open('tf_idf.pkl', 'wb') as handle:\n",
    "    pickle.dump(tf_idf_dict, handle, protocol=pickle.HIGHEST_PROTOCOL)"
   ]
  },
  {
   "cell_type": "markdown",
   "metadata": {
    "colab_type": "text",
    "id": "p6fNhuZxhLbc"
   },
   "source": [
    "# [4.4] Word2Vec"
   ]
  },
  {
   "cell_type": "code",
   "execution_count": 241,
   "metadata": {
    "colab": {},
    "colab_type": "code",
    "collapsed": true,
    "id": "N2B4cJ4OhLbe"
   },
   "outputs": [],
   "source": [
    "# Train your own Word2Vec model using your own text corpus\n",
    "i=0\n",
    "list_of_sen=[]\n",
    "for sentance in X_train:\n",
    "    list_of_sen.append(sentance.split())"
   ]
  },
  {
   "cell_type": "code",
   "execution_count": 242,
   "metadata": {
    "colab": {},
    "colab_type": "code",
    "collapsed": false,
    "id": "YoU1xo4GhLbl",
    "outputId": "df4cc683-2314-4196-c971-2b0119a8f95b"
   },
   "outputs": [
    {
     "name": "stdout",
     "output_type": "stream",
     "text": [
      "[('fantastic', 0.9040200710296631), ('wonderful', 0.8998451232910156), ('good', 0.8745156526565552), ('terrific', 0.8421463966369629), ('nice', 0.7987102270126343), ('fabulous', 0.7933881282806396), ('perfect', 0.7839844226837158), ('excellent', 0.7502694129943848), ('delicious', 0.7368237972259521), ('decent', 0.7319214344024658)]\n",
      "==================================================\n",
      "[('best', 0.8560127019882202), ('greatest', 0.8049135208129883), ('tastiest', 0.7658340930938721), ('closest', 0.7615100145339966), ('BEST', 0.7247588634490967), ('best-tasting', 0.7184524536132812), ('smoothest', 0.6995263695716858), ('best.', 0.69404137134552), ('Best', 0.6918725967407227), ('finest', 0.678147554397583)]\n"
     ]
    }
   ],
   "source": [
    "is_your_ram_gt_16g=False\n",
    "want_to_use_google_w2v = False\n",
    "want_to_train_w2v = True\n",
    "\n",
    "if want_to_train_w2v:\n",
    "    # min_count = 5 considers only words that occured atleast 5 times\n",
    "    w2v_model=Word2Vec(list_of_sen,min_count=5,size=50, workers=4)\n",
    "    print(w2v_model.wv.most_similar('great'))\n",
    "    print('='*50)\n",
    "    print(w2v_model.wv.most_similar('worst'))\n",
    "    \n",
    "elif want_to_use_google_w2v and is_your_ram_gt_16g:\n",
    "    if os.path.isfile('GoogleNews-vectors-negative300.bin'):\n",
    "        w2v_model=KeyedVectors.load_word2vec_format('GoogleNews-vectors-negative300.bin', binary=True)\n",
    "        print(w2v_model.wv.most_similar('great'))\n",
    "        print(w2v_model.wv.most_similar('worst'))\n",
    "    else:\n",
    "        print(\"you don't have gogole's word2vec file, keep want_to_train_w2v = True, to train your own w2v \")"
   ]
  },
  {
   "cell_type": "code",
   "execution_count": 243,
   "metadata": {
    "colab": {},
    "colab_type": "code",
    "collapsed": false,
    "id": "1u1hH15uhLbp",
    "outputId": "3685bb5c-8805-465d-86c0-1bb09e0b1534"
   },
   "outputs": [
    {
     "name": "stdout",
     "output_type": "stream",
     "text": [
      "number of words that occured minimum 5 times  32552\n",
      "sample words  ['lime', 'brave', 'cheapest.', 'Bariani', 'digests', 'news,', 'shipping,', 'Nice,', 'notice', 'poppy', \"Oreo's\", 'sites', \"ISN'T\", 'crack', 'oatmeal.<br', 'defrost', 'discovers', 'Jerky,', '\"pill', 'bears', 'scarfed', 'make.', 'gravy', 'forced', 'robust.', 'NY,', 'Kellogs', 'try!', 'sauteed', \"Dave's\", 'Le', 'chalk.', 'Biscotti.', 'unless', 'Geyser', 'PRIME', 'factor,', 'describe', 'applying', 'reasons.', 'the', 'Highland', 'layer', 'Use', 'Retrievers', 'considering.', '/>it', 'planet,', 'Aroma', 'objects']\n"
     ]
    }
   ],
   "source": [
    "w2v_words = list(w2v_model.wv.vocab)\n",
    "print(\"number of words that occured minimum 5 times \",len(w2v_words))\n",
    "print(\"sample words \", w2v_words[0:50])"
   ]
  },
  {
   "cell_type": "markdown",
   "metadata": {
    "colab_type": "text",
    "id": "ar-L7VaMhLbw"
   },
   "source": [
    "# [4.4.1] Converting text into vectors using Avg W2V, TFIDF-W2V"
   ]
  },
  {
   "cell_type": "markdown",
   "metadata": {
    "colab_type": "text",
    "id": "YXICpYKphLby"
   },
   "source": [
    "# [4.4.1.1] Avg W2v"
   ]
  },
  {
   "cell_type": "code",
   "execution_count": 244,
   "metadata": {
    "colab": {},
    "colab_type": "code",
    "collapsed": false,
    "id": "g70jVs7uhLb0",
    "outputId": "7aca1f4d-f84a-4789-cef6-8a4506a9d5fd"
   },
   "outputs": [
    {
     "name": "stdout",
     "output_type": "stream",
     "text": [
      "EVERY book is educational. this witty little book makes my son laugh at loud. i recite it in the car as we're driving along and he always can sing the refrain. he's learned about whales, India, drooping roses:  i love all the new words this book  introduces and the silliness of it all.  this is a classic book i am  willing to bet my son will STILL be able to recite from memory when he is  in college\n",
      "20000\n",
      "20000\n"
     ]
    }
   ],
   "source": [
    "print(X_train[117924])\n",
    "print(len(X_val))\n",
    "print(len(X_test))"
   ]
  },
  {
   "cell_type": "code",
   "execution_count": 0,
   "metadata": {
    "colab": {},
    "colab_type": "code",
    "collapsed": true,
    "id": "yaFgLLoThLb6"
   },
   "outputs": [],
   "source": [
    "# average Word2Vec\n",
    "# compute average word2vec for each review.\n",
    "def avg_w2vec(sentences_received):\n",
    "    sent_vectors = []; # the avg-w2v for each sentence/review is stored in this list\n",
    "    for sent in tqdm(sentences_received): # for each review/sentence\n",
    "        sent_vec = np.zeros(50) # as word vectors are of zero length 50, you might need to change this to 300 if you use google's w2v\n",
    "        cnt_words =0; # num of words with a valid vector in the sentence/review\n",
    "        for word in sent: # for each word in a review/sentence\n",
    "            if word in w2v_words:\n",
    "                vec = w2v_model.wv[word]\n",
    "                sent_vec += vec\n",
    "                cnt_words += 1\n",
    "        if cnt_words != 0:\n",
    "            sent_vec /= cnt_words\n",
    "        sent_vectors.append(sent_vec)\n",
    "\n",
    "    print(len(sent_vectors))\n",
    "    print(len(sent_vectors[0]))\n",
    "    return sent_vectors"
   ]
  },
  {
   "cell_type": "code",
   "execution_count": 0,
   "metadata": {
    "colab": {},
    "colab_type": "code",
    "collapsed": false,
    "id": "P0YVipbVhLb_",
    "outputId": "527bef71-876b-4fa8-f41e-97bd2aead596"
   },
   "outputs": [
    {
     "name": "stdout",
     "output_type": "stream",
     "text": [
      "20000\n"
     ]
    }
   ],
   "source": [
    "print(len([sent.split() for sent in X_test]))"
   ]
  },
  {
   "cell_type": "code",
   "execution_count": 0,
   "metadata": {
    "colab": {},
    "colab_type": "code",
    "collapsed": false,
    "id": "MBoDReGUhLcF",
    "outputId": "6ab0e04f-6ef0-4167-ba32-965063091b73"
   },
   "outputs": [
    {
     "name": "stderr",
     "output_type": "stream",
     "text": [
      "100%|██████████████████████████████████████████████████████████████████████████████████████████████████████| 60000/60000 [1:26:58<00:00, 11.50it/s]\n"
     ]
    },
    {
     "name": "stdout",
     "output_type": "stream",
     "text": [
      "60000\n",
      "50\n"
     ]
    },
    {
     "name": "stderr",
     "output_type": "stream",
     "text": [
      "100%|████████████████████████████████████████████████████████████████████████████████████████████████████████| 20000/20000 [30:10<00:00, 11.05it/s]\n"
     ]
    },
    {
     "name": "stdout",
     "output_type": "stream",
     "text": [
      "20000\n",
      "50\n"
     ]
    },
    {
     "name": "stderr",
     "output_type": "stream",
     "text": [
      "100%|████████████████████████████████████████████████████████████████████████████████████████████████████████| 20000/20000 [26:46<00:00, 12.45it/s]\n"
     ]
    },
    {
     "name": "stdout",
     "output_type": "stream",
     "text": [
      "20000\n",
      "50\n"
     ]
    }
   ],
   "source": [
    "avg_w2v_train = avg_w2vec([sent.split() for sent in X_train])\n",
    "avg_w2v_cv = avg_w2vec([sent.split() for sent in X_val])\n",
    "avg_w2v_test = avg_w2vec([sent.split() for sent in X_test])"
   ]
  },
  {
   "cell_type": "code",
   "execution_count": 0,
   "metadata": {
    "colab": {},
    "colab_type": "code",
    "collapsed": true,
    "id": "kSNLtxkohLcM"
   },
   "outputs": [],
   "source": [
    "Avg_w2v_dict = {'X_train_avgw2v':avg_w2v_train, 'Y_train_avgw2v': Y_train,  \n",
    "                     'X_val_avgw2v': avg_w2v_cv, 'Y_val_avgw2v': Y_val,\n",
    "                    'X_test_avgw2v': avg_w2v_test, 'Y_test_avgw2v': Y_test}"
   ]
  },
  {
   "cell_type": "code",
   "execution_count": 0,
   "metadata": {
    "colab": {},
    "colab_type": "code",
    "collapsed": true,
    "id": "qYGAuKtthLcP"
   },
   "outputs": [],
   "source": [
    "import pickle\n",
    "with open('avg_w2v.pkl', 'wb') as handle:\n",
    "    pickle.dump(Avg_w2v_dict, handle, protocol=pickle.HIGHEST_PROTOCOL)"
   ]
  },
  {
   "cell_type": "markdown",
   "metadata": {
    "colab_type": "text",
    "id": "nq1pb-MEhLcS"
   },
   "source": [
    "# [4.4.1.2] TFIDF weighted W2v"
   ]
  },
  {
   "cell_type": "code",
   "execution_count": 245,
   "metadata": {
    "colab": {},
    "colab_type": "code",
    "collapsed": true,
    "id": "XlBJavm2hLcU"
   },
   "outputs": [],
   "source": [
    "# S = [\"abc def pqr\", \"def def def abc\", \"pqr pqr def\"]\n",
    "model = TfidfVectorizer()\n",
    "tf_idf_matrix = model.fit_transform(X_train)\n",
    "# we are converting a dictionary with word as a key, and the idf as a value\n",
    "dictionary = dict(zip(model.get_feature_names(), list(model.idf_)))"
   ]
  },
  {
   "cell_type": "code",
   "execution_count": 246,
   "metadata": {
    "colab": {},
    "colab_type": "code",
    "collapsed": true,
    "id": "Zj5kIEiahLcY"
   },
   "outputs": [],
   "source": [
    "# TF-IDF weighted Word2Vec\n",
    "tfidf_feat = model.get_feature_names() # tfidf words/col-names\n",
    "# final_tf_idf is the sparse matrix with row= sentence, col=word and cell_val = tfidf\n",
    "\n",
    "def tfidf_w2v(sentences_received):\n",
    "    tfidf_sent_vectors = []; # the tfidf-w2v for each sentence/review is stored in this list\n",
    "    row=0;\n",
    "    for sent in tqdm(sentences_received): # for each review/sentence \n",
    "        sent_vec = np.zeros(50) # as word vectors are of zero length\n",
    "        weight_sum =0; # num of words with a valid vector in the sentence/review\n",
    "        for word in sent: # for each word in a review/sentence\n",
    "            if word in w2v_words and word in tfidf_feat:\n",
    "                vec = w2v_model.wv[word]\n",
    "    #             tf_idf = tf_idf_matrix[row, tfidf_feat.index(word)]\n",
    "                # to reduce the computation we are \n",
    "                # dictionary[word] = idf value of word in whole courpus\n",
    "                # sent.count(word) = tf valeus of word in this review\n",
    "                tf_idf = dictionary[word]*(sent.count(word)/len(sent))\n",
    "                sent_vec += (vec * tf_idf)\n",
    "                weight_sum += tf_idf\n",
    "        if weight_sum != 0:\n",
    "            sent_vec /= weight_sum\n",
    "        tfidf_sent_vectors.append(sent_vec)\n",
    "        row += 1\n",
    "        \n",
    "    return tfidf_sent_vectors"
   ]
  },
  {
   "cell_type": "code",
   "execution_count": null,
   "metadata": {
    "colab": {},
    "colab_type": "code",
    "collapsed": false,
    "id": "u1a9b1kuhLcc"
   },
   "outputs": [],
   "source": [
    "tfidf_w2v_train = tfidf_w2v([sent.split() for sent in X_train])\n",
    "tfidf_w2v_cv = tfidf_w2v([sent.split() for sent in X_val])\n",
    "tfidf_w2v_test = tfidf_w2v([sent.split() for sent in X_test])"
   ]
  },
  {
   "cell_type": "code",
   "execution_count": 0,
   "metadata": {
    "colab": {},
    "colab_type": "code",
    "collapsed": true,
    "id": "1X7LhFKehLce"
   },
   "outputs": [],
   "source": [
    "tfidf_w2v_dict = {'X_train_tfidfw2v':tfidf_w2v_train, 'Y_train_tfidfw2v': Y_train,  \n",
    "                     'X_val_tfidfw2v': tfidf_w2v_cv, 'Y_val_tfidfw2v': Y_val,\n",
    "                    'X_test_tfidfw2v': tfidf_w2v_test, 'Y_test_tfidfw2v': Y_test}"
   ]
  },
  {
   "cell_type": "code",
   "execution_count": 0,
   "metadata": {
    "colab": {},
    "colab_type": "code",
    "collapsed": true,
    "id": "4dYiNVHyhLcg"
   },
   "outputs": [],
   "source": [
    "with open('tfidf_w2v.pkl', 'wb') as handle:\n",
    "    pickle.dump(tfidf_w2v_dict, handle, protocol=pickle.HIGHEST_PROTOCOL)"
   ]
  },
  {
   "cell_type": "markdown",
   "metadata": {
    "colab_type": "text",
    "id": "4tNkfqXDhLci"
   },
   "source": [
    "# SVM on BoW"
   ]
  },
  {
   "cell_type": "markdown",
   "metadata": {
    "colab_type": "text",
    "id": "qx8ZdSWDhLcj"
   },
   "source": [
    "## [5.1] Linear SVM"
   ]
  },
  {
   "cell_type": "code",
   "execution_count": 19,
   "metadata": {
    "colab": {
     "base_uri": "https://localhost:8080/",
     "height": 88
    },
    "colab_type": "code",
    "collapsed": false,
    "executionInfo": {
     "elapsed": 772,
     "status": "ok",
     "timestamp": 1552136277786,
     "user": {
      "displayName": "Rajendra Choudhary",
      "photoUrl": "https://lh3.googleusercontent.com/-H2n68bMjaqM/AAAAAAAAAAI/AAAAAAAAADs/35wbnA9B3WM/s64/photo.jpg",
      "userId": "11987022453046813676"
     },
     "user_tz": -330
    },
    "id": "Rhh60FBPhLgE",
    "outputId": "8eee79fe-e273-4cc0-f464-d99d1f90fa4a"
   },
   "outputs": [
    {
     "name": "stdout",
     "output_type": "stream",
     "text": [
      "EVERY book is educational. this witty little book makes my son laugh at loud. i recite it in the car as we're driving along and he always can sing the refrain. he's learned about whales, India, drooping roses:  i love all the new words this book  introduces and the silliness of it all.  this is a classic book i am  willing to bet my son will STILL be able to recite from memory when he is  in college\n",
      "5000\n",
      "5000\n"
     ]
    }
   ],
   "source": [
    "print(X_train[117924])\n",
    "print(len(X_val))\n",
    "print(len(X_test))"
   ]
  },
  {
   "cell_type": "code",
   "execution_count": 0,
   "metadata": {
    "colab": {},
    "colab_type": "code",
    "collapsed": true,
    "id": "Mk-nywTahLgG"
   },
   "outputs": [],
   "source": [
    "# average Word2Vec\n",
    "# compute average word2vec for each review.\n",
    "def avg_w2vec(sentences_received):\n",
    "    sent_vectors = []; # the avg-w2v for each sentence/review is stored in this list\n",
    "    for sent in tqdm(sentences_received): # for each review/sentence\n",
    "        sent_vec = np.zeros(50) # as word vectors are of zero length 50, you might need to change this to 300 if you use google's w2v\n",
    "        cnt_words =0; # num of words with a valid vector in the sentence/review\n",
    "        for word in sent: # for each word in a review/sentence\n",
    "            if word in w2v_words:\n",
    "                vec = w2v_model.wv[word]\n",
    "                sent_vec += vec\n",
    "                cnt_words += 1\n",
    "        if cnt_words != 0:\n",
    "            sent_vec /= cnt_words\n",
    "        sent_vectors.append(sent_vec)\n",
    "\n",
    "    print(len(sent_vectors))\n",
    "    print(len(sent_vectors[0]))\n",
    "    return sent_vectors"
   ]
  },
  {
   "cell_type": "code",
   "execution_count": 21,
   "metadata": {
    "colab": {
     "base_uri": "https://localhost:8080/",
     "height": 34
    },
    "colab_type": "code",
    "collapsed": false,
    "executionInfo": {
     "elapsed": 1008,
     "status": "ok",
     "timestamp": 1552136284570,
     "user": {
      "displayName": "Rajendra Choudhary",
      "photoUrl": "https://lh3.googleusercontent.com/-H2n68bMjaqM/AAAAAAAAAAI/AAAAAAAAADs/35wbnA9B3WM/s64/photo.jpg",
      "userId": "11987022453046813676"
     },
     "user_tz": -330
    },
    "id": "myqjsRirhLgH",
    "outputId": "33910dc5-30dd-4189-d30c-d9ca5e836ed8"
   },
   "outputs": [
    {
     "name": "stdout",
     "output_type": "stream",
     "text": [
      "5000\n"
     ]
    }
   ],
   "source": [
    "print(len([sent.split() for sent in X_test]))"
   ]
  },
  {
   "cell_type": "code",
   "execution_count": 22,
   "metadata": {
    "colab": {
     "base_uri": "https://localhost:8080/",
     "height": 170
    },
    "colab_type": "code",
    "collapsed": false,
    "executionInfo": {
     "elapsed": 172747,
     "status": "ok",
     "timestamp": 1552136458619,
     "user": {
      "displayName": "Rajendra Choudhary",
      "photoUrl": "https://lh3.googleusercontent.com/-H2n68bMjaqM/AAAAAAAAAAI/AAAAAAAAADs/35wbnA9B3WM/s64/photo.jpg",
      "userId": "11987022453046813676"
     },
     "user_tz": -330
    },
    "id": "9UgC0iX1hLgM",
    "outputId": "f3cd8401-a882-441f-caaf-04be5c20ae26"
   },
   "outputs": [
    {
     "name": "stderr",
     "output_type": "stream",
     "text": [
      "100%|██████████| 20000/20000 [01:54<00:00, 175.21it/s]\n",
      "  1%|          | 28/5000 [00:00<00:17, 276.46it/s]"
     ]
    },
    {
     "name": "stdout",
     "output_type": "stream",
     "text": [
      "20000\n",
      "50\n"
     ]
    },
    {
     "name": "stderr",
     "output_type": "stream",
     "text": [
      "100%|██████████| 5000/5000 [00:27<00:00, 183.63it/s]\n",
      "  0%|          | 25/5000 [00:00<00:20, 247.93it/s]"
     ]
    },
    {
     "name": "stdout",
     "output_type": "stream",
     "text": [
      "5000\n",
      "50\n"
     ]
    },
    {
     "name": "stderr",
     "output_type": "stream",
     "text": [
      "100%|██████████| 5000/5000 [00:30<00:00, 165.08it/s]"
     ]
    },
    {
     "name": "stdout",
     "output_type": "stream",
     "text": [
      "5000\n",
      "50\n"
     ]
    },
    {
     "name": "stderr",
     "output_type": "stream",
     "text": [
      "\n"
     ]
    }
   ],
   "source": [
    "avg_w2v_train = avg_w2vec([sent.split() for sent in X_train])\n",
    "avg_w2v_cv = avg_w2vec([sent.split() for sent in X_val])\n",
    "avg_w2v_test = avg_w2vec([sent.split() for sent in X_test])"
   ]
  },
  {
   "cell_type": "code",
   "execution_count": 0,
   "metadata": {
    "colab": {},
    "colab_type": "code",
    "collapsed": true,
    "id": "BkbEw09EhLgO"
   },
   "outputs": [],
   "source": [
    "Avg_w2v_dict = {'X_train_avgw2v':avg_w2v_train, 'Y_train_avgw2v': Y_train,  \n",
    "                     'X_val_avgw2v': avg_w2v_cv, 'Y_val_avgw2v': Y_val,\n",
    "                    'X_test_avgw2v': avg_w2v_test, 'Y_test_avgw2v': Y_test}"
   ]
  },
  {
   "cell_type": "code",
   "execution_count": 0,
   "metadata": {
    "colab": {},
    "colab_type": "code",
    "collapsed": true,
    "id": "GgSKJLUuivBx"
   },
   "outputs": [],
   "source": [
    "import pickle\n",
    "with open('/content/gdrive/My Drive/Colab Notebooks/SVM/30kavg_w2v.pkl', 'wb') as handle:\n",
    "    pickle.dump(Avg_w2v_dict, handle, protocol=pickle.HIGHEST_PROTOCOL)"
   ]
  },
  {
   "cell_type": "markdown",
   "metadata": {
    "colab_type": "text",
    "id": "osNk6L1MkTMf"
   },
   "source": [
    "# TFIDF-w2v"
   ]
  },
  {
   "cell_type": "code",
   "execution_count": 0,
   "metadata": {
    "colab": {},
    "colab_type": "code",
    "collapsed": true,
    "id": "kKhHd80ai40y"
   },
   "outputs": [],
   "source": [
    "# S = [\"abc def pqr\", \"def def def abc\", \"pqr pqr def\"]\n",
    "model = TfidfVectorizer(min_df=10, max_features=500)\n",
    "tf_idf_matrix = model.fit_transform(X_train)\n",
    "# we are converting a dictionary with word as a key, and the idf as a value\n",
    "dictionary = dict(zip(model.get_feature_names(), list(model.idf_)))"
   ]
  },
  {
   "cell_type": "code",
   "execution_count": 0,
   "metadata": {
    "colab": {},
    "colab_type": "code",
    "collapsed": true,
    "id": "bpRE-t0MkaA5"
   },
   "outputs": [],
   "source": [
    "# TF-IDF weighted Word2Vec\n",
    "tfidf_feat = model.get_feature_names() # tfidf words/col-names\n",
    "# final_tf_idf is the sparse matrix with row= sentence, col=word and cell_val = tfidf\n",
    "\n",
    "def tfidf_w2v(sentences_received):\n",
    "    tfidf_sent_vectors = []; # the tfidf-w2v for each sentence/review is stored in this list\n",
    "    row=0;\n",
    "    for sent in tqdm(sentences_received): # for each review/sentence \n",
    "        sent_vec = np.zeros(50) # as word vectors are of zero length\n",
    "        weight_sum =0; # num of words with a valid vector in the sentence/review\n",
    "        for word in sent: # for each word in a review/sentence\n",
    "            if word in w2v_words and word in tfidf_feat:\n",
    "                vec = w2v_model.wv[word]\n",
    "    #             tf_idf = tf_idf_matrix[row, tfidf_feat.index(word)]\n",
    "                # to reduce the computation we are \n",
    "                # dictionary[word] = idf value of word in whole courpus\n",
    "                # sent.count(word) = tf valeus of word in this review\n",
    "                tf_idf = dictionary[word]*(sent.count(word)/len(sent))\n",
    "                sent_vec += (vec * tf_idf)\n",
    "                weight_sum += tf_idf\n",
    "        if weight_sum != 0:\n",
    "            sent_vec /= weight_sum\n",
    "        tfidf_sent_vectors.append(sent_vec)\n",
    "        row += 1\n",
    "        \n",
    "    return tfidf_sent_vectors"
   ]
  },
  {
   "cell_type": "code",
   "execution_count": 46,
   "metadata": {
    "colab": {
     "base_uri": "https://localhost:8080/",
     "height": 68
    },
    "colab_type": "code",
    "collapsed": false,
    "executionInfo": {
     "elapsed": 192837,
     "status": "ok",
     "timestamp": 1552137116761,
     "user": {
      "displayName": "Rajendra Choudhary",
      "photoUrl": "https://lh3.googleusercontent.com/-H2n68bMjaqM/AAAAAAAAAAI/AAAAAAAAADs/35wbnA9B3WM/s64/photo.jpg",
      "userId": "11987022453046813676"
     },
     "user_tz": -330
    },
    "id": "KHETlzEFkcUs",
    "outputId": "70403d23-cb23-48a5-bbcc-71e941dec77a"
   },
   "outputs": [
    {
     "name": "stderr",
     "output_type": "stream",
     "text": [
      "100%|██████████| 20000/20000 [02:07<00:00, 156.36it/s]\n",
      "100%|██████████| 5000/5000 [00:29<00:00, 168.92it/s]\n",
      "100%|██████████| 5000/5000 [00:34<00:00, 145.98it/s]\n"
     ]
    }
   ],
   "source": [
    "tfidf_w2v_train = tfidf_w2v([sent.split() for sent in X_train])\n",
    "tfidf_w2v_cv = tfidf_w2v([sent.split() for sent in X_val])\n",
    "tfidf_w2v_test = tfidf_w2v([sent.split() for sent in X_test])"
   ]
  },
  {
   "cell_type": "code",
   "execution_count": 0,
   "metadata": {
    "colab": {},
    "colab_type": "code",
    "collapsed": true,
    "id": "SErrm3LskepK"
   },
   "outputs": [],
   "source": [
    "tfidf_w2v_dict = {'X_train_tfidfw2v':tfidf_w2v_train, 'Y_train_tfidfw2v': Y_train,  \n",
    "                     'X_val_tfidfw2v': tfidf_w2v_cv, 'Y_val_tfidfw2v': Y_val,\n",
    "                    'X_test_tfidfw2v': tfidf_w2v_test, 'Y_test_tfidfw2v': Y_test}"
   ]
  },
  {
   "cell_type": "code",
   "execution_count": 0,
   "metadata": {
    "colab": {},
    "colab_type": "code",
    "collapsed": true,
    "id": "FMDRTzhvkkkz"
   },
   "outputs": [],
   "source": [
    "with open('/content/gdrive/My Drive/Colab Notebooks/SVM/30ktfidf_w2v.pkl', 'wb') as handle:\n",
    "    pickle.dump(tfidf_w2v_dict, handle, protocol=pickle.HIGHEST_PROTOCOL)"
   ]
  },
  {
   "cell_type": "markdown",
   "metadata": {},
   "source": [
    "# RandomForest on BoW"
   ]
  },
  {
   "cell_type": "code",
<<<<<<< HEAD
   "execution_count": 28,
=======
   "execution_count": 24,
>>>>>>> 152685bf8223c4838a6af01fc9f01f000f16627e
   "metadata": {
    "collapsed": false
   },
   "outputs": [],
   "source": [
    "import pickle\n",
    "# with open(r\"/content/gdrive/My Drive/Colab Notebooks/SVM/BoW.pkl\", \"rb\") as input_file:\n",
    "with open(r\"BoW.pkl\", \"rb\") as input_file:\n",
    "    BoW_dict = pickle.load(input_file)"
   ]
  },
  {
   "cell_type": "code",
<<<<<<< HEAD
   "execution_count": 47,
=======
   "execution_count": 30,
>>>>>>> 152685bf8223c4838a6af01fc9f01f000f16627e
   "metadata": {
    "collapsed": false
   },
   "outputs": [
    {
     "data": {
      "text/plain": [
       "{'max_depth': 32, 'n_estimators': 200}"
      ]
     },
<<<<<<< HEAD
     "execution_count": 47,
=======
     "execution_count": 30,
>>>>>>> 152685bf8223c4838a6af01fc9f01f000f16627e
     "metadata": {},
     "output_type": "execute_result"
    }
   ],
   "source": [
    "from sklearn.ensemble import RandomForestClassifier\n",
    "from sklearn.metrics import roc_auc_score\n",
    "from sklearn.metrics import make_scorer\n",
    "from sklearn.model_selection import GridSearchCV\n",
    "bow_lgr_train_score_list = []\n",
    "bow_lgr_val_score_list = []\n",
    "fpr = dict()\n",
    "tpr = dict()\n",
    "fpr_val = dict()\n",
    "tpr_val = dict()\n",
    "roc_auc_train = dict()\n",
    "roc_auc_val = dict()\n",
    "roc_auc_test = dict()\n",
    "fpr_list = []\n",
    "tpr_list = []\n",
    "\n",
    "# grid = {'n_estimators': [64, 100], 'max_depth': range(1, 16)}\n",
    "param_grid = {\n",
    "    'max_depth': [1, 2, 4, 8, 16, 32],\n",
    "    'n_estimators': [1, 2, 5, 10, 50, 100, 200]\n",
    "}\n",
    "rf = RandomForestClassifier(n_jobs = -1)\n",
    "clf = GridSearchCV(estimator = rf, param_grid = param_grid, scoring = 'roc_auc')\n",
    "clf.fit(BoW_dict['X_train_vect'],Y_train)\n",
    "clf.best_params_"
   ]
  },
  {
   "cell_type": "code",
<<<<<<< HEAD
   "execution_count": 48,
=======
   "execution_count": 33,
>>>>>>> 152685bf8223c4838a6af01fc9f01f000f16627e
   "metadata": {
    "collapsed": false
   },
   "outputs": [
    {
     "data": {
      "text/plain": [
<<<<<<< HEAD
       "{'mean_fit_time': array([1.08457772, 0.71993669, 0.10977538, 0.13213913, 0.29908347,\n",
       "        0.37962818, 0.61745604, 0.10085011, 0.10222562, 0.11465724,\n",
       "        0.14210995, 0.3293337 , 0.47690296, 0.8146371 , 0.11020486,\n",
       "        0.11142945, 0.12999574, 0.16409294, 0.44212111, 0.67852402,\n",
       "        1.29669762, 0.13073691, 0.13292027, 0.1620237 , 0.21839269,\n",
       "        0.63252902, 1.12556974, 2.0640521 , 0.18544149, 0.19258038,\n",
       "        0.25578539, 0.36935822, 1.19117816, 2.08181771, 3.95288404,\n",
       "        0.29525956, 0.29487618, 0.39170225, 0.62258077, 2.27438823,\n",
       "        4.25935745, 8.45610158]),\n",
       " 'mean_score_time': array([0.0221343 , 0.14191492, 0.11845128, 0.11865377, 0.11950159,\n",
       "        0.11963097, 0.22182981, 0.01933885, 0.11824497, 0.11797237,\n",
       "        0.12045606, 0.12104702, 0.12047704, 0.2224098 , 0.01941578,\n",
       "        0.11781939, 0.1187195 , 0.11989578, 0.12039971, 0.12069337,\n",
       "        0.22113498, 0.02002954, 0.11815143, 0.11912998, 0.11989292,\n",
       "        0.12083554, 0.12132446, 0.22142069, 0.02226702, 0.11972721,\n",
       "        0.1213301 , 0.12266366, 0.12075424, 0.1205469 , 0.22110152,\n",
       "        0.02136254, 0.11846368, 0.12005679, 0.12311165, 0.12102063,\n",
       "        0.18738294, 0.32145294]),\n",
       " 'mean_test_score': array([0.50716091, 0.55653806, 0.54095049, 0.53727595, 0.72907595,\n",
       "        0.78341403, 0.8259981 , 0.52102751, 0.52404417, 0.59969505,\n",
       "        0.62498143, 0.79616252, 0.84183296, 0.87541513, 0.54046606,\n",
       "        0.55324425, 0.63342353, 0.68982109, 0.8459932 , 0.87417779,\n",
       "        0.88122086, 0.6120521 , 0.61326891, 0.69001738, 0.75480622,\n",
       "        0.86519803, 0.88459366, 0.8978188 , 0.58986821, 0.66129117,\n",
       "        0.75935358, 0.8219661 , 0.89381172, 0.90539449, 0.90809911,\n",
       "        0.61568303, 0.71879042, 0.81562766, 0.85265178, 0.9049294 ,\n",
       "        0.91311152, 0.91794005]),\n",
       " 'mean_train_score': array([0.50609085, 0.55530029, 0.54313075, 0.54208536, 0.74266991,\n",
       "        0.79429763, 0.83820519, 0.52100216, 0.52692439, 0.60282747,\n",
       "        0.63318753, 0.80930142, 0.85248472, 0.88481114, 0.54398001,\n",
       "        0.5520727 , 0.63625436, 0.70534695, 0.86163495, 0.88904039,\n",
       "        0.89862682, 0.61414475, 0.62327585, 0.71479914, 0.77082197,\n",
       "        0.88792109, 0.90640212, 0.92263883, 0.60305964, 0.69506715,\n",
       "        0.79843383, 0.86322647, 0.9355738 , 0.94610797, 0.94934377,\n",
       "        0.67040594, 0.78021832, 0.8957955 , 0.93050924, 0.97221052,\n",
       "        0.97684167, 0.98026235]),\n",
       " 'param_max_depth': masked_array(data=[1, 1, 1, 1, 1, 1, 1, 2, 2, 2, 2, 2, 2, 2, 4, 4, 4, 4,\n",
       "                    4, 4, 4, 8, 8, 8, 8, 8, 8, 8, 16, 16, 16, 16, 16, 16,\n",
       "                    16, 32, 32, 32, 32, 32, 32, 32],\n",
       "              mask=[False, False, False, False, False, False, False, False,\n",
       "                    False, False, False, False, False, False, False, False,\n",
       "                    False, False, False, False, False, False, False, False,\n",
       "                    False, False, False, False, False, False, False, False,\n",
       "                    False, False, False, False, False, False, False, False,\n",
       "                    False, False],\n",
       "        fill_value='?',\n",
       "             dtype=object),\n",
       " 'param_n_estimators': masked_array(data=[1, 2, 5, 10, 50, 100, 200, 1, 2, 5, 10, 50, 100, 200,\n",
       "                    1, 2, 5, 10, 50, 100, 200, 1, 2, 5, 10, 50, 100, 200,\n",
       "                    1, 2, 5, 10, 50, 100, 200, 1, 2, 5, 10, 50, 100, 200],\n",
       "              mask=[False, False, False, False, False, False, False, False,\n",
       "                    False, False, False, False, False, False, False, False,\n",
       "                    False, False, False, False, False, False, False, False,\n",
       "                    False, False, False, False, False, False, False, False,\n",
       "                    False, False, False, False, False, False, False, False,\n",
       "                    False, False],\n",
       "        fill_value='?',\n",
       "             dtype=object),\n",
       " 'params': [{'max_depth': 1, 'n_estimators': 1},\n",
       "  {'max_depth': 1, 'n_estimators': 2},\n",
       "  {'max_depth': 1, 'n_estimators': 5},\n",
       "  {'max_depth': 1, 'n_estimators': 10},\n",
       "  {'max_depth': 1, 'n_estimators': 50},\n",
       "  {'max_depth': 1, 'n_estimators': 100},\n",
       "  {'max_depth': 1, 'n_estimators': 200},\n",
       "  {'max_depth': 2, 'n_estimators': 1},\n",
       "  {'max_depth': 2, 'n_estimators': 2},\n",
       "  {'max_depth': 2, 'n_estimators': 5},\n",
       "  {'max_depth': 2, 'n_estimators': 10},\n",
       "  {'max_depth': 2, 'n_estimators': 50},\n",
       "  {'max_depth': 2, 'n_estimators': 100},\n",
       "  {'max_depth': 2, 'n_estimators': 200},\n",
       "  {'max_depth': 4, 'n_estimators': 1},\n",
       "  {'max_depth': 4, 'n_estimators': 2},\n",
       "  {'max_depth': 4, 'n_estimators': 5},\n",
       "  {'max_depth': 4, 'n_estimators': 10},\n",
       "  {'max_depth': 4, 'n_estimators': 50},\n",
       "  {'max_depth': 4, 'n_estimators': 100},\n",
       "  {'max_depth': 4, 'n_estimators': 200},\n",
       "  {'max_depth': 8, 'n_estimators': 1},\n",
       "  {'max_depth': 8, 'n_estimators': 2},\n",
       "  {'max_depth': 8, 'n_estimators': 5},\n",
       "  {'max_depth': 8, 'n_estimators': 10},\n",
       "  {'max_depth': 8, 'n_estimators': 50},\n",
       "  {'max_depth': 8, 'n_estimators': 100},\n",
       "  {'max_depth': 8, 'n_estimators': 200},\n",
       "  {'max_depth': 16, 'n_estimators': 1},\n",
       "  {'max_depth': 16, 'n_estimators': 2},\n",
       "  {'max_depth': 16, 'n_estimators': 5},\n",
       "  {'max_depth': 16, 'n_estimators': 10},\n",
       "  {'max_depth': 16, 'n_estimators': 50},\n",
       "  {'max_depth': 16, 'n_estimators': 100},\n",
       "  {'max_depth': 16, 'n_estimators': 200},\n",
       "  {'max_depth': 32, 'n_estimators': 1},\n",
       "  {'max_depth': 32, 'n_estimators': 2},\n",
       "  {'max_depth': 32, 'n_estimators': 5},\n",
       "  {'max_depth': 32, 'n_estimators': 10},\n",
       "  {'max_depth': 32, 'n_estimators': 50},\n",
       "  {'max_depth': 32, 'n_estimators': 100},\n",
       "  {'max_depth': 32, 'n_estimators': 200}],\n",
       " 'rank_test_score': array([42, 35, 37, 39, 23, 20, 16, 41, 40, 33, 29, 19, 15, 10, 38, 36, 28,\n",
       "        26, 14, 11,  9, 32, 31, 25, 22, 12,  8,  6, 34, 27, 21, 17,  7,  4,\n",
       "         3, 30, 24, 18, 13,  5,  2,  1], dtype=int32),\n",
       " 'split0_test_score': array([0.50089702, 0.63000515, 0.51665195, 0.5438367 , 0.73562187,\n",
       "        0.8002851 , 0.82203715, 0.52146434, 0.53846742, 0.57985338,\n",
       "        0.60877993, 0.76997429, 0.84871076, 0.87748302, 0.51978774,\n",
       "        0.54323042, 0.57917617, 0.73609165, 0.83988647, 0.87350314,\n",
       "        0.88038501, 0.71624901, 0.65020786, 0.63968514, 0.72009264,\n",
       "        0.85271152, 0.88238741, 0.89554393, 0.5791111 , 0.64668994,\n",
       "        0.76541902, 0.81099412, 0.88791186, 0.9016371 , 0.90654276,\n",
       "        0.61929159, 0.71919259, 0.81248915, 0.84118722, 0.89753909,\n",
       "        0.91011181, 0.91747914]),\n",
       " 'split0_train_score': array([0.5013634 , 0.63076287, 0.52564347, 0.55000996, 0.74609766,\n",
       "        0.81739072, 0.8389025 , 0.52177289, 0.54238063, 0.58436091,\n",
       "        0.62585864, 0.78757153, 0.86134525, 0.88456754, 0.52891086,\n",
       "        0.54959971, 0.59271326, 0.74609534, 0.85747239, 0.88529698,\n",
       "        0.89836158, 0.70770654, 0.65495399, 0.66389287, 0.73796452,\n",
       "        0.87986196, 0.90483309, 0.9204722 , 0.59916545, 0.6765049 ,\n",
       "        0.81122914, 0.84953185, 0.93288195, 0.94394332, 0.94895231,\n",
       "        0.67594839, 0.78395314, 0.89895302, 0.9214098 , 0.97009164,\n",
       "        0.97471761, 0.9800611 ]),\n",
       " 'split1_test_score': array([0.50342705, 0.53191162, 0.55802543, 0.52633818, 0.74126563,\n",
       "        0.75431986, 0.81210996, 0.51484448, 0.52358832, 0.54257123,\n",
       "        0.6007068 , 0.80794435, 0.84356305, 0.86791797, 0.5576889 ,\n",
       "        0.54577095, 0.63434789, 0.66361518, 0.85508129, 0.86634283,\n",
       "        0.87741729, 0.56512334, 0.61113449, 0.70087983, 0.74234146,\n",
       "        0.8755621 , 0.88704771, 0.89511366, 0.61227784, 0.7078305 ,\n",
       "        0.74453491, 0.81743941, 0.89506307, 0.90903524, 0.90804265,\n",
       "        0.59722612, 0.73603888, 0.82226213, 0.86160946, 0.90691673,\n",
       "        0.9136383 , 0.91904489]),\n",
       " 'split1_train_score': array([0.50228494, 0.52825683, 0.5546327 , 0.5401088 , 0.74462668,\n",
       "        0.76905255, 0.82669143, 0.51563398, 0.52503749, 0.54443367,\n",
       "        0.61196732, 0.81435758, 0.85514086, 0.8775082 , 0.56255957,\n",
       "        0.54766475, 0.63373964, 0.68386603, 0.87039316, 0.87871724,\n",
       "        0.89470114, 0.56368447, 0.61818837, 0.72739462, 0.75553821,\n",
       "        0.89539525, 0.90667471, 0.91807688, 0.62135731, 0.72709883,\n",
       "        0.77291759, 0.86109833, 0.93043086, 0.9466062 , 0.94793208,\n",
       "        0.65178239, 0.79538099, 0.89673921, 0.9379153 , 0.97016237,\n",
       "        0.97589624, 0.97934912]),\n",
       " 'split2_test_score': array([0.51715946, 0.5076913 , 0.54817566, 0.54165286, 0.71033909,\n",
       "        0.7956369 , 0.84384829, 0.52677397, 0.51007535, 0.67666539,\n",
       "        0.66546041, 0.81057095, 0.83322429, 0.88084455, 0.54392274,\n",
       "        0.57073277, 0.6867519 , 0.66975312, 0.84301198, 0.88268785,\n",
       "        0.88586054, 0.55477587, 0.57846078, 0.72949166, 0.80198864,\n",
       "        0.86732121, 0.88434597, 0.90279919, 0.57821565, 0.62935221,\n",
       "        0.76810694, 0.8374661 , 0.89846076, 0.90551133, 0.9097121 ,\n",
       "        0.63053193, 0.70113888, 0.81213167, 0.85515936, 0.91033303,\n",
       "        0.91558471, 0.9172961 ]),\n",
       " 'split2_train_score': array([0.51462423, 0.50688116, 0.54911608, 0.53613732, 0.73728538,\n",
       "        0.7964496 , 0.84902165, 0.52559961, 0.51335504, 0.67968782,\n",
       "        0.66173662, 0.82597516, 0.84096806, 0.89235769, 0.54046958,\n",
       "        0.55895363, 0.68231019, 0.68607947, 0.85703929, 0.90310696,\n",
       "        0.90281775, 0.57104322, 0.5966852 , 0.75310994, 0.81896318,\n",
       "        0.88850606, 0.90769855, 0.9293674 , 0.58865615, 0.68159774,\n",
       "        0.81115477, 0.87904923, 0.94340859, 0.94777437, 0.95114691,\n",
       "        0.68348706, 0.76132084, 0.89169428, 0.93220262, 0.97637756,\n",
       "        0.97991115, 0.98137684]),\n",
       " 'std_fit_time': array([0.50075454, 0.02395982, 0.00189057, 0.00153519, 0.01429946,\n",
       "        0.00939012, 0.00608226, 0.00134439, 0.00077903, 0.00269067,\n",
       "        0.00761015, 0.00874864, 0.00492208, 0.01239586, 0.00171061,\n",
       "        0.00090356, 0.00312489, 0.00688655, 0.02291726, 0.01466202,\n",
       "        0.15930309, 0.00237329, 0.00055043, 0.00201986, 0.00074275,\n",
       "        0.00404177, 0.01411902, 0.01508231, 0.00201245, 0.00239642,\n",
       "        0.00749663, 0.00761959, 0.02094992, 0.00992323, 0.03152836,\n",
       "        0.00595494, 0.00356854, 0.01339193, 0.00919517, 0.01147467,\n",
       "        0.04324379, 0.07086842]),\n",
       " 'std_score_time': array([2.62744896e-03, 3.12149554e-02, 1.12447722e-04, 1.85123800e-04,\n",
       "        1.10014266e-04, 3.20925952e-04, 1.88751589e-03, 3.19394828e-04,\n",
       "        3.76751165e-04, 1.68176326e-04, 2.38618708e-03, 1.24845158e-03,\n",
       "        1.54278049e-04, 1.12562099e-03, 2.23359769e-04, 2.33606277e-04,\n",
       "        1.53988792e-05, 2.40936677e-04, 2.73041012e-04, 4.48193631e-04,\n",
       "        3.17814579e-04, 6.87669392e-04, 2.98676157e-04, 3.34525670e-04,\n",
       "        3.34918979e-04, 3.09234013e-04, 4.97712716e-04, 8.09224955e-05,\n",
       "        1.35266323e-03, 4.16265882e-04, 8.20299678e-04, 7.88489432e-04,\n",
       "        1.52196357e-04, 5.36105557e-05, 2.43374419e-04, 7.74482488e-05,\n",
       "        2.27444355e-04, 4.96157267e-04, 2.28471392e-03, 1.85690917e-04,\n",
       "        4.75730023e-02, 2.84689111e-04]),\n",
       " 'std_test_score': array([0.00714483, 0.05288362, 0.01764656, 0.00778538, 0.01344733,\n",
       "        0.02066002, 0.01325624, 0.00487992, 0.0115955 , 0.05651247,\n",
       "        0.02881102, 0.01854959, 0.0064396 , 0.00547604, 0.01566513,\n",
       "        0.01240921, 0.04392247, 0.03281526, 0.00655171, 0.00668978,\n",
       "        0.00349721, 0.0738021 , 0.02932948, 0.03745929, 0.03457616,\n",
       "        0.00944885, 0.00191063, 0.00352591, 0.01585022, 0.03366087,\n",
       "        0.01053569, 0.01127119, 0.00439653, 0.00302144, 0.00129449,\n",
       "        0.01383424, 0.01425052, 0.00469355, 0.0085239 , 0.00540884,\n",
       "        0.00226514, 0.00078481]),\n",
       " 'std_train_score': array([0.00604572, 0.05406897, 0.0125688 , 0.00583339, 0.0038545 ,\n",
       "        0.01979255, 0.0091296 , 0.00410479, 0.01192453, 0.05674023,\n",
       "        0.02096871, 0.0160807 , 0.00852834, 0.00606472, 0.01395949,\n",
       "        0.00492927, 0.03662099, 0.02882763, 0.00619551, 0.0103029 ,\n",
       "        0.0033189 , 0.06622636, 0.02405861, 0.03749583, 0.0347888 ,\n",
       "        0.00635492, 0.00118559, 0.00485727, 0.01363122, 0.02274504,\n",
       "        0.01804274, 0.01214401, 0.00562967, 0.00160321, 0.00134132,\n",
       "        0.0135237 , 0.01415357, 0.00303757, 0.0068439 , 0.00294668,\n",
       "        0.00222315, 0.00083996])}"
      ]
     },
     "execution_count": 48,
=======
       "RandomForestClassifier(bootstrap=True, class_weight=None, criterion='gini',\n",
       "            max_depth=2, max_features='auto', max_leaf_nodes=None,\n",
       "            min_samples_leaf=1, min_samples_split=2,\n",
       "            min_weight_fraction_leaf=0.0, n_estimators=2, n_jobs=1,\n",
       "            oob_score=False, random_state=None, verbose=0,\n",
       "            warm_start=False)"
      ]
     },
     "execution_count": 33,
>>>>>>> 152685bf8223c4838a6af01fc9f01f000f16627e
     "metadata": {},
     "output_type": "execute_result"
    }
   ],
   "source": [
    "best_grid = clf.best_estimator_\n",
    "best_grid"
   ]
  },
  {
   "cell_type": "code",
   "execution_count": 49,
   "metadata": {
    "collapsed": false
   },
   "outputs": [
    {
     "data": {
      "text/plain": [
       "0.917940046887377"
      ]
     },
     "execution_count": 49,
     "metadata": {},
     "output_type": "execute_result"
    }
   ],
   "source": [
    "clf.best_score_ "
   ]
  },
  {
   "cell_type": "code",
   "execution_count": 44,
   "metadata": {
    "collapsed": false
   },
   "outputs": [
    {
     "data": {
      "text/plain": [
       "dict_keys(['brier_score_loss', 'completeness_score', 'neg_mean_squared_error', 'recall_weighted', 'neg_log_loss', 'adjusted_rand_score', 'roc_auc', 'adjusted_mutual_info_score', 'f1_weighted', 'recall_samples', 'normalized_mutual_info_score', 'mutual_info_score', 'balanced_accuracy', 'f1_micro', 'recall', 'v_measure_score', 'accuracy', 'precision_weighted', 'f1_samples', 'homogeneity_score', 'precision_samples', 'explained_variance', 'neg_mean_absolute_error', 'fowlkes_mallows_score', 'f1_macro', 'f1', 'neg_median_absolute_error', 'neg_mean_squared_log_error', 'r2', 'precision_macro', 'precision', 'average_precision', 'precision_micro', 'recall_micro', 'recall_macro'])"
      ]
     },
     "execution_count": 44,
     "metadata": {},
     "output_type": "execute_result"
    }
   ],
   "source": [
    "metrics.SCORERS.keys()"
   ]
  },
  {
   "cell_type": "code",
   "execution_count": 27,
   "metadata": {
    "collapsed": false
   },
   "outputs": [
    {
     "data": {
      "text/plain": [
       "279"
      ]
     },
     "execution_count": 27,
     "metadata": {},
     "output_type": "execute_result"
    }
   ],
   "source": [
    "len(bow_lgr_val_score_list)"
   ]
  },
  {
   "cell_type": "code",
   "execution_count": 28,
   "metadata": {
    "collapsed": false
   },
   "outputs": [
    {
     "data": {
      "text/plain": [
       "[0.86280000000000001,\n",
       " 0.86280000000000001,\n",
       " 0.86280000000000001,\n",
       " 0.86280000000000001,\n",
       " 0.86280000000000001,\n",
       " 0.86280000000000001,\n",
       " 0.86280000000000001,\n",
       " 0.86280000000000001,\n",
       " 0.86280000000000001,\n",
       " 0.86365000000000003,\n",
       " 0.86275000000000002,\n",
       " 0.86280000000000001,\n",
       " 0.86280000000000001,\n",
       " 0.86280000000000001,\n",
       " 0.86280000000000001,\n",
       " 0.86280000000000001,\n",
       " 0.86280000000000001,\n",
       " 0.86280000000000001,\n",
       " 0.86355000000000004,\n",
       " 0.86280000000000001,\n",
       " 0.86280000000000001,\n",
       " 0.86280000000000001,\n",
       " 0.86280000000000001,\n",
       " 0.86280000000000001,\n",
       " 0.86280000000000001,\n",
       " 0.86280000000000001,\n",
       " 0.86280000000000001,\n",
       " 0.86294999999999999,\n",
       " 0.86285000000000001,\n",
       " 0.86280000000000001,\n",
       " 0.86280000000000001,\n",
       " 0.86280000000000001,\n",
       " 0.86280000000000001,\n",
       " 0.86280000000000001,\n",
       " 0.86280000000000001,\n",
       " 0.86280000000000001,\n",
       " 0.86260000000000003,\n",
       " 0.86250000000000004,\n",
       " 0.86285000000000001,\n",
       " 0.86280000000000001,\n",
       " 0.86280000000000001,\n",
       " 0.86280000000000001,\n",
       " 0.86280000000000001,\n",
       " 0.86280000000000001,\n",
       " 0.86280000000000001,\n",
       " 0.86229999999999996,\n",
       " 0.86414999999999997,\n",
       " 0.86280000000000001,\n",
       " 0.86280000000000001,\n",
       " 0.86280000000000001,\n",
       " 0.86280000000000001,\n",
       " 0.86280000000000001,\n",
       " 0.86280000000000001,\n",
       " 0.86280000000000001,\n",
       " 0.86575000000000002,\n",
       " 0.86355000000000004,\n",
       " 0.86280000000000001,\n",
       " 0.86280000000000001,\n",
       " 0.86280000000000001,\n",
       " 0.86280000000000001,\n",
       " 0.86280000000000001,\n",
       " 0.86280000000000001,\n",
       " 0.86280000000000001,\n",
       " 0.86285000000000001,\n",
       " 0.86329999999999996,\n",
       " 0.86309999999999998,\n",
       " 0.86280000000000001,\n",
       " 0.86280000000000001,\n",
       " 0.86280000000000001,\n",
       " 0.86280000000000001,\n",
       " 0.86280000000000001,\n",
       " 0.86280000000000001,\n",
       " 0.86304999999999998,\n",
       " 0.86480000000000001,\n",
       " 0.86375000000000002,\n",
       " 0.86280000000000001,\n",
       " 0.86280000000000001,\n",
       " 0.86280000000000001,\n",
       " 0.86280000000000001,\n",
       " 0.86280000000000001,\n",
       " 0.86280000000000001,\n",
       " 0.86419999999999997,\n",
       " 0.8629,\n",
       " 0.8629,\n",
       " 0.86285000000000001,\n",
       " 0.86280000000000001,\n",
       " 0.86280000000000001,\n",
       " 0.86280000000000001,\n",
       " 0.86280000000000001,\n",
       " 0.86280000000000001,\n",
       " 0.86524999999999996,\n",
       " 0.8629,\n",
       " 0.8629,\n",
       " 0.8629,\n",
       " 0.86280000000000001,\n",
       " 0.86280000000000001,\n",
       " 0.86280000000000001,\n",
       " 0.86280000000000001,\n",
       " 0.86280000000000001,\n",
       " 0.86285000000000001,\n",
       " 0.86265000000000003,\n",
       " 0.86304999999999998,\n",
       " 0.86280000000000001,\n",
       " 0.86280000000000001,\n",
       " 0.86280000000000001,\n",
       " 0.86280000000000001,\n",
       " 0.86280000000000001,\n",
       " 0.86280000000000001,\n",
       " 0.86345000000000005,\n",
       " 0.86240000000000006,\n",
       " 0.86309999999999998,\n",
       " 0.8629,\n",
       " 0.86280000000000001,\n",
       " 0.86280000000000001,\n",
       " 0.86280000000000001,\n",
       " 0.86280000000000001,\n",
       " 0.86280000000000001,\n",
       " 0.86514999999999997,\n",
       " 0.86539999999999995,\n",
       " 0.86294999999999999,\n",
       " 0.86280000000000001,\n",
       " 0.86280000000000001,\n",
       " 0.86280000000000001,\n",
       " 0.86280000000000001,\n",
       " 0.86280000000000001,\n",
       " 0.86280000000000001,\n",
       " 0.86714999999999998,\n",
       " 0.86429999999999996,\n",
       " 0.86355000000000004,\n",
       " 0.86299999999999999,\n",
       " 0.86280000000000001,\n",
       " 0.86280000000000001,\n",
       " 0.86280000000000001,\n",
       " 0.86280000000000001,\n",
       " 0.86280000000000001,\n",
       " 0.86345000000000005,\n",
       " 0.86355000000000004,\n",
       " 0.86345000000000005,\n",
       " 0.86280000000000001,\n",
       " 0.8629,\n",
       " 0.86280000000000001,\n",
       " 0.86280000000000001,\n",
       " 0.86280000000000001,\n",
       " 0.86280000000000001,\n",
       " 0.86755000000000004,\n",
       " 0.86534999999999995,\n",
       " 0.86429999999999996,\n",
       " 0.86299999999999999,\n",
       " 0.8629,\n",
       " 0.86280000000000001,\n",
       " 0.86280000000000001,\n",
       " 0.86280000000000001,\n",
       " 0.86280000000000001,\n",
       " 0.86760000000000004,\n",
       " 0.86280000000000001,\n",
       " 0.86439999999999995,\n",
       " 0.86285000000000001,\n",
       " 0.86299999999999999,\n",
       " 0.86280000000000001,\n",
       " 0.86280000000000001,\n",
       " 0.86280000000000001,\n",
       " 0.86280000000000001,\n",
       " 0.86175000000000002,\n",
       " 0.86270000000000002,\n",
       " 0.86324999999999996,\n",
       " 0.86319999999999997,\n",
       " 0.86280000000000001,\n",
       " 0.86280000000000001,\n",
       " 0.86285000000000001,\n",
       " 0.86280000000000001,\n",
       " 0.86280000000000001,\n",
       " 0.86639999999999995,\n",
       " 0.86534999999999995,\n",
       " 0.86360000000000003,\n",
       " 0.86365000000000003,\n",
       " 0.86304999999999998,\n",
       " 0.86285000000000001,\n",
       " 0.86280000000000001,\n",
       " 0.86280000000000001,\n",
       " 0.86285000000000001,\n",
       " 0.86140000000000005,\n",
       " 0.86599999999999999,\n",
       " 0.86445000000000005,\n",
       " 0.86324999999999996,\n",
       " 0.86304999999999998,\n",
       " 0.86294999999999999,\n",
       " 0.86285000000000001,\n",
       " 0.86280000000000001,\n",
       " 0.86285000000000001,\n",
       " 0.86299999999999999,\n",
       " 0.86524999999999996,\n",
       " 0.86404999999999998,\n",
       " 0.86365000000000003,\n",
       " 0.86299999999999999,\n",
       " 0.86280000000000001,\n",
       " 0.86280000000000001,\n",
       " 0.86280000000000001,\n",
       " 0.86285000000000001,\n",
       " 0.8629,\n",
       " 0.86495,\n",
       " 0.86504999999999999,\n",
       " 0.86419999999999997,\n",
       " 0.86294999999999999,\n",
       " 0.86304999999999998,\n",
       " 0.86294999999999999,\n",
       " 0.86285000000000001,\n",
       " 0.86285000000000001,\n",
       " 0.86519999999999997,\n",
       " 0.86285000000000001,\n",
       " 0.86470000000000002,\n",
       " 0.86465000000000003,\n",
       " 0.86309999999999998,\n",
       " 0.86299999999999999,\n",
       " 0.86285000000000001,\n",
       " 0.86285000000000001,\n",
       " 0.86285000000000001,\n",
       " 0.86660000000000004,\n",
       " 0.86650000000000005,\n",
       " 0.86434999999999995,\n",
       " 0.86370000000000002,\n",
       " 0.86294999999999999,\n",
       " 0.86294999999999999,\n",
       " 0.86304999999999998,\n",
       " 0.86294999999999999,\n",
       " 0.86285000000000001,\n",
       " 0.86614999999999998,\n",
       " 0.86685000000000001,\n",
       " 0.86480000000000001,\n",
       " 0.86409999999999998,\n",
       " 0.86314999999999997,\n",
       " 0.86294999999999999,\n",
       " 0.8629,\n",
       " 0.86285000000000001,\n",
       " 0.86285000000000001,\n",
       " 0.86585000000000001,\n",
       " 0.86175000000000002,\n",
       " 0.86509999999999998,\n",
       " 0.86434999999999995,\n",
       " 0.86334999999999995,\n",
       " 0.86294999999999999,\n",
       " 0.86299999999999999,\n",
       " 0.86285000000000001,\n",
       " 0.8629,\n",
       " 0.86170000000000002,\n",
       " 0.86214999999999997,\n",
       " 0.86460000000000004,\n",
       " 0.86429999999999996,\n",
       " 0.86314999999999997,\n",
       " 0.86319999999999997,\n",
       " 0.86314999999999997,\n",
       " 0.8629,\n",
       " 0.86285000000000001,\n",
       " 0.86729999999999996,\n",
       " 0.86199999999999999,\n",
       " 0.86480000000000001,\n",
       " 0.86439999999999995,\n",
       " 0.8639,\n",
       " 0.86319999999999997,\n",
       " 0.86299999999999999,\n",
       " 0.86285000000000001,\n",
       " 0.86294999999999999,\n",
       " 0.86365000000000003,\n",
       " 0.86745000000000005,\n",
       " 0.86595,\n",
       " 0.86475000000000002,\n",
       " 0.86385000000000001,\n",
       " 0.86309999999999998,\n",
       " 0.8629,\n",
       " 0.86299999999999999,\n",
       " 0.86299999999999999,\n",
       " 0.86609999999999998,\n",
       " 0.86140000000000005,\n",
       " 0.86895,\n",
       " 0.86634999999999995,\n",
       " 0.86350000000000005,\n",
       " 0.86309999999999998,\n",
       " 0.86299999999999999,\n",
       " 0.86299999999999999,\n",
       " 0.86304999999999998]"
      ]
     },
     "execution_count": 28,
     "metadata": {},
     "output_type": "execute_result"
    }
   ],
   "source": [
    "bow_lgr_val_score_list"
   ]
  },
  {
   "cell_type": "code",
   "execution_count": null,
   "metadata": {
    "collapsed": true
   },
   "outputs": [],
   "source": []
  }
 ],
 "metadata": {
  "anaconda-cloud": {},
  "colab": {
   "collapsed_sections": [
    "CG7vVT_JhLaH",
    "Ak83hZkhhLbE",
    "p6fNhuZxhLbc",
    "ar-L7VaMhLbw",
    "YXICpYKphLby",
    "nq1pb-MEhLcS",
    "4tNkfqXDhLci",
    "TsANCkdjhLdp",
    "IBrkk1jXhLeg",
    "WconTThEhLfB",
    "cI9uYHwthLfn",
    "R6HAFNF0hLfw",
    "bB6WVw_GhLgD"
   ],
   "name": "Amazon Fine Food Reviews Analysis_Support Vector Machines.ipynb",
   "provenance": [],
   "version": "0.3.2"
  },
  "kernelspec": {
   "display_name": "Python [default]",
   "language": "python",
   "name": "python3"
  },
  "language_info": {
   "codemirror_mode": {
    "name": "ipython",
    "version": 3
   },
   "file_extension": ".py",
   "mimetype": "text/x-python",
   "name": "python",
   "nbconvert_exporter": "python",
   "pygments_lexer": "ipython3",
   "version": "3.5.2"
  }
 },
 "nbformat": 4,
 "nbformat_minor": 0
}
