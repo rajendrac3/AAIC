{
 "cells": [
  {
   "cell_type": "code",
   "execution_count": 4,
   "metadata": {
    "colab": {
     "base_uri": "https://localhost:8080/",
     "height": 527
    },
    "colab_type": "code",
    "collapsed": false,
    "executionInfo": {
     "elapsed": 107700,
     "status": "ok",
     "timestamp": 1554187547207,
     "user": {
      "displayName": "Rajendra Choudhary",
      "photoUrl": "https://lh3.googleusercontent.com/-H2n68bMjaqM/AAAAAAAAAAI/AAAAAAAAADs/35wbnA9B3WM/s64/photo.jpg",
      "userId": "11987022453046813676"
     },
     "user_tz": -330
    },
    "id": "H9EU0e8yzFOm",
    "outputId": "a53cad24-c579-4cd3-cd70-dd0b78909cb6"
   },
   "outputs": [
    {
     "name": "stdout",
     "output_type": "stream",
     "text": [
      "x_train shape: (60000, 28, 28, 1)\n",
      "60000 train samples\n",
      "10000 test samples\n",
      "Train on 60000 samples, validate on 10000 samples\n",
      "Epoch 1/12\n",
      "60000/60000 [==============================] - 9s 155us/step - loss: 0.2730 - acc: 0.9160 - val_loss: 0.0593 - val_acc: 0.9814\n",
      "Epoch 2/12\n",
      "60000/60000 [==============================] - 9s 145us/step - loss: 0.0909 - acc: 0.9731 - val_loss: 0.0413 - val_acc: 0.9863\n",
      "Epoch 3/12\n",
      "60000/60000 [==============================] - 9s 145us/step - loss: 0.0674 - acc: 0.9795 - val_loss: 0.0347 - val_acc: 0.9879\n",
      "Epoch 4/12\n",
      "60000/60000 [==============================] - 9s 145us/step - loss: 0.0556 - acc: 0.9832 - val_loss: 0.0331 - val_acc: 0.9891\n",
      "Epoch 5/12\n",
      "60000/60000 [==============================] - 9s 145us/step - loss: 0.0471 - acc: 0.9857 - val_loss: 0.0297 - val_acc: 0.9893\n",
      "Epoch 6/12\n",
      "60000/60000 [==============================] - 9s 145us/step - loss: 0.0433 - acc: 0.9872 - val_loss: 0.0309 - val_acc: 0.9884\n",
      "Epoch 7/12\n",
      "60000/60000 [==============================] - 9s 145us/step - loss: 0.0390 - acc: 0.9885 - val_loss: 0.0295 - val_acc: 0.9904\n",
      "Epoch 8/12\n",
      "60000/60000 [==============================] - 9s 145us/step - loss: 0.0347 - acc: 0.9892 - val_loss: 0.0265 - val_acc: 0.9914\n",
      "Epoch 9/12\n",
      "60000/60000 [==============================] - 9s 145us/step - loss: 0.0320 - acc: 0.9899 - val_loss: 0.0269 - val_acc: 0.9916\n",
      "Epoch 10/12\n",
      "60000/60000 [==============================] - 9s 145us/step - loss: 0.0284 - acc: 0.9911 - val_loss: 0.0260 - val_acc: 0.9916\n",
      "Epoch 11/12\n",
      "60000/60000 [==============================] - 9s 145us/step - loss: 0.0273 - acc: 0.9913 - val_loss: 0.0253 - val_acc: 0.9923\n",
      "Epoch 12/12\n",
      "60000/60000 [==============================] - 9s 145us/step - loss: 0.0258 - acc: 0.9920 - val_loss: 0.0270 - val_acc: 0.9917\n",
      "Test loss: 0.026977979276103632\n",
      "Test accuracy: 0.9917\n"
     ]
    }
   ],
   "source": [
    "# Credits: https://github.com/keras-team/keras/blob/master/examples/mnist_cnn.py\n",
    "\n",
    "\n",
    "from __future__ import print_function\n",
    "import keras\n",
    "from keras.datasets import mnist\n",
    "from keras.models import Sequential\n",
    "from keras.layers import Dense, Dropout, Flatten\n",
    "from keras.layers import Conv2D, MaxPooling2D\n",
    "from keras import backend as K\n",
    "\n",
    "batch_size = 128\n",
    "num_classes = 10\n",
    "epochs = 12\n",
    "\n",
    "# input image dimensions\n",
    "img_rows, img_cols = 28, 28\n",
    "\n",
    "# the data, split between train and test sets\n",
    "(x_train, y_train), (x_test, y_test) = mnist.load_data()\n",
    "\n",
    "if K.image_data_format() == 'channels_first':\n",
    "    x_train = x_train.reshape(x_train.shape[0], 1, img_rows, img_cols)\n",
    "    x_test = x_test.reshape(x_test.shape[0], 1, img_rows, img_cols)\n",
    "    input_shape = (1, img_rows, img_cols)\n",
    "else:\n",
    "    x_train = x_train.reshape(x_train.shape[0], img_rows, img_cols, 1)\n",
    "    x_test = x_test.reshape(x_test.shape[0], img_rows, img_cols, 1)\n",
    "    input_shape = (img_rows, img_cols, 1)\n",
    "\n",
    "x_train = x_train.astype('float32')\n",
    "x_test = x_test.astype('float32')\n",
    "x_train /= 255\n",
    "x_test /= 255\n",
    "print('x_train shape:', x_train.shape)\n",
    "print(x_train.shape[0], 'train samples')\n",
    "print(x_test.shape[0], 'test samples')\n",
    "\n",
    "# convert class vectors to binary class matrices\n",
    "y_train = keras.utils.to_categorical(y_train, num_classes)\n",
    "y_test = keras.utils.to_categorical(y_test, num_classes)\n",
    "\n",
    "model = Sequential()\n",
    "model.add(Conv2D(32, kernel_size=(3, 3),\n",
    "                 activation='relu',\n",
    "                 input_shape=input_shape))\n",
    "model.add(Conv2D(64, (3, 3), activation='relu'))\n",
    "model.add(MaxPooling2D(pool_size=(2, 2)))\n",
    "model.add(Dropout(0.25))\n",
    "model.add(Flatten())\n",
    "model.add(Dense(128, activation='relu'))\n",
    "model.add(Dropout(0.5))\n",
    "model.add(Dense(num_classes, activation='softmax'))\n",
    "\n",
    "model.compile(loss=keras.losses.categorical_crossentropy,\n",
    "              optimizer=keras.optimizers.Adadelta(),\n",
    "              metrics=['accuracy'])\n",
    "\n",
    "history = model.fit(x_train, y_train,\n",
    "          batch_size=batch_size,\n",
    "          epochs=epochs,\n",
    "          verbose=1,\n",
    "          validation_data=(x_test, y_test))\n",
    "score = model.evaluate(x_test, y_test, verbose=0)\n",
    "print('Test loss:', score[0])\n",
    "print('Test accuracy:', score[1])"
   ]
  },
  {
   "cell_type": "code",
   "execution_count": 6,
   "metadata": {
    "colab": {
     "base_uri": "https://localhost:8080/",
     "height": 395
    },
    "colab_type": "code",
    "collapsed": false,
    "executionInfo": {
     "elapsed": 2318,
     "status": "ok",
     "timestamp": 1554187599682,
     "user": {
      "displayName": "Rajendra Choudhary",
      "photoUrl": "https://lh3.googleusercontent.com/-H2n68bMjaqM/AAAAAAAAAAI/AAAAAAAAADs/35wbnA9B3WM/s64/photo.jpg",
      "userId": "11987022453046813676"
     },
     "user_tz": -330
    },
    "id": "4ZSHOUjpGHvO",
    "outputId": "25f8be77-81ce-4b36-d0f1-fdc1353ec840"
   },
   "outputs": [
    {
     "name": "stdout",
     "output_type": "stream",
     "text": [
      "Test score: 0.026977979276103632\n",
      "Test accuracy: 0.9917\n"
     ]
    },
    {
     "data": {
      "image/png": "[encoded data removed]",
      "text/plain": [
       "<Figure size 576x396 with 1 Axes>"
      ]
     },
     "metadata": {
      "tags": []
     },
     "output_type": "display_data"
    }
   ],
   "source": [
    "import matplotlib.pyplot as plt\n",
    "score = model.evaluate(x_test, y_test, verbose=0)\n",
    "print('Test score:', score[0])\n",
    "print('Test accuracy:', score[1])\n",
    "fig,ax = plt.subplots(1,1)\n",
    "ax.set_xlabel('epoch') ; ax.set_ylabel('Categorical Crossentropy Loss')\n",
    "x = list(range(1,epochs+1))\n",
    "vy = history.history['val_loss']\n",
    "ty = history.history['loss']\n",
    "# plt_dynamic(x, vy, ty, ax)\n",
    "ax.plot(x, vy, 'b', label=\"Validation Loss\")\n",
    "ax.plot(x, ty, 'r', label=\"Train Loss\")\n",
    "plt.legend()\n",
    "plt.grid()\n",
    "fig.canvas.draw()"
   ]
  },
  {
   "cell_type": "code",
   "execution_count": 7,
   "metadata": {
    "colab": {
     "base_uri": "https://localhost:8080/",
     "height": 476
    },
    "colab_type": "code",
    "collapsed": false,
    "executionInfo": {
     "elapsed": 98030,
     "status": "ok",
     "timestamp": 1554187750426,
     "user": {
      "displayName": "Rajendra Choudhary",
      "photoUrl": "https://lh3.googleusercontent.com/-H2n68bMjaqM/AAAAAAAAAAI/AAAAAAAAADs/35wbnA9B3WM/s64/photo.jpg",
      "userId": "11987022453046813676"
     },
     "user_tz": -330
    },
    "id": "_e9TegPhyhd6",
    "outputId": "8d217526-835c-48a3-9f1f-26e55802dec2"
   },
   "outputs": [
    {
     "name": "stdout",
     "output_type": "stream",
     "text": [
      "Train on 60000 samples, validate on 10000 samples\n",
      "Epoch 1/12\n",
      "60000/60000 [==============================] - 9s 143us/step - loss: 0.3799 - acc: 0.8769 - val_loss: 0.0607 - val_acc: 0.9810\n",
      "Epoch 2/12\n",
      "60000/60000 [==============================] - 8s 132us/step - loss: 0.1151 - acc: 0.9645 - val_loss: 0.0437 - val_acc: 0.9854\n",
      "Epoch 3/12\n",
      "60000/60000 [==============================] - 8s 132us/step - loss: 0.0924 - acc: 0.9720 - val_loss: 0.0364 - val_acc: 0.9886\n",
      "Epoch 4/12\n",
      "60000/60000 [==============================] - 8s 132us/step - loss: 0.0750 - acc: 0.9775 - val_loss: 0.0325 - val_acc: 0.9897\n",
      "Epoch 5/12\n",
      "60000/60000 [==============================] - 8s 132us/step - loss: 0.0674 - acc: 0.9801 - val_loss: 0.0269 - val_acc: 0.9898\n",
      "Epoch 6/12\n",
      "60000/60000 [==============================] - 8s 132us/step - loss: 0.0618 - acc: 0.9812 - val_loss: 0.0266 - val_acc: 0.9909\n",
      "Epoch 7/12\n",
      "60000/60000 [==============================] - 8s 132us/step - loss: 0.0583 - acc: 0.9820 - val_loss: 0.0260 - val_acc: 0.9914\n",
      "Epoch 8/12\n",
      "60000/60000 [==============================] - 8s 132us/step - loss: 0.0530 - acc: 0.9844 - val_loss: 0.0261 - val_acc: 0.9919\n",
      "Epoch 9/12\n",
      "60000/60000 [==============================] - 8s 132us/step - loss: 0.0514 - acc: 0.9844 - val_loss: 0.0233 - val_acc: 0.9925\n",
      "Epoch 10/12\n",
      "60000/60000 [==============================] - 8s 132us/step - loss: 0.0483 - acc: 0.9852 - val_loss: 0.0225 - val_acc: 0.9918\n",
      "Epoch 11/12\n",
      "60000/60000 [==============================] - 8s 133us/step - loss: 0.0456 - acc: 0.9857 - val_loss: 0.0220 - val_acc: 0.9923\n",
      "Epoch 12/12\n",
      "60000/60000 [==============================] - 8s 132us/step - loss: 0.0443 - acc: 0.9866 - val_loss: 0.0241 - val_acc: 0.9926\n",
      "Test loss: 0.024088586140600093\n",
      "Test accuracy: 0.9926\n"
     ]
    }
   ],
   "source": [
    "model = Sequential()\n",
    "model.add(Conv2D(32, kernel_size=(5, 5),\n",
    "                 activation='relu',\n",
    "                 input_shape=input_shape, strides=(1, 1), padding = 'same'))\n",
    "model.add(Conv2D(64, (3, 3), activation='relu'))\n",
    "model.add(MaxPooling2D(pool_size=(2, 2)))\n",
    "model.add(MaxPooling2D(pool_size=(2, 2)))\n",
    "model.add(MaxPooling2D(pool_size=(2, 2)))\n",
    "model.add(Dropout(0.3))\n",
    "model.add(Flatten())\n",
    "model.add(Dense(128, activation='relu'))\n",
    "model.add(Dropout(0.4))\n",
    "model.add(Dense(num_classes, activation='softmax'))\n",
    "\n",
    "model.compile(loss=keras.losses.categorical_crossentropy,\n",
    "              optimizer=keras.optimizers.Adadelta(),\n",
    "              metrics=['accuracy'])\n",
    "\n",
    "history = model.fit(x_train, y_train,\n",
    "          batch_size=batch_size,\n",
    "          epochs=epochs,\n",
    "          verbose=1,\n",
    "          validation_data=(x_test, y_test))\n",
    "score = model.evaluate(x_test, y_test, verbose=0)\n",
    "print('Test loss:', score[0])\n",
    "print('Test accuracy:', score[1])"
   ]
  },
  {
   "cell_type": "code",
   "execution_count": 8,
   "metadata": {
    "colab": {
     "base_uri": "https://localhost:8080/",
     "height": 395
    },
    "colab_type": "code",
    "collapsed": false,
    "executionInfo": {
     "elapsed": 2109,
     "status": "ok",
     "timestamp": 1554187891626,
     "user": {
      "displayName": "Rajendra Choudhary",
      "photoUrl": "https://lh3.googleusercontent.com/-H2n68bMjaqM/AAAAAAAAAAI/AAAAAAAAADs/35wbnA9B3WM/s64/photo.jpg",
      "userId": "11987022453046813676"
     },
     "user_tz": -330
    },
    "id": "Kf0P9M3SzYy8",
    "outputId": "d4f2e8e3-165a-487f-fa5f-83d7e7ddeba5"
   },
   "outputs": [
    {
     "name": "stdout",
     "output_type": "stream",
     "text": [
      "Test score: 0.024088586140600093\n",
      "Test accuracy: 0.9926\n"
     ]
    },
    {
     "data": {
      "image/png": "[encoded data removed]",
      "text/plain": [
       "<Figure size 576x396 with 1 Axes>"
      ]
     },
     "metadata": {
      "tags": []
     },
     "output_type": "display_data"
    }
   ],
   "source": [
    "import matplotlib.pyplot as plt\n",
    "score = model.evaluate(x_test, y_test, verbose=0)\n",
    "print('Test score:', score[0])\n",
    "print('Test accuracy:', score[1])\n",
    "fig,ax = plt.subplots(1,1)\n",
    "ax.set_xlabel('epoch') ; ax.set_ylabel('Categorical Crossentropy Loss')\n",
    "x = list(range(1,epochs+1))\n",
    "vy = history.history['val_loss']\n",
    "ty = history.history['loss']\n",
    "# plt_dynamic(x, vy, ty, ax)\n",
    "ax.plot(x, vy, 'b', label=\"Validation Loss\")\n",
    "ax.plot(x, ty, 'r', label=\"Train Loss\")\n",
    "plt.legend()\n",
    "plt.grid()\n",
    "fig.canvas.draw()"
   ]
  },
  {
   "cell_type": "code",
   "execution_count": 9,
   "metadata": {
    "colab": {
     "base_uri": "https://localhost:8080/",
     "height": 476
    },
    "colab_type": "code",
    "collapsed": false,
    "executionInfo": {
     "elapsed": 67445,
     "status": "ok",
     "timestamp": 1554187998183,
     "user": {
      "displayName": "Rajendra Choudhary",
      "photoUrl": "https://lh3.googleusercontent.com/-H2n68bMjaqM/AAAAAAAAAAI/AAAAAAAAADs/35wbnA9B3WM/s64/photo.jpg",
      "userId": "11987022453046813676"
     },
     "user_tz": -330
    },
    "id": "kZkAi2BS0Ssk",
    "outputId": "09a1f5a2-5993-4386-ec28-7e3f3357b6bf"
   },
   "outputs": [
    {
     "name": "stdout",
     "output_type": "stream",
     "text": [
      "Train on 60000 samples, validate on 10000 samples\n",
      "Epoch 1/12\n",
      "60000/60000 [==============================] - 6s 101us/step - loss: 0.7557 - acc: 0.7477 - val_loss: 0.1619 - val_acc: 0.9522\n",
      "Epoch 2/12\n",
      "60000/60000 [==============================] - 5s 90us/step - loss: 0.2626 - acc: 0.9205 - val_loss: 0.1066 - val_acc: 0.9682\n",
      "Epoch 3/12\n",
      "60000/60000 [==============================] - 5s 90us/step - loss: 0.2049 - acc: 0.9398 - val_loss: 0.0847 - val_acc: 0.9744\n",
      "Epoch 4/12\n",
      "60000/60000 [==============================] - 5s 90us/step - loss: 0.1807 - acc: 0.9460 - val_loss: 0.0900 - val_acc: 0.9723\n",
      "Epoch 5/12\n",
      "60000/60000 [==============================] - 5s 89us/step - loss: 0.1592 - acc: 0.9539 - val_loss: 0.0722 - val_acc: 0.9782\n",
      "Epoch 6/12\n",
      "60000/60000 [==============================] - 5s 90us/step - loss: 0.1419 - acc: 0.9585 - val_loss: 0.0684 - val_acc: 0.9777\n",
      "Epoch 7/12\n",
      "60000/60000 [==============================] - 5s 90us/step - loss: 0.1321 - acc: 0.9603 - val_loss: 0.0590 - val_acc: 0.9819\n",
      "Epoch 8/12\n",
      "60000/60000 [==============================] - 5s 90us/step - loss: 0.1243 - acc: 0.9623 - val_loss: 0.0592 - val_acc: 0.9811\n",
      "Epoch 9/12\n",
      "60000/60000 [==============================] - 5s 90us/step - loss: 0.1156 - acc: 0.9658 - val_loss: 0.0541 - val_acc: 0.9824\n",
      "Epoch 10/12\n",
      "60000/60000 [==============================] - 5s 90us/step - loss: 0.1089 - acc: 0.9677 - val_loss: 0.0586 - val_acc: 0.9820\n",
      "Epoch 11/12\n",
      "60000/60000 [==============================] - 5s 89us/step - loss: 0.1051 - acc: 0.9686 - val_loss: 0.0515 - val_acc: 0.9834\n",
      "Epoch 12/12\n",
      "60000/60000 [==============================] - 5s 90us/step - loss: 0.0985 - acc: 0.9707 - val_loss: 0.0510 - val_acc: 0.9837\n",
      "Test loss: 0.05100429020554293\n",
      "Test accuracy: 0.9837\n"
     ]
    }
   ],
   "source": [
    "model = Sequential()\n",
    "model.add(Conv2D(32, kernel_size=(7, 7),\n",
    "                 activation='relu',\n",
    "                 input_shape=input_shape, strides=(2, 2), padding = 'same'))\n",
    "model.add(Conv2D(64, (3, 3), activation='relu'))\n",
    "model.add(MaxPooling2D(pool_size=(2, 2)))\n",
    "model.add(MaxPooling2D(pool_size=(2, 2)))\n",
    "model.add(MaxPooling2D(pool_size=(2, 2)))\n",
    "model.add(Dropout(0.25))\n",
    "model.add(Flatten())\n",
    "model.add(Dense(128, activation='relu'))\n",
    "model.add(Dropout(0.5))\n",
    "model.add(Dense(num_classes, activation='softmax'))\n",
    "\n",
    "model.compile(loss=keras.losses.categorical_crossentropy,\n",
    "              optimizer=keras.optimizers.Adadelta(),\n",
    "              metrics=['accuracy'])\n",
    "\n",
    "history = model.fit(x_train, y_train,\n",
    "          batch_size=batch_size,\n",
    "          epochs=epochs,\n",
    "          verbose=1,\n",
    "          validation_data=(x_test, y_test))\n",
    "score = model.evaluate(x_test, y_test, verbose=0)\n",
    "print('Test loss:', score[0])\n",
    "print('Test accuracy:', score[1])"
   ]
  },
  {
   "cell_type": "code",
   "execution_count": 10,
   "metadata": {
    "colab": {
     "base_uri": "https://localhost:8080/",
     "height": 395
    },
    "colab_type": "code",
    "collapsed": false,
    "executionInfo": {
     "elapsed": 2532,
     "status": "ok",
     "timestamp": 1554188204872,
     "user": {
      "displayName": "Rajendra Choudhary",
      "photoUrl": "https://lh3.googleusercontent.com/-H2n68bMjaqM/AAAAAAAAAAI/AAAAAAAAADs/35wbnA9B3WM/s64/photo.jpg",
      "userId": "11987022453046813676"
     },
     "user_tz": -330
    },
    "id": "3d6c3k9g0cv5",
    "outputId": "148d5c93-d926-4357-e53c-f3ac676f8fc3"
   },
   "outputs": [
    {
     "name": "stdout",
     "output_type": "stream",
     "text": [
      "Test score: 0.05100429020554293\n",
      "Test accuracy: 0.9837\n"
     ]
    },
    {
     "data": {
      "image/png": "[encoded data removed]",
      "text/plain": [
       "<Figure size 576x396 with 1 Axes>"
      ]
     },
     "metadata": {
      "tags": []
     },
     "output_type": "display_data"
    }
   ],
   "source": [
    "import matplotlib.pyplot as plt\n",
    "score = model.evaluate(x_test, y_test, verbose=0)\n",
    "print('Test score:', score[0])\n",
    "print('Test accuracy:', score[1])\n",
    "fig,ax = plt.subplots(1,1)\n",
    "ax.set_xlabel('epoch') ; ax.set_ylabel('Categorical Crossentropy Loss')\n",
    "x = list(range(1,epochs+1))\n",
    "vy = history.history['val_loss']\n",
    "ty = history.history['loss']\n",
    "# plt_dynamic(x, vy, ty, ax)\n",
    "ax.plot(x, vy, 'b', label=\"Validation Loss\")\n",
    "ax.plot(x, ty, 'r', label=\"Train Loss\")\n",
    "plt.legend()\n",
    "plt.grid()\n",
    "fig.canvas.draw()"
   ]
  },
  {
   "cell_type": "code",
   "execution_count": 11,
   "metadata": {
    "colab": {
     "base_uri": "https://localhost:8080/",
     "height": 476
    },
    "colab_type": "code",
    "collapsed": false,
    "executionInfo": {
     "elapsed": 99546,
     "status": "ok",
     "timestamp": 1554188370432,
     "user": {
      "displayName": "Rajendra Choudhary",
      "photoUrl": "https://lh3.googleusercontent.com/-H2n68bMjaqM/AAAAAAAAAAI/AAAAAAAAADs/35wbnA9B3WM/s64/photo.jpg",
      "userId": "11987022453046813676"
     },
     "user_tz": -330
    },
    "id": "0T8RejVf1fDn",
    "outputId": "9fbc160f-1013-4878-e440-a05c26d27f8c"
   },
   "outputs": [
    {
     "name": "stdout",
     "output_type": "stream",
     "text": [
      "Train on 60000 samples, validate on 10000 samples\n",
      "Epoch 1/12\n",
      "60000/60000 [==============================] - 9s 147us/step - loss: 0.1909 - acc: 0.9419 - val_loss: 0.0592 - val_acc: 0.9797\n",
      "Epoch 2/12\n",
      "60000/60000 [==============================] - 8s 134us/step - loss: 0.0474 - acc: 0.9859 - val_loss: 0.0398 - val_acc: 0.9869\n",
      "Epoch 3/12\n",
      "60000/60000 [==============================] - 8s 133us/step - loss: 0.0303 - acc: 0.9907 - val_loss: 0.0377 - val_acc: 0.9874\n",
      "Epoch 4/12\n",
      "60000/60000 [==============================] - 8s 134us/step - loss: 0.0204 - acc: 0.9937 - val_loss: 0.0330 - val_acc: 0.9890\n",
      "Epoch 5/12\n",
      "60000/60000 [==============================] - 8s 135us/step - loss: 0.0143 - acc: 0.9955 - val_loss: 0.0319 - val_acc: 0.9898\n",
      "Epoch 6/12\n",
      "60000/60000 [==============================] - 8s 134us/step - loss: 0.0095 - acc: 0.9972 - val_loss: 0.0378 - val_acc: 0.9894\n",
      "Epoch 7/12\n",
      "60000/60000 [==============================] - 8s 134us/step - loss: 0.0064 - acc: 0.9980 - val_loss: 0.0350 - val_acc: 0.9896\n",
      "Epoch 8/12\n",
      "60000/60000 [==============================] - 8s 134us/step - loss: 0.0042 - acc: 0.9988 - val_loss: 0.0403 - val_acc: 0.9894\n",
      "Epoch 9/12\n",
      "60000/60000 [==============================] - 8s 134us/step - loss: 0.0027 - acc: 0.9992 - val_loss: 0.0413 - val_acc: 0.9902\n",
      "Epoch 10/12\n",
      "60000/60000 [==============================] - 8s 134us/step - loss: 0.0022 - acc: 0.9994 - val_loss: 0.0396 - val_acc: 0.9911\n",
      "Epoch 11/12\n",
      "60000/60000 [==============================] - 8s 134us/step - loss: 0.0011 - acc: 0.9998 - val_loss: 0.0472 - val_acc: 0.9900\n",
      "Epoch 12/12\n",
      "60000/60000 [==============================] - 8s 134us/step - loss: 6.3185e-04 - acc: 0.9999 - val_loss: 0.0427 - val_acc: 0.9902\n",
      "Test loss: 0.04266088300381594\n",
      "Test accuracy: 0.9902\n"
     ]
    }
   ],
   "source": [
    "model = Sequential()\n",
    "model.add(Conv2D(32, kernel_size=(3, 3),\n",
    "                 activation='relu',\n",
    "                 input_shape=input_shape))\n",
    "model.add(Conv2D(64, (3, 3), activation='relu'))\n",
    "model.add(MaxPooling2D(pool_size=(2, 2)))\n",
    "model.add(Flatten())\n",
    "model.add(Dense(128, activation='relu'))\n",
    "model.add(Dense(num_classes, activation='softmax'))\n",
    "\n",
    "model.compile(loss=keras.losses.categorical_crossentropy,\n",
    "              optimizer=keras.optimizers.Adadelta(),\n",
    "              metrics=['accuracy'])\n",
    "\n",
    "history = model.fit(x_train, y_train,\n",
    "          batch_size=batch_size,\n",
    "          epochs=epochs,\n",
    "          verbose=1,\n",
    "          validation_data=(x_test, y_test))\n",
    "score = model.evaluate(x_test, y_test, verbose=0)\n",
    "print('Test loss:', score[0])\n",
    "print('Test accuracy:', score[1])"
   ]
  },
  {
   "cell_type": "code",
   "execution_count": 12,
   "metadata": {
    "colab": {
     "base_uri": "https://localhost:8080/",
     "height": 398
    },
    "colab_type": "code",
    "collapsed": false,
    "executionInfo": {
     "elapsed": 2809,
     "status": "ok",
     "timestamp": 1554188417683,
     "user": {
      "displayName": "Rajendra Choudhary",
      "photoUrl": "https://lh3.googleusercontent.com/-H2n68bMjaqM/AAAAAAAAAAI/AAAAAAAAADs/35wbnA9B3WM/s64/photo.jpg",
      "userId": "11987022453046813676"
     },
     "user_tz": -330
    },
    "id": "2D9TH8IY1vzK",
    "outputId": "25f0ff47-fdc4-4e7e-c5fa-f59a8ba5ddc0"
   },
   "outputs": [
    {
     "name": "stdout",
     "output_type": "stream",
     "text": [
      "Test score: 0.04266088300381594\n",
      "Test accuracy: 0.9902\n"
     ]
    },
    {
     "data": {
      "image/png": "[encoded data removed]",
      "text/plain": [
       "<Figure size 576x396 with 1 Axes>"
      ]
     },
     "metadata": {
      "tags": []
     },
     "output_type": "display_data"
    }
   ],
   "source": [
    "import matplotlib.pyplot as plt\n",
    "score = model.evaluate(x_test, y_test, verbose=0)\n",
    "print('Test score:', score[0])\n",
    "print('Test accuracy:', score[1])\n",
    "fig,ax = plt.subplots(1,1)\n",
    "ax.set_xlabel('epoch') ; ax.set_ylabel('Categorical Crossentropy Loss')\n",
    "x = list(range(1,epochs+1))\n",
    "vy = history.history['val_loss']\n",
    "ty = history.history['loss']\n",
    "# plt_dynamic(x, vy, ty, ax)\n",
    "ax.plot(x, vy, 'b', label=\"Validation Loss\")\n",
    "ax.plot(x, ty, 'r', label=\"Train Loss\")\n",
    "plt.legend()\n",
    "plt.grid()\n",
    "fig.canvas.draw()"
   ]
  },
  {
   "cell_type": "code",
   "execution_count": 16,
   "metadata": {
    "colab": {
     "base_uri": "https://localhost:8080/",
     "height": 476
    },
    "colab_type": "code",
    "collapsed": false,
    "executionInfo": {
     "elapsed": 154294,
     "status": "ok",
     "timestamp": 1554194219657,
     "user": {
      "displayName": "Rajendra Choudhary",
      "photoUrl": "https://lh3.googleusercontent.com/-H2n68bMjaqM/AAAAAAAAAAI/AAAAAAAAADs/35wbnA9B3WM/s64/photo.jpg",
      "userId": "11987022453046813676"
     },
     "user_tz": -330
    },
    "id": "pA5P0cI02S8w",
    "outputId": "0affd1ef-e133-4ddb-ad7a-09178953920a"
   },
   "outputs": [
    {
     "name": "stdout",
     "output_type": "stream",
     "text": [
      "Train on 60000 samples, validate on 10000 samples\n",
      "Epoch 1/12\n",
      "60000/60000 [==============================] - 13s 220us/step - loss: 0.1764 - acc: 0.9470 - val_loss: 0.0516 - val_acc: 0.9816\n",
      "Epoch 2/12\n",
      "60000/60000 [==============================] - 12s 205us/step - loss: 0.0419 - acc: 0.9871 - val_loss: 0.0349 - val_acc: 0.9889\n",
      "Epoch 3/12\n",
      "60000/60000 [==============================] - 12s 205us/step - loss: 0.0264 - acc: 0.9918 - val_loss: 0.0285 - val_acc: 0.9905\n",
      "Epoch 4/12\n",
      "60000/60000 [==============================] - 12s 205us/step - loss: 0.0174 - acc: 0.9947 - val_loss: 0.0327 - val_acc: 0.9883\n",
      "Epoch 5/12\n",
      "60000/60000 [==============================] - 12s 204us/step - loss: 0.0112 - acc: 0.9967 - val_loss: 0.0343 - val_acc: 0.9908\n",
      "Epoch 6/12\n",
      "60000/60000 [==============================] - 12s 204us/step - loss: 0.0077 - acc: 0.9977 - val_loss: 0.0322 - val_acc: 0.9913\n",
      "Epoch 7/12\n",
      "60000/60000 [==============================] - 12s 204us/step - loss: 0.0054 - acc: 0.9983 - val_loss: 0.0328 - val_acc: 0.9914\n",
      "Epoch 8/12\n",
      "60000/60000 [==============================] - 12s 203us/step - loss: 0.0038 - acc: 0.9990 - val_loss: 0.0394 - val_acc: 0.9910\n",
      "Epoch 9/12\n",
      "60000/60000 [==============================] - 12s 203us/step - loss: 0.0024 - acc: 0.9994 - val_loss: 0.0357 - val_acc: 0.9918\n",
      "Epoch 10/12\n",
      "60000/60000 [==============================] - 12s 204us/step - loss: 0.0015 - acc: 0.9996 - val_loss: 0.0403 - val_acc: 0.9914\n",
      "Epoch 11/12\n",
      "60000/60000 [==============================] - 12s 204us/step - loss: 5.9086e-04 - acc: 0.9999 - val_loss: 0.0464 - val_acc: 0.9916\n",
      "Epoch 12/12\n",
      "60000/60000 [==============================] - 12s 203us/step - loss: 5.3715e-04 - acc: 0.9999 - val_loss: 0.0451 - val_acc: 0.9914\n",
      "Test loss: 0.04509090457339796\n",
      "Test accuracy: 0.9914\n"
     ]
    }
   ],
   "source": [
    "model = Sequential()\n",
    "model.add(Conv2D(32, kernel_size=(3, 3),\n",
    "                 activation='relu',\n",
    "                 input_shape=input_shape))\n",
    "model.add(Conv2D(64, (3, 3), activation='relu'))\n",
    "model.add(Conv2D(64, (3, 3), activation='relu'))\n",
    "model.add(MaxPooling2D(pool_size=(2, 2)))\n",
    "model.add(Flatten())\n",
    "model.add(Dense(128, activation='relu'))\n",
    "model.add(Dense(num_classes, activation='softmax'))\n",
    "\n",
    "model.compile(loss=keras.losses.categorical_crossentropy,\n",
    "              optimizer=keras.optimizers.Adadelta(),\n",
    "              metrics=['accuracy'])\n",
    "\n",
    "history = model.fit(x_train, y_train,\n",
    "          batch_size=batch_size,\n",
    "          epochs=epochs,\n",
    "          verbose=1,\n",
    "          validation_data=(x_test, y_test))\n",
    "score = model.evaluate(x_test, y_test, verbose=0)\n",
    "print('Test loss:', score[0])\n",
    "print('Test accuracy:', score[1])"
   ]
  },
  {
   "cell_type": "code",
   "execution_count": 17,
   "metadata": {
    "colab": {
     "base_uri": "https://localhost:8080/",
     "height": 395
    },
    "colab_type": "code",
    "collapsed": false,
    "executionInfo": {
     "elapsed": 4807,
     "status": "ok",
     "timestamp": 1554194294032,
     "user": {
      "displayName": "Rajendra Choudhary",
      "photoUrl": "https://lh3.googleusercontent.com/-H2n68bMjaqM/AAAAAAAAAAI/AAAAAAAAADs/35wbnA9B3WM/s64/photo.jpg",
      "userId": "11987022453046813676"
     },
     "user_tz": -330
    },
    "id": "7D5lqGaj2kZV",
    "outputId": "9bbd37b1-5e8c-4836-ca57-f6b599449878"
   },
   "outputs": [
    {
     "name": "stdout",
     "output_type": "stream",
     "text": [
      "Test score: 0.04509090457339796\n",
      "Test accuracy: 0.9914\n"
     ]
    },
    {
     "data": {
      "image/png": "[encoded data removed]",
      "text/plain": [
       "<Figure size 576x396 with 1 Axes>"
      ]
     },
     "metadata": {
      "tags": []
     },
     "output_type": "display_data"
    }
   ],
   "source": [
    "import matplotlib.pyplot as plt\n",
    "score = model.evaluate(x_test, y_test, verbose=0)\n",
    "print('Test score:', score[0])\n",
    "print('Test accuracy:', score[1])\n",
    "fig,ax = plt.subplots(1,1)\n",
    "ax.set_xlabel('epoch') ; ax.set_ylabel('Categorical Crossentropy Loss')\n",
    "x = list(range(1,epochs+1))\n",
    "vy = history.history['val_loss']\n",
    "ty = history.history['loss']\n",
    "# plt_dynamic(x, vy, ty, ax)\n",
    "ax.plot(x, vy, 'b', label=\"Validation Loss\")\n",
    "ax.plot(x, ty, 'r', label=\"Train Loss\")\n",
    "plt.legend()\n",
    "plt.grid()\n",
    "fig.canvas.draw()"
   ]
  },
  {
   "cell_type": "code",
   "execution_count": 24,
   "metadata": {
    "colab": {
     "base_uri": "https://localhost:8080/",
     "height": 170
    },
    "colab_type": "code",
    "collapsed": false,
    "executionInfo": {
     "elapsed": 3421,
     "status": "ok",
     "timestamp": 1554194529451,
     "user": {
      "displayName": "Rajendra Choudhary",
      "photoUrl": "https://lh3.googleusercontent.com/-H2n68bMjaqM/AAAAAAAAAAI/AAAAAAAAADs/35wbnA9B3WM/s64/photo.jpg",
      "userId": "11987022453046813676"
     },
     "user_tz": -330
    },
    "id": "kjgso4iA4_TW",
    "outputId": "55fa43e1-f4b0-4c0f-925a-a49aa834157f"
   },
   "outputs": [
    {
     "name": "stdout",
     "output_type": "stream",
     "text": [
      "+-----------------------------------------------------------------------------------------------------------------+----------+\n",
      "|                                                   Architecture                                                  | Accuracy |\n",
      "+-----------------------------------------------------------------------------------------------------------------+----------+\n",
      "|                                   2 conv layers, kernel size=3*3, with dropout                                  |  99.17   |\n",
      "| 2 conv layers, kernel size=5*5, 3 max-pooling, strides=1*1,padding='same',different dropout rate in both layers |  99.26   |\n",
      "| 2 conv layers, kernel size=7*7, 3 max-pooling, strides=2*2,padding='same',different dropout rate in both layers |  98.37   |\n",
      "|                                 2 conv layers, kernel size=3*3, without droputs                                 |  99.02   |\n",
      "|                                          3 conv layers, without dropout                                         |  99.14   |\n",
      "+-----------------------------------------------------------------------------------------------------------------+----------+\n"
     ]
    }
   ],
   "source": [
    "from prettytable import PrettyTable\n",
    "    \n",
    "x = PrettyTable()\n",
    "x.field_names = [\"Architecture\", \"Accuracy\"]\n",
    "\n",
    "x.add_row([\"2 conv layers, kernel size=3*3, with dropout\", 99.17])\n",
    "x.add_row([\"2 conv layers, kernel size=5*5, 3 max-pooling, strides=1*1,padding='same',different dropout rate in both layers\",  99.26])\n",
    "x.add_row([\"2 conv layers, kernel size=7*7, 3 max-pooling, strides=2*2,padding='same',different dropout rate in both layers\", 98.37])\n",
    "x.add_row([\"2 conv layers, kernel size=3*3, without droputs\", 99.02])\n",
    "x.add_row([\"3 conv layers, without dropout\", 99.14])\n",
    "\n",
    "print(x)"
   ]
  },
  {
   "cell_type": "markdown",
   "metadata": {
    "colab_type": "text",
    "id": "8vyUvX0uNsgi"
   },
   "source": [
    "Procedure followed\n",
    "\n",
    "1. Splitted the MNIST dataset into train and test\n",
    "2 .Converts a class vector (integers) to binary class matrix\n",
    "3.Tried different architectures of CNN with dataset like with/without dropout, diffent kernel size, different convolution layers\n",
    "4. Plotted the epoch vs Train/Test loss of each model"
   ]
  }
 ],
 "metadata": {
  "accelerator": "GPU",
  "anaconda-cloud": {},
  "colab": {
   "collapsed_sections": [],
   "name": "CNN_MNIST.ipynb",
   "provenance": [
    {
     "file_id": "1I5kcAaQKEx0IwUNQvZdYkctwCcWFf81N",
     "timestamp": 1554181116126
    }
   ],
   "version": "0.3.2"
  },
  "kernelspec": {
   "display_name": "Python [default]",
   "language": "python",
   "name": "python3"
  },
  "language_info": {
   "codemirror_mode": {
    "name": "ipython",
    "version": 3
   },
   "file_extension": ".py",
   "mimetype": "text/x-python",
   "name": "python",
   "nbconvert_exporter": "python",
   "pygments_lexer": "ipython3",
   "version": "3.5.2"
  }
 },
 "nbformat": 4,
 "nbformat_minor": 0
}
