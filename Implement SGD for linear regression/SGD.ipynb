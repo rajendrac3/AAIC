{
 "cells": [
  {
   "cell_type": "code",
   "execution_count": 52,
   "metadata": {
    "collapsed": true
   },
   "outputs": [],
   "source": [
    "import warnings\n",
    "warnings.filterwarnings(\"ignore\")\n",
    "from sklearn.datasets import load_boston\n",
    "from random import seed\n",
    "from random import randrange\n",
    "from csv import reader\n",
    "from math import sqrt\n",
    "import random\n",
    "from sklearn import preprocessing\n",
    "import pandas as pd\n",
    "import numpy as np\n",
    "import matplotlib.pyplot as plt\n",
    "from prettytable import PrettyTable\n",
    "from sklearn.linear_model import SGDRegressor\n",
    "from sklearn import preprocessing\n",
    "from sklearn.metrics import mean_squared_error\n",
    "from sklearn.model_selection import train_test_split"
   ]
  },
  {
   "cell_type": "code",
   "execution_count": 53,
   "metadata": {
    "collapsed": false
   },
   "outputs": [],
   "source": [
    "boston_dataset = load_boston()"
   ]
  },
  {
   "cell_type": "code",
   "execution_count": 54,
   "metadata": {
    "collapsed": true
   },
   "outputs": [],
   "source": [
    "X = load_boston().data\n",
    "Y = load_boston().target"
   ]
  },
  {
   "cell_type": "code",
   "execution_count": 55,
   "metadata": {
    "collapsed": false
   },
   "outputs": [
    {
     "name": "stdout",
     "output_type": "stream",
     "text": [
      "(506, 13)\n",
      "(506,)\n"
     ]
    }
   ],
   "source": [
    "print(X.shape)\n",
    "print(Y.shape)"
   ]
  },
  {
   "cell_type": "code",
   "execution_count": 56,
   "metadata": {
    "collapsed": false
   },
   "outputs": [],
   "source": [
    "#divide data into train test split\n",
    "x_train, x_test, y_train, y_test = train_test_split(X,Y, test_size = 0.3 )"
   ]
  },
  {
   "cell_type": "code",
   "execution_count": 57,
   "metadata": {
    "collapsed": false
   },
   "outputs": [
    {
     "name": "stdout",
     "output_type": "stream",
     "text": [
      "400\n",
      "<class 'numpy.ndarray'>\n"
     ]
    }
   ],
   "source": [
    "print(X_train.shape[0])\n",
    "print(type(X_train))"
   ]
  },
  {
   "cell_type": "code",
   "execution_count": 58,
   "metadata": {
    "collapsed": false
   },
   "outputs": [
    {
     "name": "stdout",
     "output_type": "stream",
     "text": [
      "400\n"
     ]
    }
   ],
   "source": [
    "print(Y_train.shape[0])"
   ]
  },
  {
   "cell_type": "code",
   "execution_count": 59,
   "metadata": {
    "collapsed": true
   },
   "outputs": [],
   "source": [
    "scaler = preprocessing.StandardScaler()\n",
    "X_train_new = scaler.fit_transform(x_train)\n",
    "X_test = scaler.transform(x_test)"
   ]
  },
  {
   "cell_type": "code",
   "execution_count": 69,
   "metadata": {
    "collapsed": false
   },
   "outputs": [
    {
     "name": "stdout",
     "output_type": "stream",
     "text": [
      "30.671664652472398\n"
     ]
    }
   ],
   "source": [
    "clf = SGDRegressor()\n",
    "clf.fit(X_train_new, y_train)\n",
    "print(mean_squared_error(y_test, clf.predict(X_test)))"
   ]
  },
  {
   "cell_type": "code",
   "execution_count": 70,
   "metadata": {
    "collapsed": false
   },
   "outputs": [],
   "source": [
    "def calculate_mse(w,b,data,label):\n",
    "    sqr_loss =  [(label[idx] - (np.dot(w.T,x) + b))**2 for idx,x in enumerate(data)]\n",
    "    return sum(sqr_loss)/len(label)"
   ]
  },
  {
   "cell_type": "code",
   "execution_count": 71,
   "metadata": {
    "collapsed": false
   },
   "outputs": [],
   "source": [
    "# def stochastic_gradient_descent():\n",
    "#     train_loss = []\n",
    "#     test_loss = []\n",
    "#     learning_rate = 0.0001\n",
    "#     epochs = 500\n",
    "# #     initial_w = np.random.rand(13)\n",
    "#     mu,sigma = 0,0.1\n",
    "#     initial_w = np.random.normal(mu,sigma,13)\n",
    "# #     initial_w = np.array([-0.63310809,  0.51895891, -0.17179165,  1.32975178, -0.19626261,\n",
    "# #         3.71738518, -0.06498601, -1.11438278,  0.08205665, -0.71266959,\n",
    "# #        -1.77643346,  0.77051701, -2.33575532])\n",
    "#     initial_b = random.random()\n",
    "#     next_w = next_b = 0\n",
    "#     for epoch in range(epochs):\n",
    "#         random_array = np.random.randint(1, X_train.shape[0])\n",
    "#         random_x_sample = X_train_new[:random_array]\n",
    "#         random_y_sample = Y_train[:random_array]\n",
    "\n",
    "#         for index, each_x in enumerate(random_x_sample):\n",
    "#             next_w += -2 * each_x * (random_y_sample[index] - np.dot(initial_w.T, each_x))\n",
    "#             next_b += -2 * (random_y_sample[index] - np.dot(initial_w.T, each_x))\n",
    "#         initial_w = initial_w - (learning_rate * next_w)\n",
    "#         initial_b = initial_b - (learning_rate * next_b)\n",
    "#         train_loss.append(mse(random_y_sample, initial_w, initial_b, random_x_sample))\n",
    "#         test_loss.append(mse(Y_test, initial_w, initial_b, X_test))\n",
    "#         if (initial_w == next_w).all():\n",
    "#             break\n",
    "#         else:\n",
    "#             learning_rate = learning_rate/2\n",
    "            \n",
    "#     return learning_rate, train_loss, test_loss, initial_w, initial_b"
   ]
  },
  {
   "cell_type": "code",
   "execution_count": 576,
   "metadata": {
    "collapsed": false
   },
   "outputs": [
    {
     "data": {
      "text/plain": [
       "213.09258663201922"
      ]
     },
     "execution_count": 576,
     "metadata": {},
     "output_type": "execute_result"
    }
   ],
   "source": [
    "learning_rate = 0.001\n",
    "#initialize weight and bias of model\n",
    "mu,sigma = 0,0.1\n",
    "w = np.random.random(13)\n",
    "# print(type(w))\n",
    "# print(w)\n",
    "# w = np.asarray([-1.00063128,  1.00550381, -0.17987509, -0.12182859, -0.16627497,\n",
    "#        -0.80825135,  0.59700424, -0.28104958, -0.37236378, -0.02591462,\n",
    "#         0.09070623,  0.26050728, -0.29489357])\n",
    "b = random.random()\n",
    "\n",
    "iteration_loss_train = []\n",
    "w_new,b_new = np.zeros((13,)),0.0\n",
    "\n",
    "while True:\n",
    "    train_loss = 0.0\n",
    "    w_loss,b_loss=0.0,0.0\n",
    "    # Randomly generate number to select random points\n",
    "    random_indexes = np.random.randint(2,X_train_new.shape[0],1)[0]\n",
    "    rand_xtrain = X_train_new[:random_indexes]\n",
    "    rand_ytrain = Y_train[:random_indexes]\n",
    "    for idx,x in enumerate(rand_xtrain):\n",
    "        w_loss += ((x * (-2))*(Y_train[idx] - (np.dot(w.T,x) + b))) \n",
    "        b_loss += (-2)*(Y_train[idx] - (np.dot(w.T,x) + b))\n",
    "    w_new = w - learning_rate * w_loss\n",
    "    b_new = b - learning_rate * b_loss\n",
    "    train_loss = get_mse(w_new,b_new,rand_xtrain,rand_ytrain)\n",
    "    #stop when two consecutive weights are same\n",
    "    if (w==w_new).all():\n",
    "        iteration_loss_train.append(train_loss)\n",
    "        w = w_new\n",
    "        b = b_new\n",
    "        break\n",
    "    iteration_loss_train.append(train_loss)\n",
    "    w = w_new\n",
    "    learning_rate = learning_rate/2\n",
    "    b = b_new\n",
    "\n",
    "get_mse(w,b,X_test,y_test)"
   ]
  },
  {
   "cell_type": "code",
   "execution_count": 524,
   "metadata": {
    "collapsed": false
   },
   "outputs": [
    {
     "data": {
      "text/plain": [
       "395.3615616989632"
      ]
     },
     "execution_count": 524,
     "metadata": {},
     "output_type": "execute_result"
    }
   ],
   "source": [
    "get_mse(w,b,X_test,y_test)"
   ]
  },
  {
   "cell_type": "code",
   "execution_count": 454,
   "metadata": {
    "collapsed": false
   },
   "outputs": [
    {
     "data": {
      "text/plain": [
       "array([-1.00063128,  1.00550381, -0.17987509, -0.12182859, -0.16627497,\n",
       "       -0.80825135,  0.59700424, -0.28104958, -0.37236378, -0.02591462,\n",
       "        0.09070623,  0.26050728, -0.29489357])"
      ]
     },
     "execution_count": 454,
     "metadata": {},
     "output_type": "execute_result"
    }
   ],
   "source": [
    "w"
   ]
  },
  {
   "cell_type": "code",
   "execution_count": null,
   "metadata": {
    "collapsed": true
   },
   "outputs": [],
   "source": []
  }
 ],
 "metadata": {
  "anaconda-cloud": {},
  "kernelspec": {
   "display_name": "Python [default]",
   "language": "python",
   "name": "python3"
  },
  "language_info": {
   "codemirror_mode": {
    "name": "ipython",
    "version": 3
   },
   "file_extension": ".py",
   "mimetype": "text/x-python",
   "name": "python",
   "nbconvert_exporter": "python",
   "pygments_lexer": "ipython3",
   "version": "3.5.2"
  }
 },
 "nbformat": 4,
 "nbformat_minor": 1
}
