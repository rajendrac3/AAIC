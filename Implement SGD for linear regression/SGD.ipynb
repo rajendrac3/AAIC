{
 "cells": [
  {
   "cell_type": "code",
   "execution_count": 67,
   "metadata": {
    "collapsed": true
   },
   "outputs": [],
   "source": [
    "import warnings\n",
    "warnings.filterwarnings(\"ignore\")\n",
    "from sklearn.datasets import load_boston\n",
    "from random import seed\n",
    "from random import randrange\n",
    "from csv import reader\n",
    "from math import sqrt\n",
    "import random\n",
    "from sklearn import preprocessing\n",
    "import pandas as pd\n",
    "import numpy as np\n",
    "import matplotlib.pyplot as plt\n",
    "from prettytable import PrettyTable\n",
    "from sklearn.linear_model import SGDRegressor\n",
    "from sklearn import preprocessing\n",
    "from sklearn.metrics import mean_squared_error"
   ]
  },
  {
   "cell_type": "code",
   "execution_count": 68,
   "metadata": {
    "collapsed": false
   },
   "outputs": [],
   "source": [
    "boston_dataset = load_boston()"
   ]
  },
  {
   "cell_type": "code",
   "execution_count": 293,
   "metadata": {
    "collapsed": true
   },
   "outputs": [],
   "source": [
    "X = load_boston().data\n",
    "Y = load_boston().target"
   ]
  },
  {
   "cell_type": "code",
   "execution_count": 294,
   "metadata": {
    "collapsed": false
   },
   "outputs": [
    {
     "name": "stdout",
     "output_type": "stream",
     "text": [
      "(506, 13)\n",
      "(506,)\n"
     ]
    }
   ],
   "source": [
    "print(X.shape)\n",
    "print(Y.shape)"
   ]
  },
  {
   "cell_type": "code",
   "execution_count": 295,
   "metadata": {
    "collapsed": false
   },
   "outputs": [
    {
     "name": "stdout",
     "output_type": "stream",
     "text": [
      "(400, 13) (400,)\n",
      "(106, 13) (106,)\n"
     ]
    }
   ],
   "source": [
    "X_train = X[0:400]\n",
    "Y_train = Y[0:400]\n",
    "X_test = X[400:507]\n",
    "Y_test = Y[400:507]\n",
    "print(X_train.shape, Y_train.shape)\n",
    "print(X_test.shape, Y_test.shape)"
   ]
  },
  {
   "cell_type": "code",
   "execution_count": 296,
   "metadata": {
    "collapsed": false
   },
   "outputs": [
    {
     "name": "stdout",
     "output_type": "stream",
     "text": [
      "400\n",
      "<class 'numpy.ndarray'>\n"
     ]
    }
   ],
   "source": [
    "print(X_train.shape[0])\n",
    "print(type(X_train))"
   ]
  },
  {
   "cell_type": "code",
   "execution_count": 297,
   "metadata": {
    "collapsed": false
   },
   "outputs": [
    {
     "name": "stdout",
     "output_type": "stream",
     "text": [
      "400\n"
     ]
    }
   ],
   "source": [
    "print(Y_train.shape[0])"
   ]
  },
  {
   "cell_type": "code",
   "execution_count": 301,
   "metadata": {
    "collapsed": false
   },
   "outputs": [],
   "source": [
    "def mse(random_y_sample, initial_w, initial_b, random_x_sample):\n",
    "    loss = 0\n",
    "    for index, ind_x in enumerate(random_x_sample):\n",
    "        loss += (random_y_sample[index] - (np.dot(initial_w, ind_x) + initial_b))**2\n",
    "    return loss/len(random_x_sample)"
   ]
  },
  {
   "cell_type": "code",
   "execution_count": 350,
   "metadata": {
    "collapsed": false
   },
   "outputs": [],
   "source": [
    "def stochastic_gradient_descent():\n",
    "    train_loss = []\n",
    "    test_loss = []\n",
    "    learning_rate = 0.0001\n",
    "    epochs = 500\n",
    "    initial_w = np.random.rand(13)\n",
    "    initial_b = np.random.rand()\n",
    "    next_w = next_b = 0\n",
    "    for each_epoch in range(epochs):\n",
    "        random_array = np.random.randint(1, X_train.shape[0])\n",
    "        random_x_sample = X_train_new[:random_array]\n",
    "        random_y_sample = Y_train[:random_array]\n",
    "        \n",
    "        for index, each_x in enumerate(random_x_sample):\n",
    "            next_w += -2 * each_x * (random_y_sample[index] - np.dot(initial_w.T, each_x))\n",
    "            next_b += -2 * (random_y_sample[index] - np.dot(initial_w.T, each_x))\n",
    "        initial_w = initial_w - (learning_rate * next_w)\n",
    "        initial_b = initial_b - (learning_rate * next_b)\n",
    "        train_loss.append(mse(random_y_sample, initial_w, initial_b, random_x_sample))\n",
    "        test_loss.append(mse(Y_test, initial_w, initial_b, X_test))\n",
    "        if (initial_w == next_w).all():\n",
    "            break\n",
    "        else:\n",
    "            learning_rate = learning_rate/2\n",
    "            \n",
    "    return learning_rate, train_loss, test_loss, initial_w, initial_b"
   ]
  },
  {
   "cell_type": "code",
   "execution_count": 382,
   "metadata": {
    "collapsed": false
   },
   "outputs": [
    {
     "name": "stdout",
     "output_type": "stream",
     "text": [
      "219.70446594\n"
     ]
    }
   ],
   "source": [
    "learning_rate, train_loss, test_loss, w, b = stochastic_gradient_descent()\n",
    "print(mse(Y_test, w, b, X_test))"
   ]
  },
  {
   "cell_type": "code",
   "execution_count": 349,
   "metadata": {
    "collapsed": true
   },
   "outputs": [],
   "source": [
    "scaler = preprocessing.StandardScaler()\n",
    "X_train_new = scaler.fit_transform(X_train)"
   ]
  },
  {
   "cell_type": "code",
   "execution_count": 299,
   "metadata": {
    "collapsed": true
   },
   "outputs": [],
   "source": [
    "X_test = scaler.transform(X_test)"
   ]
  },
  {
   "cell_type": "code",
   "execution_count": 300,
   "metadata": {
    "collapsed": false
   },
   "outputs": [
    {
     "name": "stdout",
     "output_type": "stream",
     "text": [
      "27.530622533\n"
     ]
    }
   ],
   "source": [
    "clf = SGDRegressor()\n",
    "clf.fit(X_train_new, Y_train)\n",
    "print(mean_squared_error(Y_test, clf.predict(X_test)))"
   ]
  },
  {
   "cell_type": "code",
   "execution_count": null,
   "metadata": {
    "collapsed": true
   },
   "outputs": [],
   "source": []
  },
  {
   "cell_type": "code",
   "execution_count": null,
   "metadata": {
    "collapsed": true
   },
   "outputs": [],
   "source": []
  }
 ],
 "metadata": {
  "anaconda-cloud": {},
  "kernelspec": {
   "display_name": "Python [default]",
   "language": "python",
   "name": "python3"
  },
  "language_info": {
   "codemirror_mode": {
    "name": "ipython",
    "version": 3
   },
   "file_extension": ".py",
   "mimetype": "text/x-python",
   "name": "python",
   "nbconvert_exporter": "python",
   "pygments_lexer": "ipython3",
   "version": "3.5.2"
  }
 },
 "nbformat": 4,
 "nbformat_minor": 1
}
