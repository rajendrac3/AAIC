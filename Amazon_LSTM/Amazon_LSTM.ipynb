{
 "cells": [
  {
   "cell_type": "code",
   "execution_count": 2,
   "metadata": {
    "colab": {
     "base_uri": "https://localhost:8080/",
     "height": 34
    },
    "colab_type": "code",
    "executionInfo": {
     "elapsed": 5128,
     "status": "ok",
     "timestamp": 1554442232765,
     "user": {
      "displayName": "Rajendra Choudhary",
      "photoUrl": "https://lh3.googleusercontent.com/-H2n68bMjaqM/AAAAAAAAAAI/AAAAAAAAADs/35wbnA9B3WM/s64/photo.jpg",
      "userId": "11987022453046813676"
     },
     "user_tz": -330
    },
    "id": "3vUn1ZrHagc6",
    "outputId": "5e1033ff-787d-42c5-b9ee-133e8e1fb71b"
   },
   "outputs": [],
   "source": [
    "# Credits: https://machinelearningmastery.com/sequence-classification-lstm-recurrent-neural-networks-python-keras/\n",
    "# LSTM for sequence classification in the Amazon dataset\n",
    "import numpy\n",
    "from keras.models import Sequential\n",
    "from keras.layers import Dense\n",
    "from keras.layers import LSTM\n",
    "from keras.layers.embeddings import Embedding\n",
    "from keras.preprocessing import sequence\n",
    "# fix random seed for reproducibility\n",
    "numpy.random.seed(7)\n",
    "import sqlite3\n",
    "import pandas as pd\n",
    "import numpy as np\n",
    "import nltk\n",
    "import string\n",
    "import matplotlib.pyplot as plt\n",
    "import seaborn as sns\n",
    "from sklearn.feature_extraction.text import TfidfTransformer\n",
    "from sklearn.feature_extraction.text import TfidfVectorizer\n",
    "\n",
    "from sklearn.feature_extraction.text import CountVectorizer\n",
    "from sklearn.metrics import confusion_matrix\n",
    "from sklearn import metrics\n",
    "from sklearn.metrics import roc_curve, auc\n",
    "from nltk.stem.porter import PorterStemmer\n",
    "\n",
    "import re\n",
    "# Tutorial about Python regular expressions: https://pymotw.com/2/re/\n",
    "import string\n",
    "from nltk.corpus import stopwords\n",
    "from nltk.stem import PorterStemmer\n",
    "from nltk.stem.wordnet import WordNetLemmatizer\n",
    "\n",
    "from gensim.models import Word2Vec\n",
    "from gensim.models import KeyedVectors\n",
    "import pickle\n",
    "\n",
    "from tqdm import tqdm\n",
    "import os\n"
   ]
  },
  {
   "cell_type": "code",
   "execution_count": 2,
   "metadata": {
    "colab": {
     "base_uri": "https://localhost:8080/",
     "height": 122
    },
    "colab_type": "code",
    "executionInfo": {
     "elapsed": 31074,
     "status": "ok",
     "timestamp": 1554442258766,
     "user": {
      "displayName": "Rajendra Choudhary",
      "photoUrl": "https://lh3.googleusercontent.com/-H2n68bMjaqM/AAAAAAAAAAI/AAAAAAAAADs/35wbnA9B3WM/s64/photo.jpg",
      "userId": "11987022453046813676"
     },
     "user_tz": -330
    },
    "id": "j6W_DMsAdVWu",
    "outputId": "0ca61f2a-8aaf-468a-be31-19efb3e72fda"
   },
   "outputs": [
    {
     "name": "stdout",
     "output_type": "stream",
     "text": [
      "Go to this URL in a browser: https://accounts.google.com/o/oauth2/auth?client_id=947318989803-6bn6qk8qdgf4n4g3pfee6491hc0brc4i.apps.googleusercontent.com&redirect_uri=urn%3Aietf%3Awg%3Aoauth%3A2.0%3Aoob&scope=email%20https%3A%2F%2Fwww.googleapis.com%2Fauth%2Fdocs.test%20https%3A%2F%2Fwww.googleapis.com%2Fauth%2Fdrive%20https%3A%2F%2Fwww.googleapis.com%2Fauth%2Fdrive.photos.readonly%20https%3A%2F%2Fwww.googleapis.com%2Fauth%2Fpeopleapi.readonly&response_type=code\n",
      "\n",
      "Enter your authorization code:\n",
      "··········\n",
      "Mounted at /content/gdrive\n"
     ]
    }
   ],
   "source": [
    "from google.colab import drive\n",
    "drive.mount('/content/gdrive')"
   ]
  },
  {
   "cell_type": "code",
   "execution_count": 29,
   "metadata": {
    "colab": {},
    "colab_type": "code",
    "id": "mjIA42YXd4OA"
   },
   "outputs": [],
   "source": [
    "# con = sqlite3.connect('/content/gdrive/My Drive/Colab Notebooks/Amazon_LSTM/database.sqlite')\n",
    "con = sqlite3.connect('database.sqlite')"
   ]
  },
  {
   "cell_type": "code",
   "execution_count": 30,
   "metadata": {
    "colab": {
     "base_uri": "https://localhost:8080/",
     "height": 244
    },
    "colab_type": "code",
    "executionInfo": {
     "elapsed": 7000,
     "status": "ok",
     "timestamp": 1554442524271,
     "user": {
      "displayName": "Rajendra Choudhary",
      "photoUrl": "https://lh3.googleusercontent.com/-H2n68bMjaqM/AAAAAAAAAAI/AAAAAAAAADs/35wbnA9B3WM/s64/photo.jpg",
      "userId": "11987022453046813676"
     },
     "user_tz": -330
    },
    "id": "ZEeo5azUeVA7",
    "outputId": "8f68183d-2b80-44c9-8c23-62051678cf25"
   },
   "outputs": [
    {
     "name": "stdout",
     "output_type": "stream",
     "text": [
      "Number of data points in our data (525814, 10)\n"
     ]
    },
    {
     "data": {
      "text/html": [
       "<div>\n",
       "<style scoped>\n",
       "    .dataframe tbody tr th:only-of-type {\n",
       "        vertical-align: middle;\n",
       "    }\n",
       "\n",
       "    .dataframe tbody tr th {\n",
       "        vertical-align: top;\n",
       "    }\n",
       "\n",
       "    .dataframe thead th {\n",
       "        text-align: right;\n",
       "    }\n",
       "</style>\n",
       "<table border=\"1\" class=\"dataframe\">\n",
       "  <thead>\n",
       "    <tr style=\"text-align: right;\">\n",
       "      <th></th>\n",
       "      <th>Id</th>\n",
       "      <th>ProductId</th>\n",
       "      <th>UserId</th>\n",
       "      <th>ProfileName</th>\n",
       "      <th>HelpfulnessNumerator</th>\n",
       "      <th>HelpfulnessDenominator</th>\n",
       "      <th>Score</th>\n",
       "      <th>Time</th>\n",
       "      <th>Summary</th>\n",
       "      <th>Text</th>\n",
       "    </tr>\n",
       "  </thead>\n",
       "  <tbody>\n",
       "    <tr>\n",
       "      <th>0</th>\n",
       "      <td>1</td>\n",
       "      <td>B001E4KFG0</td>\n",
       "      <td>A3SGXH7AUHU8GW</td>\n",
       "      <td>delmartian</td>\n",
       "      <td>1</td>\n",
       "      <td>1</td>\n",
       "      <td>1</td>\n",
       "      <td>1303862400</td>\n",
       "      <td>Good Quality Dog Food</td>\n",
       "      <td>I have bought several of the Vitality canned d...</td>\n",
       "    </tr>\n",
       "    <tr>\n",
       "      <th>1</th>\n",
       "      <td>2</td>\n",
       "      <td>B00813GRG4</td>\n",
       "      <td>A1D87F6ZCVE5NK</td>\n",
       "      <td>dll pa</td>\n",
       "      <td>0</td>\n",
       "      <td>0</td>\n",
       "      <td>0</td>\n",
       "      <td>1346976000</td>\n",
       "      <td>Not as Advertised</td>\n",
       "      <td>Product arrived labeled as Jumbo Salted Peanut...</td>\n",
       "    </tr>\n",
       "    <tr>\n",
       "      <th>2</th>\n",
       "      <td>3</td>\n",
       "      <td>B000LQOCH0</td>\n",
       "      <td>ABXLMWJIXXAIN</td>\n",
       "      <td>Natalia Corres \"Natalia Corres\"</td>\n",
       "      <td>1</td>\n",
       "      <td>1</td>\n",
       "      <td>1</td>\n",
       "      <td>1219017600</td>\n",
       "      <td>\"Delight\" says it all</td>\n",
       "      <td>This is a confection that has been around a fe...</td>\n",
       "    </tr>\n",
       "  </tbody>\n",
       "</table>\n",
       "</div>"
      ],
      "text/plain": [
       "   Id   ProductId          UserId                      ProfileName  \\\n",
       "0   1  B001E4KFG0  A3SGXH7AUHU8GW                       delmartian   \n",
       "1   2  B00813GRG4  A1D87F6ZCVE5NK                           dll pa   \n",
       "2   3  B000LQOCH0   ABXLMWJIXXAIN  Natalia Corres \"Natalia Corres\"   \n",
       "\n",
       "   HelpfulnessNumerator  HelpfulnessDenominator  Score        Time  \\\n",
       "0                     1                       1      1  1303862400   \n",
       "1                     0                       0      0  1346976000   \n",
       "2                     1                       1      1  1219017600   \n",
       "\n",
       "                 Summary                                               Text  \n",
       "0  Good Quality Dog Food  I have bought several of the Vitality canned d...  \n",
       "1      Not as Advertised  Product arrived labeled as Jumbo Salted Peanut...  \n",
       "2  \"Delight\" says it all  This is a confection that has been around a fe...  "
      ]
     },
     "execution_count": 30,
     "metadata": {},
     "output_type": "execute_result"
    }
   ],
   "source": [
    "filtered_data = pd.read_sql_query(\"\"\" SELECT * FROM Reviews WHERE Score != 3\"\"\", con) \n",
    "\n",
    "# Give reviews with Score>3 a positive rating(1), and reviews with a score<3 a negative rating(0).\n",
    "def partition(x):\n",
    "    if x < 3:\n",
    "        return 0\n",
    "    return 1\n",
    "\n",
    "#changing reviews with score less than 3 to be positive and vice-versa\n",
    "actualScore = filtered_data['Score']\n",
    "positiveNegative = actualScore.map(partition) \n",
    "filtered_data['Score'] = positiveNegative\n",
    "print(\"Number of data points in our data\", filtered_data.shape)\n",
    "filtered_data.head(3)"
   ]
  },
  {
   "cell_type": "code",
   "execution_count": 31,
   "metadata": {
    "colab": {},
    "colab_type": "code",
    "id": "mvFG4Grleppi"
   },
   "outputs": [],
   "source": [
    "display = pd.read_sql_query(\"\"\"\n",
    "SELECT UserId, ProductId, ProfileName, Time, Score, Text, COUNT(*)\n",
    "FROM Reviews\n",
    "GROUP BY UserId\n",
    "HAVING COUNT(*)>1\n",
    "\"\"\", con)"
   ]
  },
  {
   "cell_type": "code",
   "execution_count": 32,
   "metadata": {
    "colab": {
     "base_uri": "https://localhost:8080/",
     "height": 221
    },
    "colab_type": "code",
    "executionInfo": {
     "elapsed": 1129,
     "status": "ok",
     "timestamp": 1554442620838,
     "user": {
      "displayName": "Rajendra Choudhary",
      "photoUrl": "https://lh3.googleusercontent.com/-H2n68bMjaqM/AAAAAAAAAAI/AAAAAAAAADs/35wbnA9B3WM/s64/photo.jpg",
      "userId": "11987022453046813676"
     },
     "user_tz": -330
    },
    "id": "uz6VICtzewqj",
    "outputId": "1bb83ed5-5525-404b-840b-8cf87f7feb47"
   },
   "outputs": [
    {
     "name": "stdout",
     "output_type": "stream",
     "text": [
      "(80668, 7)\n"
     ]
    },
    {
     "data": {
      "text/html": [
       "<div>\n",
       "<style scoped>\n",
       "    .dataframe tbody tr th:only-of-type {\n",
       "        vertical-align: middle;\n",
       "    }\n",
       "\n",
       "    .dataframe tbody tr th {\n",
       "        vertical-align: top;\n",
       "    }\n",
       "\n",
       "    .dataframe thead th {\n",
       "        text-align: right;\n",
       "    }\n",
       "</style>\n",
       "<table border=\"1\" class=\"dataframe\">\n",
       "  <thead>\n",
       "    <tr style=\"text-align: right;\">\n",
       "      <th></th>\n",
       "      <th>UserId</th>\n",
       "      <th>ProductId</th>\n",
       "      <th>ProfileName</th>\n",
       "      <th>Time</th>\n",
       "      <th>Score</th>\n",
       "      <th>Text</th>\n",
       "      <th>COUNT(*)</th>\n",
       "    </tr>\n",
       "  </thead>\n",
       "  <tbody>\n",
       "    <tr>\n",
       "      <th>0</th>\n",
       "      <td>#oc-R115TNMSPFT9I7</td>\n",
       "      <td>B007Y59HVM</td>\n",
       "      <td>Breyton</td>\n",
       "      <td>1331510400</td>\n",
       "      <td>2</td>\n",
       "      <td>Overall its just OK when considering the price...</td>\n",
       "      <td>2</td>\n",
       "    </tr>\n",
       "    <tr>\n",
       "      <th>1</th>\n",
       "      <td>#oc-R11D9D7SHXIJB9</td>\n",
       "      <td>B005HG9ET0</td>\n",
       "      <td>Louis E. Emory \"hoppy\"</td>\n",
       "      <td>1342396800</td>\n",
       "      <td>5</td>\n",
       "      <td>My wife has recurring extreme muscle spasms, u...</td>\n",
       "      <td>3</td>\n",
       "    </tr>\n",
       "    <tr>\n",
       "      <th>2</th>\n",
       "      <td>#oc-R11DNU2NBKQ23Z</td>\n",
       "      <td>B007Y59HVM</td>\n",
       "      <td>Kim Cieszykowski</td>\n",
       "      <td>1348531200</td>\n",
       "      <td>1</td>\n",
       "      <td>This coffee is horrible and unfortunately not ...</td>\n",
       "      <td>2</td>\n",
       "    </tr>\n",
       "    <tr>\n",
       "      <th>3</th>\n",
       "      <td>#oc-R11O5J5ZVQE25C</td>\n",
       "      <td>B005HG9ET0</td>\n",
       "      <td>Penguin Chick</td>\n",
       "      <td>1346889600</td>\n",
       "      <td>5</td>\n",
       "      <td>This will be the bottle that you grab from the...</td>\n",
       "      <td>3</td>\n",
       "    </tr>\n",
       "    <tr>\n",
       "      <th>4</th>\n",
       "      <td>#oc-R12KPBODL2B5ZD</td>\n",
       "      <td>B007OSBE1U</td>\n",
       "      <td>Christopher P. Presta</td>\n",
       "      <td>1348617600</td>\n",
       "      <td>1</td>\n",
       "      <td>I didnt like this coffee. Instead of telling y...</td>\n",
       "      <td>2</td>\n",
       "    </tr>\n",
       "  </tbody>\n",
       "</table>\n",
       "</div>"
      ],
      "text/plain": [
       "               UserId   ProductId             ProfileName        Time  Score  \\\n",
       "0  #oc-R115TNMSPFT9I7  B007Y59HVM                 Breyton  1331510400      2   \n",
       "1  #oc-R11D9D7SHXIJB9  B005HG9ET0  Louis E. Emory \"hoppy\"  1342396800      5   \n",
       "2  #oc-R11DNU2NBKQ23Z  B007Y59HVM        Kim Cieszykowski  1348531200      1   \n",
       "3  #oc-R11O5J5ZVQE25C  B005HG9ET0           Penguin Chick  1346889600      5   \n",
       "4  #oc-R12KPBODL2B5ZD  B007OSBE1U   Christopher P. Presta  1348617600      1   \n",
       "\n",
       "                                                Text  COUNT(*)  \n",
       "0  Overall its just OK when considering the price...         2  \n",
       "1  My wife has recurring extreme muscle spasms, u...         3  \n",
       "2  This coffee is horrible and unfortunately not ...         2  \n",
       "3  This will be the bottle that you grab from the...         3  \n",
       "4  I didnt like this coffee. Instead of telling y...         2  "
      ]
     },
     "execution_count": 32,
     "metadata": {},
     "output_type": "execute_result"
    }
   ],
   "source": [
    "print(display.shape)\n",
    "display.head()"
   ]
  },
  {
   "cell_type": "code",
   "execution_count": 33,
   "metadata": {
    "colab": {
     "base_uri": "https://localhost:8080/",
     "height": 34
    },
    "colab_type": "code",
    "executionInfo": {
     "elapsed": 2143,
     "status": "ok",
     "timestamp": 1554442624605,
     "user": {
      "displayName": "Rajendra Choudhary",
      "photoUrl": "https://lh3.googleusercontent.com/-H2n68bMjaqM/AAAAAAAAAAI/AAAAAAAAADs/35wbnA9B3WM/s64/photo.jpg",
      "userId": "11987022453046813676"
     },
     "user_tz": -330
    },
    "id": "TuZYad7Pez0S",
    "outputId": "ac1ab510-b171-4eed-a149-f2a45b029e9d"
   },
   "outputs": [
    {
     "name": "stdout",
     "output_type": "stream",
     "text": [
      "(364173, 10)\n"
     ]
    }
   ],
   "source": [
    "# Removing duplicate reviews\n",
    "final=filtered_data.drop_duplicates(subset={\"UserId\",\"ProfileName\",\"Time\",\"Text\"}, keep='first', inplace=False)\n",
    "print(final.shape)"
   ]
  },
  {
   "cell_type": "code",
   "execution_count": 34,
   "metadata": {
    "colab": {
     "base_uri": "https://localhost:8080/",
     "height": 34
    },
    "colab_type": "code",
    "executionInfo": {
     "elapsed": 1711,
     "status": "ok",
     "timestamp": 1554442627063,
     "user": {
      "displayName": "Rajendra Choudhary",
      "photoUrl": "https://lh3.googleusercontent.com/-H2n68bMjaqM/AAAAAAAAAAI/AAAAAAAAADs/35wbnA9B3WM/s64/photo.jpg",
      "userId": "11987022453046813676"
     },
     "user_tz": -330
    },
    "id": "yYAPhFGde2S6",
    "outputId": "ddb1d537-8104-44ff-f2cb-330f851d4692"
   },
   "outputs": [
    {
     "data": {
      "text/plain": [
       "69.25890143662969"
      ]
     },
     "execution_count": 34,
     "metadata": {},
     "output_type": "execute_result"
    }
   ],
   "source": [
    "(final['Id'].size*1.0)/(filtered_data['Id'].size*1.0)*100"
   ]
  },
  {
   "cell_type": "code",
   "execution_count": 35,
   "metadata": {
    "colab": {},
    "colab_type": "code",
    "id": "hzFdyGYae4-h"
   },
   "outputs": [],
   "source": [
    "final=final[final.HelpfulnessNumerator<=final.HelpfulnessDenominator]"
   ]
  },
  {
   "cell_type": "code",
   "execution_count": 36,
   "metadata": {
    "colab": {
     "base_uri": "https://localhost:8080/",
     "height": 85
    },
    "colab_type": "code",
    "executionInfo": {
     "elapsed": 763,
     "status": "ok",
     "timestamp": 1554442631522,
     "user": {
      "displayName": "Rajendra Choudhary",
      "photoUrl": "https://lh3.googleusercontent.com/-H2n68bMjaqM/AAAAAAAAAAI/AAAAAAAAADs/35wbnA9B3WM/s64/photo.jpg",
      "userId": "11987022453046813676"
     },
     "user_tz": -330
    },
    "id": "rwt_jvxme65g",
    "outputId": "a2b97787-9760-4f88-9976-2adbd428023b"
   },
   "outputs": [
    {
     "name": "stdout",
     "output_type": "stream",
     "text": [
      "(364171, 10)\n"
     ]
    },
    {
     "data": {
      "text/plain": [
       "1    307061\n",
       "0     57110\n",
       "Name: Score, dtype: int64"
      ]
     },
     "execution_count": 36,
     "metadata": {},
     "output_type": "execute_result"
    }
   ],
   "source": [
    "#Before starting the next phase of preprocessing lets see the number of entries left\n",
    "print(final.shape)\n",
    "\n",
    "#How many positive and negative reviews are present in our dataset?\n",
    "final['Score'].value_counts()"
   ]
  },
  {
   "cell_type": "code",
   "execution_count": 37,
   "metadata": {
    "colab": {},
    "colab_type": "code",
    "id": "xBmO24Vye804"
   },
   "outputs": [],
   "source": [
    "final[\"cleanReview\"] = final[\"Summary\"].map(str) + \". \" + final[\"Text\"]"
   ]
  },
  {
   "cell_type": "code",
   "execution_count": 38,
   "metadata": {
    "colab": {
     "base_uri": "https://localhost:8080/",
     "height": 119
    },
    "colab_type": "code",
    "executionInfo": {
     "elapsed": 844,
     "status": "ok",
     "timestamp": 1554442635166,
     "user": {
      "displayName": "Rajendra Choudhary",
      "photoUrl": "https://lh3.googleusercontent.com/-H2n68bMjaqM/AAAAAAAAAAI/AAAAAAAAADs/35wbnA9B3WM/s64/photo.jpg",
      "userId": "11987022453046813676"
     },
     "user_tz": -330
    },
    "id": "FfFqHBmge-pI",
    "outputId": "c6bb9bd8-9a1a-42ce-9905-c45f154bd842"
   },
   "outputs": [
    {
     "data": {
      "text/plain": [
       "0    Good Quality Dog Food. I have bought several o...\n",
       "1    Not as Advertised. Product arrived labeled as ...\n",
       "2    \"Delight\" says it all. This is a confection th...\n",
       "3    Cough Medicine. If you are looking for the sec...\n",
       "4    Great taffy. Great taffy at a great price.  Th...\n",
       "Name: cleanReview, dtype: object"
      ]
     },
     "execution_count": 38,
     "metadata": {},
     "output_type": "execute_result"
    }
   ],
   "source": [
    "final['cleanReview'].head()"
   ]
  },
  {
   "cell_type": "code",
   "execution_count": 39,
   "metadata": {
    "colab": {
     "base_uri": "https://localhost:8080/",
     "height": 119
    },
    "colab_type": "code",
    "executionInfo": {
     "elapsed": 7157,
     "status": "ok",
     "timestamp": 1554442643479,
     "user": {
      "displayName": "Rajendra Choudhary",
      "photoUrl": "https://lh3.googleusercontent.com/-H2n68bMjaqM/AAAAAAAAAAI/AAAAAAAAADs/35wbnA9B3WM/s64/photo.jpg",
      "userId": "11987022453046813676"
     },
     "user_tz": -330
    },
    "id": "u54UwQGxfAn4",
    "outputId": "ba389db9-be04-4c6b-9f00-adf5520fbc44"
   },
   "outputs": [
    {
     "data": {
      "text/plain": [
       "0    52\n",
       "1    34\n",
       "2    98\n",
       "3    43\n",
       "4    29\n",
       "Name: lengthOfReview, dtype: int64"
      ]
     },
     "execution_count": 39,
     "metadata": {},
     "output_type": "execute_result"
    }
   ],
   "source": [
    "final['lengthOfReview'] = final['cleanReview'].str.split().str.len()\n",
    "final['lengthOfReview'].head()"
   ]
  },
  {
   "cell_type": "code",
   "execution_count": 40,
   "metadata": {
    "colab": {
     "base_uri": "https://localhost:8080/",
     "height": 34
    },
    "colab_type": "code",
    "executionInfo": {
     "elapsed": 2110,
     "status": "ok",
     "timestamp": 1554442646869,
     "user": {
      "displayName": "Rajendra Choudhary",
      "photoUrl": "https://lh3.googleusercontent.com/-H2n68bMjaqM/AAAAAAAAAAI/AAAAAAAAADs/35wbnA9B3WM/s64/photo.jpg",
      "userId": "11987022453046813676"
     },
     "user_tz": -330
    },
    "id": "SupE--BifCRf",
    "outputId": "175b6925-d182-4f80-976f-9fd4449f5f3e"
   },
   "outputs": [
    {
     "name": "stderr",
     "output_type": "stream",
     "text": [
      "100%|██████████| 364171/364171 [00:00<00:00, 524870.27it/s]\n"
     ]
    }
   ],
   "source": [
    "#remove urls from text python\n",
    "from tqdm import tqdm\n",
    "lst = []\n",
    "removed_urls_list = []\n",
    "for text in tqdm(final['cleanReview']):\n",
    "  removed_urls_text = re.sub(r\"http\\S+\", \"\", text)\n",
    "  lst.append(removed_urls_text)"
   ]
  },
  {
   "cell_type": "code",
   "execution_count": 41,
   "metadata": {
    "colab": {
     "base_uri": "https://localhost:8080/",
     "height": 34
    },
    "colab_type": "code",
    "executionInfo": {
     "elapsed": 1422,
     "status": "ok",
     "timestamp": 1554442653343,
     "user": {
      "displayName": "Rajendra Choudhary",
      "photoUrl": "https://lh3.googleusercontent.com/-H2n68bMjaqM/AAAAAAAAAAI/AAAAAAAAADs/35wbnA9B3WM/s64/photo.jpg",
      "userId": "11987022453046813676"
     },
     "user_tz": -330
    },
    "id": "Y2hTFB_TfHU9",
    "outputId": "4f13fca9-2119-474c-de13-fd519712c2e7"
   },
   "outputs": [
    {
     "name": "stderr",
     "output_type": "stream",
     "text": [
      "100%|██████████| 364171/364171 [00:00<00:00, 550092.84it/s]\n"
     ]
    }
   ],
   "source": [
    "#remove urls from text python\n",
    "removed_urls_list = []\n",
    "for text in tqdm(lst):\n",
    "  removed_urls_text = re.sub(r\"http\\S+\", \"\", text)\n",
    "  removed_urls_list.append(removed_urls_text)"
   ]
  },
  {
   "cell_type": "code",
   "execution_count": 42,
   "metadata": {
    "colab": {
     "base_uri": "https://localhost:8080/",
     "height": 34
    },
    "colab_type": "code",
    "executionInfo": {
     "elapsed": 109898,
     "status": "ok",
     "timestamp": 1554442765935,
     "user": {
      "displayName": "Rajendra Choudhary",
      "photoUrl": "https://lh3.googleusercontent.com/-H2n68bMjaqM/AAAAAAAAAAI/AAAAAAAAADs/35wbnA9B3WM/s64/photo.jpg",
      "userId": "11987022453046813676"
     },
     "user_tz": -330
    },
    "id": "eSHX2F2iftHQ",
    "outputId": "f4f0072c-bfdc-43d3-9b37-fe4e7e515b4a"
   },
   "outputs": [
    {
     "name": "stderr",
     "output_type": "stream",
     "text": [
      "100%|██████████| 364171/364171 [01:16<00:00, 4733.42it/s]\n"
     ]
    }
   ],
   "source": [
    "from bs4 import BeautifulSoup\n",
    "text_lst = []\n",
    "for text in tqdm(removed_urls_list):\n",
    "  soup = BeautifulSoup(text, 'lxml')\n",
    "  text = soup.get_text()\n",
    "  text_lst.append(text)\n",
    "# print(text)\n",
    "# print(\"=\"*50)"
   ]
  },
  {
   "cell_type": "code",
   "execution_count": 43,
   "metadata": {
    "colab": {
     "base_uri": "https://localhost:8080/",
     "height": 34
    },
    "colab_type": "code",
    "executionInfo": {
     "elapsed": 1176,
     "status": "ok",
     "timestamp": 1554442767374,
     "user": {
      "displayName": "Rajendra Choudhary",
      "photoUrl": "https://lh3.googleusercontent.com/-H2n68bMjaqM/AAAAAAAAAAI/AAAAAAAAADs/35wbnA9B3WM/s64/photo.jpg",
      "userId": "11987022453046813676"
     },
     "user_tz": -330
    },
    "id": "jC63PVctfxpN",
    "outputId": "97638d1d-3e28-48a7-98dd-24d94a9a6ae9"
   },
   "outputs": [
    {
     "name": "stdout",
     "output_type": "stream",
     "text": [
      "364171\n"
     ]
    }
   ],
   "source": [
    "print(len(final['cleanReview']))"
   ]
  },
  {
   "cell_type": "code",
   "execution_count": 44,
   "metadata": {
    "colab": {},
    "colab_type": "code",
    "id": "bLm5x93cih0n"
   },
   "outputs": [],
   "source": [
    "# https://stackoverflow.com/a/47091490/4084039\n",
    "import re\n",
    "\n",
    "def decontracted(phrase):\n",
    "    # specific\n",
    "    phrase = re.sub(r\"won't\", \"will not\", phrase)\n",
    "    phrase = re.sub(r\"can\\'t\", \"can not\", phrase)\n",
    "\n",
    "    # general\n",
    "    phrase = re.sub(r\"n\\'t\", \" not\", phrase)\n",
    "    phrase = re.sub(r\"\\'re\", \" are\", phrase)\n",
    "    phrase = re.sub(r\"\\'s\", \" is\", phrase)\n",
    "    phrase = re.sub(r\"\\'d\", \" would\", phrase)\n",
    "    phrase = re.sub(r\"\\'ll\", \" will\", phrase)\n",
    "    phrase = re.sub(r\"\\'t\", \" not\", phrase)\n",
    "    phrase = re.sub(r\"\\'ve\", \" have\", phrase)\n",
    "    phrase = re.sub(r\"\\'m\", \" am\", phrase)\n",
    "    return phrase"
   ]
  },
  {
   "cell_type": "code",
   "execution_count": 45,
   "metadata": {
    "colab": {
     "base_uri": "https://localhost:8080/",
     "height": 34
    },
    "colab_type": "code",
    "executionInfo": {
     "elapsed": 6394,
     "status": "ok",
     "timestamp": 1554442776707,
     "user": {
      "displayName": "Rajendra Choudhary",
      "photoUrl": "https://lh3.googleusercontent.com/-H2n68bMjaqM/AAAAAAAAAAI/AAAAAAAAADs/35wbnA9B3WM/s64/photo.jpg",
      "userId": "11987022453046813676"
     },
     "user_tz": -330
    },
    "id": "Ek7_a9wKijkO",
    "outputId": "e40a00a1-687d-4121-c3ae-27ae33418b1b"
   },
   "outputs": [
    {
     "name": "stderr",
     "output_type": "stream",
     "text": [
      "100%|██████████| 364171/364171 [00:04<00:00, 74805.38it/s]\n"
     ]
    }
   ],
   "source": [
    "decat_lst = []\n",
    "for decat_text in tqdm(text_lst):\n",
    "  text = decontracted(decat_text)\n",
    "  decat_lst.append(text)"
   ]
  },
  {
   "cell_type": "code",
   "execution_count": 46,
   "metadata": {
    "colab": {
     "base_uri": "https://localhost:8080/",
     "height": 34
    },
    "colab_type": "code",
    "executionInfo": {
     "elapsed": 16593,
     "status": "ok",
     "timestamp": 1554442794293,
     "user": {
      "displayName": "Rajendra Choudhary",
      "photoUrl": "https://lh3.googleusercontent.com/-H2n68bMjaqM/AAAAAAAAAAI/AAAAAAAAADs/35wbnA9B3WM/s64/photo.jpg",
      "userId": "11987022453046813676"
     },
     "user_tz": -330
    },
    "id": "0FKvX519ilv9",
    "outputId": "d22708d9-c71a-48a3-babf-e931a8741952"
   },
   "outputs": [
    {
     "name": "stderr",
     "output_type": "stream",
     "text": [
      "100%|██████████| 364171/364171 [00:19<00:00, 18441.83it/s]\n"
     ]
    }
   ],
   "source": [
    "strip_list = []\n",
    "for to_strip in tqdm(decat_lst):\n",
    "  text = re.sub(\"\\S*\\d\\S*\", \"\", to_strip).strip()\n",
    "  strip_list.append(text)"
   ]
  },
  {
   "cell_type": "code",
   "execution_count": 47,
   "metadata": {
    "colab": {
     "base_uri": "https://localhost:8080/",
     "height": 34
    },
    "colab_type": "code",
    "executionInfo": {
     "elapsed": 10143,
     "status": "ok",
     "timestamp": 1554442806379,
     "user": {
      "displayName": "Rajendra Choudhary",
      "photoUrl": "https://lh3.googleusercontent.com/-H2n68bMjaqM/AAAAAAAAAAI/AAAAAAAAADs/35wbnA9B3WM/s64/photo.jpg",
      "userId": "11987022453046813676"
     },
     "user_tz": -330
    },
    "id": "ZD83E4k5ioWM",
    "outputId": "fe95057b-2428-4f50-fad6-078f2b368756"
   },
   "outputs": [
    {
     "name": "stderr",
     "output_type": "stream",
     "text": [
      "100%|██████████| 364171/364171 [00:10<00:00, 34005.79it/s]\n"
     ]
    }
   ],
   "source": [
    "\n",
    "spatial_list = []\n",
    "for to_spatial in tqdm(strip_list):\n",
    "  text = re.sub('[^A-Za-z0-9]+', ' ', to_spatial)\n",
    "  spatial_list.append(text)"
   ]
  },
  {
   "cell_type": "code",
   "execution_count": 48,
   "metadata": {
    "colab": {},
    "colab_type": "code",
    "id": "ZPbN1zQGip7E"
   },
   "outputs": [],
   "source": [
    "\n",
    "stopwords= set(['br', 'the', 'i', 'me', 'my', 'myself', 'we', 'our', 'ours', 'ourselves', 'you', \"you're\", \"you've\",\\\n",
    "            \"you'll\", \"you'd\", 'your', 'yours', 'yourself', 'yourselves', 'he', 'him', 'his', 'himself', \\\n",
    "            'she', \"she's\", 'her', 'hers', 'herself', 'it', \"it's\", 'its', 'itself', 'they', 'them', 'their',\\\n",
    "            'theirs', 'themselves', 'what', 'which', 'who', 'whom', 'this', 'that', \"that'll\", 'these', 'those', \\\n",
    "            'am', 'is', 'are', 'was', 'were', 'be', 'been', 'being', 'have', 'has', 'had', 'having', 'do', 'does', \\\n",
    "            'did', 'doing', 'a', 'an', 'the', 'and', 'but', 'if', 'or', 'because', 'as', 'until', 'while', 'of', \\\n",
    "            'at', 'by', 'for', 'with', 'about', 'against', 'between', 'into', 'through', 'during', 'before', 'after',\\\n",
    "            'above', 'below', 'to', 'from', 'up', 'down', 'in', 'out', 'on', 'off', 'over', 'under', 'again', 'further',\\\n",
    "            'then', 'once', 'here', 'there', 'when', 'where', 'why', 'how', 'all', 'any', 'both', 'each', 'few', 'more',\\\n",
    "            'most', 'other', 'some', 'such', 'only', 'own', 'same', 'so', 'than', 'too', 'very', \\\n",
    "            's', 't', 'can', 'will', 'just', 'don', \"don't\", 'should', \"should've\", 'now', 'd', 'll', 'm', 'o', 're', \\\n",
    "            've', 'y', 'ain', 'aren', \"aren't\", 'couldn', \"couldn't\", 'didn', \"didn't\", 'doesn', \"doesn't\", 'hadn',\\\n",
    "            \"hadn't\", 'hasn', \"hasn't\", 'haven', \"haven't\", 'isn', \"isn't\", 'ma', 'mightn', \"mightn't\", 'mustn',\\\n",
    "            \"mustn't\", 'needn', \"needn't\", 'shan', \"shan't\", 'shouldn', \"shouldn't\", 'wasn', \"wasn't\", 'weren', \"weren't\", \\\n",
    "            'won', \"won't\", 'wouldn', \"wouldn't\"])"
   ]
  },
  {
   "cell_type": "code",
   "execution_count": 49,
   "metadata": {
    "colab": {
     "base_uri": "https://localhost:8080/",
     "height": 34
    },
    "colab_type": "code",
    "executionInfo": {
     "elapsed": 154245,
     "status": "ok",
     "timestamp": 1554442963769,
     "user": {
      "displayName": "Rajendra Choudhary",
      "photoUrl": "https://lh3.googleusercontent.com/-H2n68bMjaqM/AAAAAAAAAAI/AAAAAAAAADs/35wbnA9B3WM/s64/photo.jpg",
      "userId": "11987022453046813676"
     },
     "user_tz": -330
    },
    "id": "4thvh0nsiuz_",
    "outputId": "116469d9-351c-47c8-acde-c1cf347ffe55"
   },
   "outputs": [
    {
     "name": "stderr",
     "output_type": "stream",
     "text": [
      "100%|██████████| 364171/364171 [02:09<00:00, 2802.29it/s]\n"
     ]
    }
   ],
   "source": [
    "# Combining all the above stundents \n",
    "preprocessed_reviews = []\n",
    "# tqdm is for printing the status bar\n",
    "for sentance in tqdm(spatial_list):\n",
    "    sentance = re.sub(r\"http\\S+\", \"\", sentance)\n",
    "    sentance = BeautifulSoup(sentance, 'lxml').get_text()\n",
    "    sentance = decontracted(sentance)\n",
    "    sentance = re.sub(\"\\S*\\d\\S*\", \"\", sentance).strip()\n",
    "    sentance = re.sub('[^A-Za-z]+', ' ', sentance)\n",
    "    # https://gist.github.com/sebleier/554280\n",
    "    sentance = ' '.join(e.lower() for e in sentance.split() if e.lower() not in stopwords)\n",
    "    preprocessed_reviews.append(sentance.strip())"
   ]
  },
  {
   "cell_type": "code",
   "execution_count": 50,
   "metadata": {
    "colab": {
     "base_uri": "https://localhost:8080/",
     "height": 51
    },
    "colab_type": "code",
    "executionInfo": {
     "elapsed": 963,
     "status": "ok",
     "timestamp": 1554442977496,
     "user": {
      "displayName": "Rajendra Choudhary",
      "photoUrl": "https://lh3.googleusercontent.com/-H2n68bMjaqM/AAAAAAAAAAI/AAAAAAAAADs/35wbnA9B3WM/s64/photo.jpg",
      "userId": "11987022453046813676"
     },
     "user_tz": -330
    },
    "id": "qdI_cqgsiv0G",
    "outputId": "eaf2e41f-e8c2-4874-efd1-b7fd1b2f332f"
   },
   "outputs": [
    {
     "name": "stdout",
     "output_type": "stream",
     "text": [
      "364171\n"
     ]
    },
    {
     "data": {
      "text/plain": [
       "'great honey satisfied product advertised use cereal raw vinegar general sweetner'"
      ]
     },
     "execution_count": 50,
     "metadata": {},
     "output_type": "execute_result"
    }
   ],
   "source": [
    "print(len(preprocessed_reviews))\n",
    "preprocessed_reviews[-1]"
   ]
  },
  {
   "cell_type": "code",
   "execution_count": 51,
   "metadata": {
    "colab": {},
    "colab_type": "code",
    "id": "U9cCm7MNiyhN"
   },
   "outputs": [],
   "source": [
    "final['cleanReview'] = preprocessed_reviews"
   ]
  },
  {
   "cell_type": "code",
   "execution_count": 52,
   "metadata": {
    "colab": {
     "base_uri": "https://localhost:8080/",
     "height": 581
    },
    "colab_type": "code",
    "executionInfo": {
     "elapsed": 986,
     "status": "ok",
     "timestamp": 1554442982174,
     "user": {
      "displayName": "Rajendra Choudhary",
      "photoUrl": "https://lh3.googleusercontent.com/-H2n68bMjaqM/AAAAAAAAAAI/AAAAAAAAADs/35wbnA9B3WM/s64/photo.jpg",
      "userId": "11987022453046813676"
     },
     "user_tz": -330
    },
    "id": "p1XYTSk8i2YE",
    "outputId": "6989c5b0-ef47-42d9-fc9a-3572c5d533cf"
   },
   "outputs": [
    {
     "name": "stdout",
     "output_type": "stream",
     "text": [
      "364171\n"
     ]
    },
    {
     "data": {
      "text/html": [
       "<div>\n",
       "<style scoped>\n",
       "    .dataframe tbody tr th:only-of-type {\n",
       "        vertical-align: middle;\n",
       "    }\n",
       "\n",
       "    .dataframe tbody tr th {\n",
       "        vertical-align: top;\n",
       "    }\n",
       "\n",
       "    .dataframe thead th {\n",
       "        text-align: right;\n",
       "    }\n",
       "</style>\n",
       "<table border=\"1\" class=\"dataframe\">\n",
       "  <thead>\n",
       "    <tr style=\"text-align: right;\">\n",
       "      <th></th>\n",
       "      <th>Id</th>\n",
       "      <th>ProductId</th>\n",
       "      <th>UserId</th>\n",
       "      <th>ProfileName</th>\n",
       "      <th>HelpfulnessNumerator</th>\n",
       "      <th>HelpfulnessDenominator</th>\n",
       "      <th>Score</th>\n",
       "      <th>Time</th>\n",
       "      <th>Summary</th>\n",
       "      <th>Text</th>\n",
       "      <th>cleanReview</th>\n",
       "      <th>lengthOfReview</th>\n",
       "    </tr>\n",
       "  </thead>\n",
       "  <tbody>\n",
       "    <tr>\n",
       "      <th>525809</th>\n",
       "      <td>568450</td>\n",
       "      <td>B001EO7N10</td>\n",
       "      <td>A28KG5XORO54AY</td>\n",
       "      <td>Lettie D. Carter</td>\n",
       "      <td>0</td>\n",
       "      <td>0</td>\n",
       "      <td>1</td>\n",
       "      <td>1299628800</td>\n",
       "      <td>Will not do without</td>\n",
       "      <td>Great for sesame chicken..this is a good if no...</td>\n",
       "      <td>not without great sesame chicken good not bett...</td>\n",
       "      <td>30</td>\n",
       "    </tr>\n",
       "    <tr>\n",
       "      <th>525810</th>\n",
       "      <td>568451</td>\n",
       "      <td>B003S1WTCU</td>\n",
       "      <td>A3I8AFVPEE8KI5</td>\n",
       "      <td>R. Sawyer</td>\n",
       "      <td>0</td>\n",
       "      <td>0</td>\n",
       "      <td>0</td>\n",
       "      <td>1331251200</td>\n",
       "      <td>disappointed</td>\n",
       "      <td>I'm disappointed with the flavor. The chocolat...</td>\n",
       "      <td>disappointed disappointed flavor chocolate not...</td>\n",
       "      <td>47</td>\n",
       "    </tr>\n",
       "    <tr>\n",
       "      <th>525811</th>\n",
       "      <td>568452</td>\n",
       "      <td>B004I613EE</td>\n",
       "      <td>A121AA1GQV751Z</td>\n",
       "      <td>pksd \"pk_007\"</td>\n",
       "      <td>2</td>\n",
       "      <td>2</td>\n",
       "      <td>1</td>\n",
       "      <td>1329782400</td>\n",
       "      <td>Perfect for our maltipoo</td>\n",
       "      <td>These stars are small, so you can give 10-15 o...</td>\n",
       "      <td>perfect maltipoo stars small give one training...</td>\n",
       "      <td>70</td>\n",
       "    </tr>\n",
       "    <tr>\n",
       "      <th>525812</th>\n",
       "      <td>568453</td>\n",
       "      <td>B004I613EE</td>\n",
       "      <td>A3IBEVCTXKNOH</td>\n",
       "      <td>Kathy A. Welch \"katwel\"</td>\n",
       "      <td>1</td>\n",
       "      <td>1</td>\n",
       "      <td>1</td>\n",
       "      <td>1331596800</td>\n",
       "      <td>Favorite Training and reward treat</td>\n",
       "      <td>These are the BEST treats for training and rew...</td>\n",
       "      <td>favorite training reward treat best treats tra...</td>\n",
       "      <td>40</td>\n",
       "    </tr>\n",
       "    <tr>\n",
       "      <th>525813</th>\n",
       "      <td>568454</td>\n",
       "      <td>B001LR2CU2</td>\n",
       "      <td>A3LGQPJCZVL9UC</td>\n",
       "      <td>srfell17</td>\n",
       "      <td>0</td>\n",
       "      <td>0</td>\n",
       "      <td>1</td>\n",
       "      <td>1338422400</td>\n",
       "      <td>Great Honey</td>\n",
       "      <td>I am very satisfied ,product is as advertised,...</td>\n",
       "      <td>great honey satisfied product advertised use c...</td>\n",
       "      <td>23</td>\n",
       "    </tr>\n",
       "  </tbody>\n",
       "</table>\n",
       "</div>"
      ],
      "text/plain": [
       "            Id   ProductId          UserId              ProfileName  \\\n",
       "525809  568450  B001EO7N10  A28KG5XORO54AY         Lettie D. Carter   \n",
       "525810  568451  B003S1WTCU  A3I8AFVPEE8KI5                R. Sawyer   \n",
       "525811  568452  B004I613EE  A121AA1GQV751Z            pksd \"pk_007\"   \n",
       "525812  568453  B004I613EE   A3IBEVCTXKNOH  Kathy A. Welch \"katwel\"   \n",
       "525813  568454  B001LR2CU2  A3LGQPJCZVL9UC                 srfell17   \n",
       "\n",
       "        HelpfulnessNumerator  HelpfulnessDenominator  Score        Time  \\\n",
       "525809                     0                       0      1  1299628800   \n",
       "525810                     0                       0      0  1331251200   \n",
       "525811                     2                       2      1  1329782400   \n",
       "525812                     1                       1      1  1331596800   \n",
       "525813                     0                       0      1  1338422400   \n",
       "\n",
       "                                   Summary  \\\n",
       "525809                 Will not do without   \n",
       "525810                        disappointed   \n",
       "525811            Perfect for our maltipoo   \n",
       "525812  Favorite Training and reward treat   \n",
       "525813                         Great Honey   \n",
       "\n",
       "                                                     Text  \\\n",
       "525809  Great for sesame chicken..this is a good if no...   \n",
       "525810  I'm disappointed with the flavor. The chocolat...   \n",
       "525811  These stars are small, so you can give 10-15 o...   \n",
       "525812  These are the BEST treats for training and rew...   \n",
       "525813  I am very satisfied ,product is as advertised,...   \n",
       "\n",
       "                                              cleanReview  lengthOfReview  \n",
       "525809  not without great sesame chicken good not bett...              30  \n",
       "525810  disappointed disappointed flavor chocolate not...              47  \n",
       "525811  perfect maltipoo stars small give one training...              70  \n",
       "525812  favorite training reward treat best treats tra...              40  \n",
       "525813  great honey satisfied product advertised use c...              23  "
      ]
     },
     "execution_count": 52,
     "metadata": {},
     "output_type": "execute_result"
    }
   ],
   "source": [
    "print(len(final))\n",
    "final.tail(5)"
   ]
  },
  {
   "cell_type": "code",
   "execution_count": 53,
   "metadata": {
    "colab": {
     "base_uri": "https://localhost:8080/",
     "height": 54
    },
    "colab_type": "code",
    "executionInfo": {
     "elapsed": 971,
     "status": "ok",
     "timestamp": 1554442984887,
     "user": {
      "displayName": "Rajendra Choudhary",
      "photoUrl": "https://lh3.googleusercontent.com/-H2n68bMjaqM/AAAAAAAAAAI/AAAAAAAAADs/35wbnA9B3WM/s64/photo.jpg",
      "userId": "11987022453046813676"
     },
     "user_tz": -330
    },
    "id": "zDqQehBti268",
    "outputId": "ff20e27d-b389-47ec-b5e3-7c0e76d3b2ec"
   },
   "outputs": [
    {
     "data": {
      "text/plain": [
       "'good quality dog food bought several vitality canned dog food products found good quality product looks like stew processed meat smells better labrador finicky appreciates product better'"
      ]
     },
     "execution_count": 53,
     "metadata": {},
     "output_type": "execute_result"
    }
   ],
   "source": [
    "final['cleanReview'][0]"
   ]
  },
  {
   "cell_type": "code",
   "execution_count": 54,
   "metadata": {
    "colab": {
     "base_uri": "https://localhost:8080/",
     "height": 34
    },
    "colab_type": "code",
    "executionInfo": {
     "elapsed": 1102,
     "status": "ok",
     "timestamp": 1554442988602,
     "user": {
      "displayName": "Rajendra Choudhary",
      "photoUrl": "https://lh3.googleusercontent.com/-H2n68bMjaqM/AAAAAAAAAAI/AAAAAAAAADs/35wbnA9B3WM/s64/photo.jpg",
      "userId": "11987022453046813676"
     },
     "user_tz": -330
    },
    "id": "oVyr3sSgi4pj",
    "outputId": "f2b5d2bb-fbc4-49e0-a333-46eb390a4da9"
   },
   "outputs": [
    {
     "data": {
      "text/plain": [
       "52"
      ]
     },
     "execution_count": 54,
     "metadata": {},
     "output_type": "execute_result"
    }
   ],
   "source": [
    "final['lengthOfReview'][0]"
   ]
  },
  {
   "cell_type": "code",
   "execution_count": 55,
   "metadata": {
    "colab": {},
    "colab_type": "code",
    "id": "gFmhWQHti6ZH"
   },
   "outputs": [],
   "source": [
    "dir_path = os.getcwd()\n",
    "# conn = sqlite3.connect(os.path.join(dir_path, '/content/gdrive/My Drive/Colab Notebooks/Amazon_LSTM/final.sqlite'))\n",
    "conn = sqlite3.connect(os.path.join(dir_path, 'final.sqlite'))\n",
    "final.to_sql('Reviews', conn, if_exists='replace', index=False)"
   ]
  },
  {
   "cell_type": "code",
   "execution_count": 56,
   "metadata": {
    "colab": {
     "base_uri": "https://localhost:8080/",
     "height": 51
    },
    "colab_type": "code",
    "executionInfo": {
     "elapsed": 1368,
     "status": "ok",
     "timestamp": 1554443288579,
     "user": {
      "displayName": "Rajendra Choudhary",
      "photoUrl": "https://lh3.googleusercontent.com/-H2n68bMjaqM/AAAAAAAAAAI/AAAAAAAAADs/35wbnA9B3WM/s64/photo.jpg",
      "userId": "11987022453046813676"
     },
     "user_tz": -330
    },
    "id": "OxDPsl9Fi8G_",
    "outputId": "4278f4fa-24c4-44c7-d1a1-92f28ddb0810"
   },
   "outputs": [
    {
     "name": "stdout",
     "output_type": "stream",
     "text": [
      "   count(*)\n",
      "0    364171\n"
     ]
    }
   ],
   "source": [
    "review_3 = pd.read_sql_query(\"\"\" SELECT count(*) FROM Reviews\"\"\", conn)\n",
    "print(review_3)"
   ]
  },
  {
   "cell_type": "code",
   "execution_count": 57,
   "metadata": {
    "colab": {},
    "colab_type": "code",
    "id": "h-JmmbVAi-pW"
   },
   "outputs": [],
   "source": [
    "filtered_data = pd.read_sql_query(\"\"\" SELECT * FROM Reviews\"\"\", conn)"
   ]
  },
  {
   "cell_type": "code",
   "execution_count": 58,
   "metadata": {
    "colab": {
     "base_uri": "https://localhost:8080/",
     "height": 34
    },
    "colab_type": "code",
    "executionInfo": {
     "elapsed": 713,
     "status": "ok",
     "timestamp": 1554443296055,
     "user": {
      "displayName": "Rajendra Choudhary",
      "photoUrl": "https://lh3.googleusercontent.com/-H2n68bMjaqM/AAAAAAAAAAI/AAAAAAAAADs/35wbnA9B3WM/s64/photo.jpg",
      "userId": "11987022453046813676"
     },
     "user_tz": -330
    },
    "id": "kvZzolakjAa-",
    "outputId": "736c28fd-da26-4ab0-838a-3ee99db7a43a"
   },
   "outputs": [
    {
     "data": {
      "text/plain": [
       "(364171, 12)"
      ]
     },
     "execution_count": 58,
     "metadata": {},
     "output_type": "execute_result"
    }
   ],
   "source": [
    "filtered_data.shape"
   ]
  },
  {
   "cell_type": "code",
   "execution_count": 59,
   "metadata": {
    "colab": {},
    "colab_type": "code",
    "id": "cGZIXDLWjBwu"
   },
   "outputs": [],
   "source": [
    "filtered_data[\"Time\"] = pd.to_datetime(filtered_data[\"Time\"], unit = \"s\")\n",
    "filtered_data = filtered_data.sort_values(by = \"Time\")"
   ]
  },
  {
   "cell_type": "code",
   "execution_count": 60,
   "metadata": {
    "colab": {
     "base_uri": "https://localhost:8080/",
     "height": 289
    },
    "colab_type": "code",
    "executionInfo": {
     "elapsed": 1057,
     "status": "ok",
     "timestamp": 1554352892175,
     "user": {
      "displayName": "Rajendra Choudhary",
      "photoUrl": "https://lh3.googleusercontent.com/-H2n68bMjaqM/AAAAAAAAAAI/AAAAAAAAADs/35wbnA9B3WM/s64/photo.jpg",
      "userId": "11987022453046813676"
     },
     "user_tz": -330
    },
    "id": "4fm4svjvjDew",
    "outputId": "d0a81325-26ee-42c5-f86e-6c843a9bc7bd"
   },
   "outputs": [
    {
     "data": {
      "text/html": [
       "<div>\n",
       "<style scoped>\n",
       "    .dataframe tbody tr th:only-of-type {\n",
       "        vertical-align: middle;\n",
       "    }\n",
       "\n",
       "    .dataframe tbody tr th {\n",
       "        vertical-align: top;\n",
       "    }\n",
       "\n",
       "    .dataframe thead th {\n",
       "        text-align: right;\n",
       "    }\n",
       "</style>\n",
       "<table border=\"1\" class=\"dataframe\">\n",
       "  <thead>\n",
       "    <tr style=\"text-align: right;\">\n",
       "      <th></th>\n",
       "      <th>Id</th>\n",
       "      <th>ProductId</th>\n",
       "      <th>UserId</th>\n",
       "      <th>ProfileName</th>\n",
       "      <th>HelpfulnessNumerator</th>\n",
       "      <th>HelpfulnessDenominator</th>\n",
       "      <th>Score</th>\n",
       "      <th>Time</th>\n",
       "      <th>Summary</th>\n",
       "      <th>Text</th>\n",
       "      <th>cleanReview</th>\n",
       "      <th>lengthOfReview</th>\n",
       "    </tr>\n",
       "  </thead>\n",
       "  <tbody>\n",
       "    <tr>\n",
       "      <th>117924</th>\n",
       "      <td>150524</td>\n",
       "      <td>0006641040</td>\n",
       "      <td>ACITT7DI6IDDL</td>\n",
       "      <td>shari zychinski</td>\n",
       "      <td>0</td>\n",
       "      <td>0</td>\n",
       "      <td>1</td>\n",
       "      <td>1999-10-08</td>\n",
       "      <td>EVERY book is educational</td>\n",
       "      <td>this witty little book makes my son laugh at l...</td>\n",
       "      <td>every book educational witty little book makes...</td>\n",
       "      <td>78</td>\n",
       "    </tr>\n",
       "    <tr>\n",
       "      <th>117901</th>\n",
       "      <td>150501</td>\n",
       "      <td>0006641040</td>\n",
       "      <td>AJ46FKXOVC7NR</td>\n",
       "      <td>Nicholas A Mesiano</td>\n",
       "      <td>2</td>\n",
       "      <td>2</td>\n",
       "      <td>1</td>\n",
       "      <td>1999-10-25</td>\n",
       "      <td>This whole series is great way to spend time w...</td>\n",
       "      <td>I can remember seeing the show when it aired o...</td>\n",
       "      <td>whole series great way spend time child rememb...</td>\n",
       "      <td>90</td>\n",
       "    </tr>\n",
       "    <tr>\n",
       "      <th>298792</th>\n",
       "      <td>451856</td>\n",
       "      <td>B00004CXX9</td>\n",
       "      <td>AIUWLEQ1ADEG5</td>\n",
       "      <td>Elizabeth Medina</td>\n",
       "      <td>0</td>\n",
       "      <td>0</td>\n",
       "      <td>1</td>\n",
       "      <td>1999-12-02</td>\n",
       "      <td>Entertainingl Funny!</td>\n",
       "      <td>Beetlejuice is a well written movie ..... ever...</td>\n",
       "      <td>entertainingl funny beetlejuice well written m...</td>\n",
       "      <td>31</td>\n",
       "    </tr>\n",
       "    <tr>\n",
       "      <th>169281</th>\n",
       "      <td>230285</td>\n",
       "      <td>B00004RYGX</td>\n",
       "      <td>A344SMIA5JECGM</td>\n",
       "      <td>Vincent P. Ross</td>\n",
       "      <td>1</td>\n",
       "      <td>2</td>\n",
       "      <td>1</td>\n",
       "      <td>1999-12-06</td>\n",
       "      <td>A modern day fairy tale</td>\n",
       "      <td>A twist of rumplestiskin captured on film, sta...</td>\n",
       "      <td>modern day fairy tale twist rumplestiskin capt...</td>\n",
       "      <td>41</td>\n",
       "    </tr>\n",
       "    <tr>\n",
       "      <th>298791</th>\n",
       "      <td>451855</td>\n",
       "      <td>B00004CXX9</td>\n",
       "      <td>AJH6LUC1UT1ON</td>\n",
       "      <td>The Phantom of the Opera</td>\n",
       "      <td>0</td>\n",
       "      <td>0</td>\n",
       "      <td>1</td>\n",
       "      <td>2000-01-03</td>\n",
       "      <td>FANTASTIC!</td>\n",
       "      <td>Beetlejuice is an excellent and funny movie. K...</td>\n",
       "      <td>fantastic beetlejuice excellent funny movie ke...</td>\n",
       "      <td>44</td>\n",
       "    </tr>\n",
       "  </tbody>\n",
       "</table>\n",
       "</div>"
      ],
      "text/plain": [
       "            Id   ProductId          UserId               ProfileName  \\\n",
       "117924  150524  0006641040   ACITT7DI6IDDL           shari zychinski   \n",
       "117901  150501  0006641040   AJ46FKXOVC7NR        Nicholas A Mesiano   \n",
       "298792  451856  B00004CXX9   AIUWLEQ1ADEG5          Elizabeth Medina   \n",
       "169281  230285  B00004RYGX  A344SMIA5JECGM           Vincent P. Ross   \n",
       "298791  451855  B00004CXX9   AJH6LUC1UT1ON  The Phantom of the Opera   \n",
       "\n",
       "        HelpfulnessNumerator  HelpfulnessDenominator  Score       Time  \\\n",
       "117924                     0                       0      1 1999-10-08   \n",
       "117901                     2                       2      1 1999-10-25   \n",
       "298792                     0                       0      1 1999-12-02   \n",
       "169281                     1                       2      1 1999-12-06   \n",
       "298791                     0                       0      1 2000-01-03   \n",
       "\n",
       "                                                  Summary  \\\n",
       "117924                          EVERY book is educational   \n",
       "117901  This whole series is great way to spend time w...   \n",
       "298792                               Entertainingl Funny!   \n",
       "169281                            A modern day fairy tale   \n",
       "298791                                         FANTASTIC!   \n",
       "\n",
       "                                                     Text  \\\n",
       "117924  this witty little book makes my son laugh at l...   \n",
       "117901  I can remember seeing the show when it aired o...   \n",
       "298792  Beetlejuice is a well written movie ..... ever...   \n",
       "169281  A twist of rumplestiskin captured on film, sta...   \n",
       "298791  Beetlejuice is an excellent and funny movie. K...   \n",
       "\n",
       "                                              cleanReview  lengthOfReview  \n",
       "117924  every book educational witty little book makes...              78  \n",
       "117901  whole series great way spend time child rememb...              90  \n",
       "298792  entertainingl funny beetlejuice well written m...              31  \n",
       "169281  modern day fairy tale twist rumplestiskin capt...              41  \n",
       "298791  fantastic beetlejuice excellent funny movie ke...              44  "
      ]
     },
     "execution_count": 60,
     "metadata": {},
     "output_type": "execute_result"
    }
   ],
   "source": [
    "\n",
    "filtered_data.head(5)"
   ]
  },
  {
   "cell_type": "code",
   "execution_count": 61,
   "metadata": {
    "colab": {
     "base_uri": "https://localhost:8080/",
     "height": 340
    },
    "colab_type": "code",
    "executionInfo": {
     "elapsed": 76302,
     "status": "ok",
     "timestamp": 1554351231881,
     "user": {
      "displayName": "Rajendra Choudhary",
      "photoUrl": "https://lh3.googleusercontent.com/-H2n68bMjaqM/AAAAAAAAAAI/AAAAAAAAADs/35wbnA9B3WM/s64/photo.jpg",
      "userId": "11987022453046813676"
     },
     "user_tz": -330
    },
    "id": "PYYpv0RujEul",
    "outputId": "5324169b-2d3c-461e-bc2e-3607e5b2e294"
   },
   "outputs": [
    {
     "name": "stdout",
     "output_type": "stream",
     "text": [
      "364171\n",
      "<class 'pandas.core.frame.DataFrame'>\n",
      "Int64Index: 364171 entries, 117924 to 107253\n",
      "Data columns (total 12 columns):\n",
      "Id                        364171 non-null int64\n",
      "ProductId                 364171 non-null object\n",
      "UserId                    364171 non-null object\n",
      "ProfileName               364171 non-null object\n",
      "HelpfulnessNumerator      364171 non-null int64\n",
      "HelpfulnessDenominator    364171 non-null int64\n",
      "Score                     364171 non-null int64\n",
      "Time                      364171 non-null datetime64[ns]\n",
      "Summary                   364171 non-null object\n",
      "Text                      364171 non-null object\n",
      "cleanReview               364171 non-null object\n",
      "lengthOfReview            364171 non-null int64\n",
      "dtypes: datetime64[ns](1), int64(5), object(6)\n",
      "memory usage: 36.1+ MB\n",
      "364171\n"
     ]
    }
   ],
   "source": [
    "print(len(filtered_data))\n",
    "filtered_data.info()\n",
    "filtered_data = filtered_data\n",
    "print(len(filtered_data))"
   ]
  },
  {
   "cell_type": "code",
   "execution_count": 62,
   "metadata": {
    "colab": {
     "base_uri": "https://localhost:8080/",
     "height": 119
    },
    "colab_type": "code",
    "executionInfo": {
     "elapsed": 3026,
     "status": "ok",
     "timestamp": 1554352857122,
     "user": {
      "displayName": "Rajendra Choudhary",
      "photoUrl": "https://lh3.googleusercontent.com/-H2n68bMjaqM/AAAAAAAAAAI/AAAAAAAAADs/35wbnA9B3WM/s64/photo.jpg",
      "userId": "11987022453046813676"
     },
     "user_tz": -330
    },
    "id": "JM0dFoSEjGk8",
    "outputId": "ce016389-3ac8-4960-fc87-205e4f1d6775"
   },
   "outputs": [
    {
     "data": {
      "text/plain": [
       "1    307061\n",
       "0     57110\n",
       "Name: Score, dtype: int64"
      ]
     },
     "execution_count": 62,
     "metadata": {},
     "output_type": "execute_result"
    }
   ],
   "source": [
    "filtered_data['Score'].value_counts()"
   ]
  },
  {
   "cell_type": "code",
   "execution_count": 63,
   "metadata": {
    "colab": {
     "base_uri": "https://localhost:8080/",
     "height": 34
    },
    "colab_type": "code",
    "executionInfo": {
     "elapsed": 1102,
     "status": "ok",
     "timestamp": 1554351445034,
     "user": {
      "displayName": "Rajendra Choudhary",
      "photoUrl": "https://lh3.googleusercontent.com/-H2n68bMjaqM/AAAAAAAAAAI/AAAAAAAAADs/35wbnA9B3WM/s64/photo.jpg",
      "userId": "11987022453046813676"
     },
     "user_tz": -330
    },
    "id": "RsiYxbzujKpY",
    "outputId": "f365fc3c-f5fb-481b-aa19-eaa9620e24d9"
   },
   "outputs": [
    {
     "data": {
      "text/plain": [
       "364171"
      ]
     },
     "execution_count": 63,
     "metadata": {},
     "output_type": "execute_result"
    }
   ],
   "source": [
    "len(filtered_data['lengthOfReview'])"
   ]
  },
  {
   "cell_type": "code",
   "execution_count": 64,
   "metadata": {},
   "outputs": [
    {
     "name": "stdout",
     "output_type": "stream",
     "text": [
      "shape of X: 117924    every book educational witty little book makes...\n",
      "117901    whole series great way spend time child rememb...\n",
      "298792    entertainingl funny beetlejuice well written m...\n",
      "169281    modern day fairy tale twist rumplestiskin capt...\n",
      "298791    fantastic beetlejuice excellent funny movie ke...\n",
      "Name: cleanReview, dtype: object\n",
      "None\n",
      "shape of y: 117924    1\n",
      "117901    1\n",
      "298792    1\n",
      "169281    1\n",
      "298791    1\n",
      "Name: Score, dtype: int64\n"
     ]
    }
   ],
   "source": [
    "X = filtered_data[\"cleanReview\"]\n",
    "print(print(\"shape of X:\", X.head(5)))\n",
    "y = filtered_data[\"Score\"]\n",
    "print(\"shape of y:\", y.head(5))\n",
    "X_len = filtered_data['lengthOfReview']"
   ]
  },
  {
   "cell_type": "markdown",
   "metadata": {
    "colab_type": "text",
    "id": "EU0gG5eqk-hL"
   },
   "source": [
    "Vocabulary of all the words"
   ]
  },
  {
   "cell_type": "code",
   "execution_count": 65,
   "metadata": {
    "colab": {},
    "colab_type": "code",
    "id": "qQyGTfYAk-Cz"
   },
   "outputs": [],
   "source": [
    "# all_data = pd.read_sql_query(\"\"\" SELECT * FROM Reviews\"\"\", con) "
   ]
  },
  {
   "cell_type": "code",
   "execution_count": 66,
   "metadata": {
    "colab": {},
    "colab_type": "code",
    "id": "6huJJT8VkVBE"
   },
   "outputs": [],
   "source": [
    "complete_review = filtered_data[\"cleanReview\"]"
   ]
  },
  {
   "cell_type": "code",
   "execution_count": 67,
   "metadata": {
    "colab": {
     "base_uri": "https://localhost:8080/",
     "height": 119
    },
    "colab_type": "code",
    "executionInfo": {
     "elapsed": 1021,
     "status": "ok",
     "timestamp": 1554443316524,
     "user": {
      "displayName": "Rajendra Choudhary",
      "photoUrl": "https://lh3.googleusercontent.com/-H2n68bMjaqM/AAAAAAAAAAI/AAAAAAAAADs/35wbnA9B3WM/s64/photo.jpg",
      "userId": "11987022453046813676"
     },
     "user_tz": -330
    },
    "id": "hITdpPSXlUDp",
    "outputId": "62c1686e-8ba0-46aa-b3be-24e8b2dcdeaa"
   },
   "outputs": [
    {
     "data": {
      "text/plain": [
       "117924    every book educational witty little book makes...\n",
       "117901    whole series great way spend time child rememb...\n",
       "298792    entertainingl funny beetlejuice well written m...\n",
       "169281    modern day fairy tale twist rumplestiskin capt...\n",
       "298791    fantastic beetlejuice excellent funny movie ke...\n",
       "Name: cleanReview, dtype: object"
      ]
     },
     "execution_count": 67,
     "metadata": {},
     "output_type": "execute_result"
    }
   ],
   "source": [
    "complete_review.head(5)"
   ]
  },
  {
   "cell_type": "code",
   "execution_count": 68,
   "metadata": {
    "colab": {
     "base_uri": "https://localhost:8080/",
     "height": 54
    },
    "colab_type": "code",
    "executionInfo": {
     "elapsed": 860,
     "status": "ok",
     "timestamp": 1554443320866,
     "user": {
      "displayName": "Rajendra Choudhary",
      "photoUrl": "https://lh3.googleusercontent.com/-H2n68bMjaqM/AAAAAAAAAAI/AAAAAAAAADs/35wbnA9B3WM/s64/photo.jpg",
      "userId": "11987022453046813676"
     },
     "user_tz": -330
    },
    "id": "ndo1xQtTlVZw",
    "outputId": "129e5c1d-f3ab-4bed-d226-7b75e274520e"
   },
   "outputs": [
    {
     "data": {
      "text/plain": [
       "'good quality dog food bought several vitality canned dog food products found good quality product looks like stew processed meat smells better labrador finicky appreciates product better'"
      ]
     },
     "execution_count": 68,
     "metadata": {},
     "output_type": "execute_result"
    }
   ],
   "source": [
    "complete_review[0]"
   ]
  },
  {
   "cell_type": "code",
   "execution_count": 69,
   "metadata": {
    "colab": {},
    "colab_type": "code",
    "id": "ku7D5nVClbNf"
   },
   "outputs": [],
   "source": [
    "vocab_list = complete_review.astype(str).values.tolist()"
   ]
  },
  {
   "cell_type": "code",
   "execution_count": 70,
   "metadata": {
    "colab": {},
    "colab_type": "code",
    "id": "1ELjZW2Ml0n6"
   },
   "outputs": [],
   "source": [
    "vocab_list_strings = []\n",
    "for words in vocab_list:\n",
    "  vocab_list_strings.append(words.split())"
   ]
  },
  {
   "cell_type": "code",
   "execution_count": 71,
   "metadata": {
    "colab": {},
    "colab_type": "code",
    "id": "8BAfvaqtN-ux"
   },
   "outputs": [],
   "source": [
    "word_list = [word for line in vocab_list for word in line.split()]"
   ]
  },
  {
   "cell_type": "code",
   "execution_count": 72,
   "metadata": {
    "colab": {
     "base_uri": "https://localhost:8080/",
     "height": 34
    },
    "colab_type": "code",
    "executionInfo": {
     "elapsed": 1601,
     "status": "ok",
     "timestamp": 1554443400439,
     "user": {
      "displayName": "Rajendra Choudhary",
      "photoUrl": "https://lh3.googleusercontent.com/-H2n68bMjaqM/AAAAAAAAAAI/AAAAAAAAADs/35wbnA9B3WM/s64/photo.jpg",
      "userId": "11987022453046813676"
     },
     "user_tz": -330
    },
    "id": "IN8b0CCRPGSV",
    "outputId": "b850ad52-840e-4f8b-959c-6526ba1e5ed5"
   },
   "outputs": [
    {
     "data": {
      "text/plain": [
       "'every'"
      ]
     },
     "execution_count": 72,
     "metadata": {},
     "output_type": "execute_result"
    }
   ],
   "source": [
    "word_list[0]"
   ]
  },
  {
   "cell_type": "code",
   "execution_count": 73,
   "metadata": {
    "colab": {},
    "colab_type": "code",
    "id": "vb00mND9PWoC"
   },
   "outputs": [],
   "source": [
    "from collections import Counter\n",
    "counts = list(Counter(word_list).items())"
   ]
  },
  {
   "cell_type": "code",
   "execution_count": 74,
   "metadata": {
    "colab": {
     "base_uri": "https://localhost:8080/",
     "height": 51
    },
    "colab_type": "code",
    "executionInfo": {
     "elapsed": 1077,
     "status": "ok",
     "timestamp": 1554443533126,
     "user": {
      "displayName": "Rajendra Choudhary",
      "photoUrl": "https://lh3.googleusercontent.com/-H2n68bMjaqM/AAAAAAAAAAI/AAAAAAAAADs/35wbnA9B3WM/s64/photo.jpg",
      "userId": "11987022453046813676"
     },
     "user_tz": -330
    },
    "id": "D-GXC_VmPac3",
    "outputId": "19919242-3695-491a-8467-4953bde0a448"
   },
   "outputs": [
    {
     "name": "stdout",
     "output_type": "stream",
     "text": [
      "('every', 24310)\n",
      "122244\n"
     ]
    }
   ],
   "source": [
    "print(counts[0])\n",
    "print(len(counts))"
   ]
  },
  {
   "cell_type": "code",
   "execution_count": 75,
   "metadata": {
    "colab": {},
    "colab_type": "code",
    "id": "TToH3nTK2oLn"
   },
   "outputs": [],
   "source": [
    "# counts[:100]\n",
    "sorted_freq = sorted(counts, key=lambda x: x[1], reverse = True)"
   ]
  },
  {
   "cell_type": "code",
   "execution_count": 76,
   "metadata": {},
   "outputs": [
    {
     "data": {
      "text/plain": [
       "[('not', 402056),\n",
       " ('like', 161348),\n",
       " ('great', 156532),\n",
       " ('good', 156003),\n",
       " ('taste', 115761),\n",
       " ('product', 111441),\n",
       " ('one', 110340),\n",
       " ('coffee', 101230),\n",
       " ('tea', 98173),\n",
       " ('love', 96957)]"
      ]
     },
     "execution_count": 76,
     "metadata": {},
     "output_type": "execute_result"
    }
   ],
   "source": [
    "sorted_freq[:10]"
   ]
  },
  {
   "cell_type": "code",
   "execution_count": 77,
   "metadata": {
    "colab": {},
    "colab_type": "code",
    "id": "7KWBIdqW2-hO"
   },
   "outputs": [],
   "source": [
    "top_words = sorted_freq[:5000]"
   ]
  },
  {
   "cell_type": "code",
   "execution_count": 78,
   "metadata": {
    "colab": {
     "base_uri": "https://localhost:8080/",
     "height": 990131
    },
    "colab_type": "code",
    "executionInfo": {
     "elapsed": 2534,
     "status": "ok",
     "timestamp": 1554443698186,
     "user": {
      "displayName": "Rajendra Choudhary",
      "photoUrl": "https://lh3.googleusercontent.com/-H2n68bMjaqM/AAAAAAAAAAI/AAAAAAAAADs/35wbnA9B3WM/s64/photo.jpg",
      "userId": "11987022453046813676"
     },
     "user_tz": -330
    },
    "id": "PZCCZeh6MFhi",
    "outputId": "d301d44c-ff62-40c3-91a2-48014312f6fe"
   },
   "outputs": [
    {
     "data": {
      "text/plain": [
       "['every',\n",
       " 'book',\n",
       " 'educational',\n",
       " 'witty',\n",
       " 'little',\n",
       " 'book',\n",
       " 'makes',\n",
       " 'son',\n",
       " 'laugh',\n",
       " 'loud',\n",
       " 'recite',\n",
       " 'car',\n",
       " 'driving',\n",
       " 'along',\n",
       " 'always',\n",
       " 'sing',\n",
       " 'refrain',\n",
       " 'learned',\n",
       " 'whales',\n",
       " 'india',\n",
       " 'drooping',\n",
       " 'roses',\n",
       " 'love',\n",
       " 'new',\n",
       " 'words',\n",
       " 'book',\n",
       " 'introduces',\n",
       " 'silliness',\n",
       " 'classic',\n",
       " 'book',\n",
       " 'willing',\n",
       " 'bet',\n",
       " 'son',\n",
       " 'still',\n",
       " 'able',\n",
       " 'recite',\n",
       " 'memory',\n",
       " 'college']"
      ]
     },
     "execution_count": 78,
     "metadata": {},
     "output_type": "execute_result"
    }
   ],
   "source": [
    "vocab_list_strings[0]"
   ]
  },
  {
   "cell_type": "code",
   "execution_count": 79,
   "metadata": {
    "colab": {
     "base_uri": "https://localhost:8080/",
     "height": 187
    },
    "colab_type": "code",
    "executionInfo": {
     "elapsed": 1149,
     "status": "ok",
     "timestamp": 1554443671131,
     "user": {
      "displayName": "Rajendra Choudhary",
      "photoUrl": "https://lh3.googleusercontent.com/-H2n68bMjaqM/AAAAAAAAAAI/AAAAAAAAADs/35wbnA9B3WM/s64/photo.jpg",
      "userId": "11987022453046813676"
     },
     "user_tz": -330
    },
    "id": "jx36SlBcFztP",
    "outputId": "f61c7ba1-7246-4fdf-f1bd-1b0b24bcb4f8"
   },
   "outputs": [
    {
     "name": "stdout",
     "output_type": "stream",
     "text": [
      "not 402056\n",
      "like 161348\n",
      "great 156532\n",
      "good 156003\n",
      "taste 115761\n",
      "product 111441\n",
      "one 110340\n",
      "coffee 101230\n",
      "tea 98173\n",
      "love 96957\n"
     ]
    }
   ],
   "source": [
    "for key, value in top_words[:10]:\n",
    "  print(key, value)"
   ]
  },
  {
   "cell_type": "code",
   "execution_count": 80,
   "metadata": {
    "colab": {
     "base_uri": "https://localhost:8080/",
     "height": 1081
    },
    "colab_type": "code",
    "executionInfo": {
     "elapsed": 4594,
     "status": "error",
     "timestamp": 1554461169061,
     "user": {
      "displayName": "Rajendra Choudhary",
      "photoUrl": "https://lh3.googleusercontent.com/-H2n68bMjaqM/AAAAAAAAAAI/AAAAAAAAADs/35wbnA9B3WM/s64/photo.jpg",
      "userId": "11987022453046813676"
     },
     "user_tz": -330
    },
    "id": "XVthCPKTMJlM",
    "outputId": "ac6e5267-b5c5-4641-bcd1-ab51b1ebb442"
   },
   "outputs": [
    {
     "name": "stderr",
     "output_type": "stream",
     "text": [
      "100%|██████████| 364171/364171 [45:53<00:00, 132.24it/s] \n"
     ]
    }
   ],
   "source": [
    "from tqdm import tqdm\n",
    "all_list = []\n",
    "for ind_line in tqdm(vocab_list_strings):\n",
    "    in_num = []\n",
    "    for single_review in ind_line:\n",
    "        for key, value in top_words:\n",
    "            if key == single_review:\n",
    "                new_review = value\n",
    "                break\n",
    "            else:\n",
    "                new_review = 0\n",
    "        in_num.append(new_review)\n",
    "    all_list.append(in_num)"
   ]
  },
  {
   "cell_type": "code",
   "execution_count": 81,
   "metadata": {
    "colab": {},
    "colab_type": "code",
    "id": "vt168AzdmUl4"
   },
   "outputs": [],
   "source": [
    "import pickle\n",
    "file = open('all_list', 'wb')\n",
    "pickle.dump(all_list,file)\n",
    "file.close()"
   ]
  },
  {
   "cell_type": "code",
   "execution_count": 29,
   "metadata": {
    "colab": {
     "base_uri": "https://localhost:8080/",
     "height": 34
    },
    "colab_type": "code",
    "executionInfo": {
     "elapsed": 1971,
     "status": "ok",
     "timestamp": 1554461026208,
     "user": {
      "displayName": "Rajendra Choudhary",
      "photoUrl": "https://lh3.googleusercontent.com/-H2n68bMjaqM/AAAAAAAAAAI/AAAAAAAAADs/35wbnA9B3WM/s64/photo.jpg",
      "userId": "11987022453046813676"
     },
     "user_tz": -330
    },
    "id": "KhzG5Q0uhbpM",
    "outputId": "da63b096-7bb6-40c0-ee22-a57cb38f8e99"
   },
   "outputs": [
    {
     "name": "stdout",
     "output_type": "stream",
     "text": [
      "[24310, 1608, 0, 0, 53562, 1608, 25031, 7873, 0, 283, 0, 1841, 458, 5336, 23736, 0, 0, 1826, 0, 907, 0, 403, 96957, 17728, 1346, 1608, 0, 0, 1858, 1608, 1142, 828, 7873, 27303, 11340, 0, 487, 1107]\n",
      "364171\n"
     ]
    }
   ],
   "source": [
    "print(all_list[0])\n",
    "print(len(all_list))"
   ]
  },
  {
   "cell_type": "code",
   "execution_count": 30,
   "metadata": {},
   "outputs": [
    {
     "name": "stdout",
     "output_type": "stream",
     "text": [
      "364171\n"
     ]
    }
   ],
   "source": [
    "print(len(y))"
   ]
  },
  {
   "cell_type": "code",
   "execution_count": 20,
   "metadata": {},
   "outputs": [],
   "source": [
    "X_train = all_list[0:80000]\n",
    "Y_train = y[0:80000]\n",
    "X_test = all_list[80000:100000]\n",
    "Y_test = y[80000:100000]"
   ]
  },
  {
   "cell_type": "code",
   "execution_count": 23,
   "metadata": {},
   "outputs": [
    {
     "name": "stdout",
     "output_type": "stream",
     "text": [
      "(80000, 600)\n",
      "80000\n",
      "(20000, 600)\n",
      "20000\n"
     ]
    }
   ],
   "source": [
    "print(X_train_padded.shape)\n",
    "print(len(Y_train))\n",
    "print(X_test_padded.shape)\n",
    "print(len(Y_test))"
   ]
  },
  {
   "cell_type": "code",
   "execution_count": 22,
   "metadata": {
    "colab": {},
    "colab_type": "code",
    "collapsed": true,
    "id": "Zc8GEjMDnPGY"
   },
   "outputs": [],
   "source": [
    "max_review_length = 600\n",
    "X_train_padded = sequence.pad_sequences(X_train, maxlen=max_review_length)\n",
    "X_test_padded = sequence.pad_sequences(X_test, maxlen=max_review_length)"
   ]
  },
  {
   "cell_type": "code",
   "execution_count": 108,
   "metadata": {
    "scrolled": true
   },
   "outputs": [
    {
     "name": "stdout",
     "output_type": "stream",
     "text": [
      "(80000, 600)\n",
      "[     0      0      0      0      0      0      0      0      0      0\n",
      "      0      0      0      0      0      0      0      0      0      0\n",
      "      0      0      0      0      0      0      0      0      0      0\n",
      "      0      0      0      0      0      0      0      0      0      0\n",
      "      0      0      0      0      0      0      0      0      0      0\n",
      "      0      0      0      0      0      0      0      0      0      0\n",
      "      0      0      0      0      0      0      0      0      0      0\n",
      "      0      0      0      0      0      0      0      0      0      0\n",
      "      0      0      0      0      0      0      0      0      0      0\n",
      "      0      0      0      0      0      0      0      0      0      0\n",
      "      0      0      0      0      0      0      0      0      0      0\n",
      "      0      0      0      0      0      0      0      0      0      0\n",
      "      0      0      0      0      0      0      0      0      0      0\n",
      "      0      0      0      0      0      0      0      0      0      0\n",
      "      0      0      0      0      0      0      0      0      0      0\n",
      "      0      0      0      0      0      0      0      0      0      0\n",
      "      0      0      0      0      0      0      0      0      0      0\n",
      "      0      0      0      0      0      0      0      0      0      0\n",
      "      0      0      0      0      0      0      0      0      0      0\n",
      "      0      0      0      0      0      0      0      0      0      0\n",
      "      0      0      0      0      0      0      0      0      0      0\n",
      "      0      0      0      0      0      0      0      0      0      0\n",
      "      0      0      0      0      0      0      0      0      0      0\n",
      "      0      0      0      0      0      0      0      0      0      0\n",
      "      0      0      0      0      0      0      0      0      0      0\n",
      "      0      0      0      0      0      0      0      0      0      0\n",
      "      0      0      0      0      0      0      0      0      0      0\n",
      "      0      0      0      0      0      0      0      0      0      0\n",
      "      0      0      0      0      0      0      0      0      0      0\n",
      "      0      0      0      0      0      0      0      0      0      0\n",
      "      0      0      0      0      0      0      0      0      0      0\n",
      "      0      0      0      0      0      0      0      0      0      0\n",
      "      0      0      0      0      0      0      0      0      0      0\n",
      "      0      0      0      0      0      0      0      0      0      0\n",
      "      0      0      0      0      0      0      0      0      0      0\n",
      "      0      0      0      0      0      0      0      0      0      0\n",
      "      0      0      0      0      0      0      0      0      0      0\n",
      "      0      0      0      0      0      0      0      0      0      0\n",
      "      0      0      0      0      0      0      0      0      0      0\n",
      "      0      0      0      0      0      0      0      0      0      0\n",
      "      0      0      0      0      0      0      0      0      0      0\n",
      "      0      0      0      0      0      0      0      0      0      0\n",
      "      0      0      0      0      0      0      0      0      0      0\n",
      "      0      0      0      0      0      0      0      0      0      0\n",
      "      0      0      0      0      0      0      0      0      0      0\n",
      "      0      0      0      0      0      0      0      0      0      0\n",
      "      0      0      0      0      0      0      0      0      0      0\n",
      "      0      0      0      0      0      0      0      0      0      0\n",
      "      0      0      0      0      0      0      0      0      0      0\n",
      "      0      0      0      0      0      0      0      0      0      0\n",
      "      0      0      0      0      0      0      0      0      0      0\n",
      "      0      0      0      0      0      0      0      0      0      0\n",
      "      0      0      0      0      0      0      0      0      0      0\n",
      "      0      0      0      0      0      0      0      0      0      0\n",
      "      0      0      0      0      0      0      0      0      0      0\n",
      "      0      0      0      0      0      0      0      0      0      0\n",
      "      0      0      0      0      0      0      0      0      0      0\n",
      "      0      0      0      0      0      0      0      0      0 402056\n",
      "   2195 111441  12294    941    285   1146   3424   3424  16594  20873\n",
      "   2731    438 402056  19596    551   1888    899      0 111441    285]\n"
     ]
    }
   ],
   "source": [
    "print(X_train_padded.shape)\n",
    "print(X_train_padded[1])"
   ]
  },
  {
   "cell_type": "code",
   "execution_count": 109,
   "metadata": {},
   "outputs": [
    {
     "name": "stdout",
     "output_type": "stream",
     "text": [
      "_________________________________________________________________\n",
      "Layer (type)                 Output Shape              Param #   \n",
      "=================================================================\n",
      "embedding_10 (Embedding)     (None, 600, 32)           16000000  \n",
      "_________________________________________________________________\n",
      "lstm_10 (LSTM)               (None, 100)               53200     \n",
      "_________________________________________________________________\n",
      "dense_10 (Dense)             (None, 1)                 101       \n",
      "=================================================================\n",
      "Total params: 16,053,301\n",
      "Trainable params: 16,053,301\n",
      "Non-trainable params: 0\n",
      "_________________________________________________________________\n",
      "None\n"
     ]
    }
   ],
   "source": [
    "# create the model\n",
    "top_words = 5000\n",
    "embedding_vecor_length = 32\n",
    "model = Sequential()\n",
    "model.add(Embedding(500000, embedding_vecor_length, input_length=max_review_length))\n",
    "model.add(LSTM(100))\n",
    "model.add(Dense(1, activation='sigmoid'))\n",
    "model.compile(loss='binary_crossentropy', optimizer='adam', metrics=['accuracy'])\n",
    "print(model.summary())"
   ]
  },
  {
   "cell_type": "code",
   "execution_count": 111,
   "metadata": {},
   "outputs": [
    {
     "name": "stdout",
     "output_type": "stream",
     "text": [
      "(80000, 600)\n",
      "80000\n",
      "5000\n",
      "32\n",
      "600\n"
     ]
    }
   ],
   "source": [
    "print(X_train_padded.shape)\n",
    "print(len(Y_train))\n",
    "print(top_words)\n",
    "print(embedding_vecor_length)\n",
    "print(max_review_length)"
   ]
  },
  {
   "cell_type": "code",
   "execution_count": 112,
   "metadata": {},
   "outputs": [
    {
     "name": "stdout",
     "output_type": "stream",
     "text": [
      "(80000, 600)\n",
      "80000\n",
      "(20000, 600)\n",
      "20000\n"
     ]
    }
   ],
   "source": [
    "print(X_train_padded.shape)\n",
    "print(len(Y_train))\n",
    "print(X_test_padded.shape)\n",
    "print(len(Y_test))"
   ]
  },
  {
   "cell_type": "code",
   "execution_count": null,
   "metadata": {},
   "outputs": [
    {
     "name": "stderr",
     "output_type": "stream",
     "text": [
      "/home/j_choudhary1001/anaconda3/lib/python3.5/site-packages/ipykernel/__main__.py:1: UserWarning: The `nb_epoch` argument in `fit` has been renamed `epochs`.\n",
      "  if __name__ == '__main__':\n"
     ]
    },
    {
     "name": "stdout",
     "output_type": "stream",
     "text": [
      "Epoch 1/10\n",
      "80000/80000 [==============================] - 819s 10ms/step - loss: 0.2275 - acc: 0.9119\n",
      "Epoch 2/10\n",
      "80000/80000 [==============================] - 820s 10ms/step - loss: 0.1594 - acc: 0.9387\n",
      "Epoch 3/10\n",
      "80000/80000 [==============================] - 829s 10ms/step - loss: 0.1448 - acc: 0.9441\n",
      "Epoch 4/10\n",
      "80000/80000 [==============================] - 822s 10ms/step - loss: 0.1328 - acc: 0.9490\n",
      "Epoch 5/10\n",
      "80000/80000 [==============================] - 810s 10ms/step - loss: 0.1203 - acc: 0.9539\n",
      "Epoch 6/10\n",
      "80000/80000 [==============================] - 807s 10ms/step - loss: 0.1086 - acc: 0.9594\n",
      "Epoch 7/10\n",
      "80000/80000 [==============================] - 806s 10ms/step - loss: 0.0975 - acc: 0.9632\n",
      "Epoch 8/10\n",
      "80000/80000 [==============================] - 802s 10ms/step - loss: 0.0890 - acc: 0.9676\n",
      "Epoch 9/10\n",
      "80000/80000 [==============================] - 812s 10ms/step - loss: 0.0803 - acc: 0.9705\n",
      "Epoch 10/10\n",
      "80000/80000 [==============================] - 814s 10ms/step - loss: 0.0727 - acc: 0.9738\n"
     ]
    }
   ],
   "source": [
    "history = model.fit(X_train_padded, Y_train, nb_epoch=10, batch_size=64)\n",
    "# Final evaluation of the model\n",
    "scores = model.evaluate(X_test_padded, Y_test, verbose=0)"
   ]
  },
  {
   "cell_type": "code",
   "execution_count": 114,
   "metadata": {},
   "outputs": [
    {
     "name": "stdout",
     "output_type": "stream",
     "text": [
      "Accuracy: 94.27%\n"
     ]
    }
   ],
   "source": [
    "print(\"Accuracy: %.2f%%\" % (scores[1]*100))"
   ]
  },
  {
   "cell_type": "code",
   "execution_count": 116,
   "metadata": {
    "collapsed": true
   },
   "outputs": [],
   "source": [
    "import pickle\n",
    "file = open('1_layer_model', 'wb')\n",
    "pickle.dump(model,file)\n",
    "file.close()"
   ]
  },
  {
   "cell_type": "code",
   "execution_count": 42,
   "metadata": {},
   "outputs": [
    {
     "data": {
      "image/png": "[encoded data removed]",
      "text/plain": [
       "<matplotlib.figure.Figure at 0x7ff674142550>"
      ]
     },
     "metadata": {},
     "output_type": "display_data"
    }
   ],
   "source": [
    "import matplotlib.pyplot as plt\n",
    "fig,ax = plt.subplots(1,1)\n",
    "ax.set_xlabel('epoch') ; ax.set_ylabel('Categorical Crossentropy Loss')\n",
    "x = list(range(1,epochs+1))\n",
    "vy = history.history['acc']\n",
    "ty = history.history['loss']\n",
    "# plt_dynamic(x, vy, ty, ax)\n",
    "ax.plot(x, vy, 'b', label=\"Accuracy\")\n",
    "ax.plot(x, ty, 'r', label=\"Train Loss\")\n",
    "plt.legend()\n",
    "plt.grid()\n",
    "fig.canvas.draw()"
   ]
  },
  {
   "cell_type": "markdown",
   "metadata": {},
   "source": [
    "2 LSTM layers"
   ]
  },
  {
   "cell_type": "code",
   "execution_count": 35,
   "metadata": {},
   "outputs": [
    {
     "name": "stdout",
     "output_type": "stream",
     "text": [
      "WARNING:tensorflow:From /home/j_choudhary1001/anaconda3/lib/python3.5/site-packages/tensorflow/python/framework/op_def_library.py:263: colocate_with (from tensorflow.python.framework.ops) is deprecated and will be removed in a future version.\n",
      "Instructions for updating:\n",
      "Colocations handled automatically by placer.\n",
      "_________________________________________________________________\n",
      "Layer (type)                 Output Shape              Param #   \n",
      "=================================================================\n",
      "embedding_1 (Embedding)      (None, 600, 32)           16000000  \n",
      "_________________________________________________________________\n",
      "lstm_1 (LSTM)                (None, 600, 100)          53200     \n",
      "_________________________________________________________________\n",
      "lstm_2 (LSTM)                (None, 100)               80400     \n",
      "_________________________________________________________________\n",
      "dense_1 (Dense)              (None, 1)                 101       \n",
      "=================================================================\n",
      "Total params: 16,133,701\n",
      "Trainable params: 16,133,701\n",
      "Non-trainable params: 0\n",
      "_________________________________________________________________\n",
      "None\n"
     ]
    }
   ],
   "source": [
    "# create the model\n",
    "top_words = 5000\n",
    "embedding_vecor_length = 32\n",
    "model = Sequential()\n",
    "model.add(Embedding(500000, embedding_vecor_length, input_length=max_review_length))\n",
    "model.add(LSTM(100, return_sequences=True))\n",
    "model.add(LSTM(100))\n",
    "model.add(Dense(1, activation='sigmoid'))\n",
    "model.compile(loss='binary_crossentropy', optimizer='adam', metrics=['accuracy'])\n",
    "print(model.summary())"
   ]
  },
  {
   "cell_type": "code",
   "execution_count": 36,
   "metadata": {},
   "outputs": [
    {
     "name": "stdout",
     "output_type": "stream",
     "text": [
      "WARNING:tensorflow:From /home/j_choudhary1001/anaconda3/lib/python3.5/site-packages/tensorflow/python/ops/math_ops.py:3066: to_int32 (from tensorflow.python.ops.math_ops) is deprecated and will be removed in a future version.\n",
      "Instructions for updating:\n",
      "Use tf.cast instead.\n"
     ]
    },
    {
     "name": "stderr",
     "output_type": "stream",
     "text": [
      "/home/j_choudhary1001/anaconda3/lib/python3.5/site-packages/ipykernel/__main__.py:1: UserWarning: The `nb_epoch` argument in `fit` has been renamed `epochs`.\n",
      "  if __name__ == '__main__':\n"
     ]
    },
    {
     "name": "stdout",
     "output_type": "stream",
     "text": [
      "Epoch 1/10\n",
      "80000/80000 [==============================] - 1572s 20ms/step - loss: 0.2062 - acc: 0.9246\n",
      "Epoch 2/10\n",
      "80000/80000 [==============================] - 1566s 20ms/step - loss: 0.1453 - acc: 0.9437\n",
      "Epoch 3/10\n",
      "80000/80000 [==============================] - 1552s 19ms/step - loss: 0.1297 - acc: 0.9514\n",
      "Epoch 4/10\n",
      "80000/80000 [==============================] - 1551s 19ms/step - loss: 0.1156 - acc: 0.9572\n",
      "Epoch 5/10\n",
      "80000/80000 [==============================] - 1553s 19ms/step - loss: 0.1060 - acc: 0.9611\n",
      "Epoch 6/10\n",
      "80000/80000 [==============================] - 1551s 19ms/step - loss: 0.0944 - acc: 0.9663\n",
      "Epoch 7/10\n",
      "80000/80000 [==============================] - 1548s 19ms/step - loss: 0.0844 - acc: 0.9700\n",
      "Epoch 8/10\n",
      "80000/80000 [==============================] - 1549s 19ms/step - loss: 0.0764 - acc: 0.9732\n",
      "Epoch 9/10\n",
      "80000/80000 [==============================] - 1550s 19ms/step - loss: 0.0696 - acc: 0.9760\n",
      "Epoch 10/10\n",
      "80000/80000 [==============================] - 1549s 19ms/step - loss: 0.0620 - acc: 0.9793\n"
     ]
    }
   ],
   "source": [
    "history = model.fit(X_train_padded, Y_train, nb_epoch=10, batch_size=64)\n",
    "# Final evaluation of the model\n",
    "scores = model.evaluate(X_test_padded, Y_test, verbose=0)"
   ]
  },
  {
   "cell_type": "code",
   "execution_count": 37,
   "metadata": {},
   "outputs": [
    {
     "name": "stdout",
     "output_type": "stream",
     "text": [
      "Accuracy: 93.86%\n"
     ]
    }
   ],
   "source": [
    "print(\"Accuracy: %.2f%%\" % (scores[1]*100))"
   ]
  },
  {
   "cell_type": "code",
   "execution_count": 38,
   "metadata": {
    "collapsed": true
   },
   "outputs": [],
   "source": [
    "import pickle\n",
    "file = open('2_layer_model', 'wb')\n",
    "pickle.dump(model,file)\n",
    "file.close()"
   ]
  },
  {
   "cell_type": "code",
   "execution_count": 41,
   "metadata": {},
   "outputs": [
    {
     "data": {
      "image/png": "[encoded data removed]",
      "text/plain": [
       "<matplotlib.figure.Figure at 0x7ff674192518>"
      ]
     },
     "metadata": {},
     "output_type": "display_data"
    }
   ],
   "source": [
    "import matplotlib.pyplot as plt\n",
    "fig,ax = plt.subplots(1,1)\n",
    "ax.set_xlabel('epoch') ; ax.set_ylabel('Categorical Crossentropy Loss')\n",
    "x = list(range(1,epochs+1))\n",
    "vy = history.history['acc']\n",
    "ty = history.history['loss']\n",
    "# plt_dynamic(x, vy, ty, ax)\n",
    "ax.plot(x, vy, 'b', label=\"Accuracy\")\n",
    "ax.plot(x, ty, 'r', label=\"Train Loss\")\n",
    "plt.legend()\n",
    "plt.grid()\n",
    "fig.canvas.draw()"
   ]
  },
  {
   "cell_type": "code",
   "execution_count": 19,
   "metadata": {},
   "outputs": [
    {
     "ename": "FileNotFoundError",
     "evalue": "[Errno 2] No such file or directory: 'all_list'",
     "output_type": "error",
     "traceback": [
      "\u001b[0;31m---------------------------------------------------------------------------\u001b[0m",
      "\u001b[0;31mFileNotFoundError\u001b[0m                         Traceback (most recent call last)",
      "\u001b[0;32m<ipython-input-19-2df2f27ce778>\u001b[0m in \u001b[0;36m<module>\u001b[0;34m()\u001b[0m\n\u001b[1;32m      1\u001b[0m \u001b[0;32mimport\u001b[0m \u001b[0mpickle\u001b[0m\u001b[0;34m\u001b[0m\u001b[0m\n\u001b[0;32m----> 2\u001b[0;31m \u001b[0;32mwith\u001b[0m \u001b[0mopen\u001b[0m\u001b[0;34m(\u001b[0m\u001b[0;34mr\"all_list\"\u001b[0m\u001b[0;34m,\u001b[0m \u001b[0;34m\"rb\"\u001b[0m\u001b[0;34m)\u001b[0m \u001b[0;32mas\u001b[0m \u001b[0minput_file\u001b[0m\u001b[0;34m:\u001b[0m\u001b[0;34m\u001b[0m\u001b[0m\n\u001b[0m\u001b[1;32m      3\u001b[0m     \u001b[0mall_list\u001b[0m \u001b[0;34m=\u001b[0m \u001b[0mpickle\u001b[0m\u001b[0;34m.\u001b[0m\u001b[0mload\u001b[0m\u001b[0;34m(\u001b[0m\u001b[0minput_file\u001b[0m\u001b[0;34m)\u001b[0m\u001b[0;34m\u001b[0m\u001b[0m\n",
      "\u001b[0;31mFileNotFoundError\u001b[0m: [Errno 2] No such file or directory: 'all_list'"
     ]
    }
   ],
   "source": [
    "import pickle\n",
    "with open(r\"all_list\", \"rb\") as input_file:\n",
    "    all_list = pickle.load(input_file)"
   ]
  },
  {
   "cell_type": "code",
   "execution_count": 19,
   "metadata": {},
   "outputs": [
    {
     "data": {
      "text/plain": [
       "364171"
      ]
     },
     "execution_count": 19,
     "metadata": {},
     "output_type": "execute_result"
    }
   ],
   "source": [
    "len(all_list)"
   ]
  },
  {
   "cell_type": "code",
   "execution_count": 24,
   "metadata": {},
   "outputs": [
    {
     "name": "stdout",
     "output_type": "stream",
     "text": [
      "WARNING:tensorflow:From /home/j_choudhary1001/anaconda3/lib/python3.5/site-packages/tensorflow/python/framework/op_def_library.py:263: colocate_with (from tensorflow.python.framework.ops) is deprecated and will be removed in a future version.\n",
      "Instructions for updating:\n",
      "Colocations handled automatically by placer.\n",
      "WARNING:tensorflow:From /home/j_choudhary1001/anaconda3/lib/python3.5/site-packages/keras/backend/tensorflow_backend.py:3445: calling dropout (from tensorflow.python.ops.nn_ops) with keep_prob is deprecated and will be removed in a future version.\n",
      "Instructions for updating:\n",
      "Please use `rate` instead of `keep_prob`. Rate should be set to `rate = 1 - keep_prob`.\n",
      "_________________________________________________________________\n",
      "Layer (type)                 Output Shape              Param #   \n",
      "=================================================================\n",
      "embedding_1 (Embedding)      (None, 600, 32)           16000000  \n",
      "_________________________________________________________________\n",
      "lstm_1 (LSTM)                (None, 100)               53200     \n",
      "_________________________________________________________________\n",
      "dropout_1 (Dropout)          (None, 100)               0         \n",
      "_________________________________________________________________\n",
      "dense_1 (Dense)              (None, 1)                 101       \n",
      "=================================================================\n",
      "Total params: 16,053,301\n",
      "Trainable params: 16,053,301\n",
      "Non-trainable params: 0\n",
      "_________________________________________________________________\n",
      "None\n"
     ]
    }
   ],
   "source": [
    "from keras.layers import Dropout\n",
    "# create the model\n",
    "top_words = 5000\n",
    "embedding_vecor_length = 32\n",
    "model = Sequential()\n",
    "model.add(Embedding(500000, embedding_vecor_length, input_length=max_review_length))\n",
    "model.add(LSTM(100))\n",
    "model.add(Dropout(0.5))\n",
    "model.add(Dense(1, activation='sigmoid'))\n",
    "model.compile(loss='binary_crossentropy', optimizer='adam', metrics=['accuracy'])\n",
    "print(model.summary())"
   ]
  },
  {
   "cell_type": "code",
   "execution_count": 25,
   "metadata": {},
   "outputs": [
    {
     "name": "stdout",
     "output_type": "stream",
     "text": [
      "(80000, 600)\n",
      "80000\n",
      "5000\n",
      "32\n",
      "600\n"
     ]
    }
   ],
   "source": [
    "print(X_train_padded.shape)\n",
    "print(len(Y_train))\n",
    "print(top_words)\n",
    "print(embedding_vecor_length)\n",
    "print(max_review_length)"
   ]
  },
  {
   "cell_type": "code",
   "execution_count": 112,
   "metadata": {},
   "outputs": [
    {
     "name": "stdout",
     "output_type": "stream",
     "text": [
      "(80000, 600)\n",
      "80000\n",
      "(20000, 600)\n",
      "20000\n"
     ]
    }
   ],
   "source": [
    "print(X_train_padded.shape)\n",
    "print(len(Y_train))\n",
    "print(X_test_padded.shape)\n",
    "print(len(Y_test))"
   ]
  },
  {
   "cell_type": "code",
   "execution_count": 26,
   "metadata": {},
   "outputs": [
    {
     "name": "stdout",
     "output_type": "stream",
     "text": [
      "WARNING:tensorflow:From /home/j_choudhary1001/anaconda3/lib/python3.5/site-packages/tensorflow/python/ops/math_ops.py:3066: to_int32 (from tensorflow.python.ops.math_ops) is deprecated and will be removed in a future version.\n",
      "Instructions for updating:\n",
      "Use tf.cast instead.\n"
     ]
    },
    {
     "name": "stderr",
     "output_type": "stream",
     "text": [
      "/home/j_choudhary1001/anaconda3/lib/python3.5/site-packages/ipykernel/__main__.py:1: UserWarning: The `nb_epoch` argument in `fit` has been renamed `epochs`.\n",
      "  if __name__ == '__main__':\n"
     ]
    },
    {
     "name": "stdout",
     "output_type": "stream",
     "text": [
      "Epoch 1/10\n",
      "80000/80000 [==============================] - 844s 11ms/step - loss: 0.2056 - acc: 0.9225\n",
      "Epoch 2/10\n",
      "80000/80000 [==============================] - 835s 10ms/step - loss: 0.1417 - acc: 0.9484\n",
      "Epoch 3/10\n",
      "80000/80000 [==============================] - 836s 10ms/step - loss: 0.1284 - acc: 0.9528\n",
      "Epoch 4/10\n",
      "80000/80000 [==============================] - 837s 10ms/step - loss: 0.1191 - acc: 0.9569\n",
      "Epoch 5/10\n",
      "80000/80000 [==============================] - 826s 10ms/step - loss: 0.1092 - acc: 0.9604\n",
      "Epoch 6/10\n",
      "80000/80000 [==============================] - 824s 10ms/step - loss: 0.1005 - acc: 0.9639\n",
      "Epoch 7/10\n",
      "80000/80000 [==============================] - 823s 10ms/step - loss: 0.0894 - acc: 0.9681\n",
      "Epoch 8/10\n",
      "80000/80000 [==============================] - 813s 10ms/step - loss: 0.0854 - acc: 0.9702\n",
      "Epoch 9/10\n",
      "80000/80000 [==============================] - 811s 10ms/step - loss: 0.0773 - acc: 0.9730\n",
      "Epoch 10/10\n",
      "80000/80000 [==============================] - 815s 10ms/step - loss: 0.0706 - acc: 0.9759\n"
     ]
    }
   ],
   "source": [
    "history = model.fit(X_train_padded, Y_train, nb_epoch=10, batch_size=64)\n",
    "# Final evaluation of the model\n",
    "scores = model.evaluate(X_test_padded, Y_test, verbose=0)"
   ]
  },
  {
   "cell_type": "code",
   "execution_count": 28,
   "metadata": {},
   "outputs": [
    {
     "name": "stdout",
     "output_type": "stream",
     "text": [
      "Accuracy: 94.06%\n"
     ]
    }
   ],
   "source": [
    "print(\"Accuracy: %.2f%%\" % (scores[1]*100))"
   ]
  },
  {
   "cell_type": "code",
   "execution_count": 35,
   "metadata": {},
   "outputs": [
    {
     "data": {
      "text/plain": [
       "{'acc': [0.922525,\n",
       "  0.9483875,\n",
       "  0.9528125,\n",
       "  0.9569,\n",
       "  0.9603875,\n",
       "  0.9639125,\n",
       "  0.968125,\n",
       "  0.9702125,\n",
       "  0.972975,\n",
       "  0.9758875],\n",
       " 'loss': [0.20557125323414802,\n",
       "  0.14170007075816393,\n",
       "  0.12843381003141402,\n",
       "  0.11912987211495638,\n",
       "  0.10917609816044568,\n",
       "  0.10047360937222838,\n",
       "  0.08944849496409298,\n",
       "  0.08537244392558932,\n",
       "  0.07729678378850222,\n",
       "  0.07055910568237304]}"
      ]
     },
     "execution_count": 35,
     "metadata": {},
     "output_type": "execute_result"
    }
   ],
   "source": [
    "history.history"
   ]
  },
  {
   "cell_type": "code",
   "execution_count": 39,
   "metadata": {},
   "outputs": [
    {
     "name": "stdout",
     "output_type": "stream",
     "text": [
      "Test score: 0.1654715100876987\n",
      "Test accuracy: 0.94055\n"
     ]
    },
    {
     "data": {
      "image/png": "[encoded data removed]",
      "text/plain": [
       "<matplotlib.figure.Figure at 0x7ff674297908>"
      ]
     },
     "metadata": {},
     "output_type": "display_data"
    }
   ],
   "source": [
    "import matplotlib.pyplot as plt\n",
    "%matplotlib inline\n",
    "epochs = 10\n",
    "score = model.evaluate(X_test_padded, Y_test, verbose=0)\n",
    "print('Test score:', score[0])\n",
    "print('Test accuracy:', score[1])\n",
    "fig,ax = plt.subplots(1,1)\n",
    "ax.set_xlabel('epoch') ; ax.set_ylabel('Categorical Crossentropy Loss')\n",
    "x = list(range(1,epochs+1))\n",
    "vy = history.history['acc']\n",
    "ty = history.history['loss']\n",
    "# plt_dynamic(x, vy, ty, ax)\n",
    "ax.plot(x, vy, 'b', label=\"Accuracy\")\n",
    "ax.plot(x, ty, 'r', label=\"Train Loss\")\n",
    "plt.legend()\n",
    "plt.grid()\n",
    "fig.canvas.draw()"
   ]
  },
  {
   "cell_type": "code",
   "execution_count": 43,
   "metadata": {},
   "outputs": [
    {
     "name": "stdout",
     "output_type": "stream",
     "text": [
      "+---------------------------------+----------+\n",
      "|      Number of LSTM layers      | Accuracy |\n",
      "+---------------------------------+----------+\n",
      "|             1 layer             |  94.27%  |\n",
      "|             2 layer             |  93.86%  |\n",
      "| 1 layer with dropout rate = 0.5 |  94.06%  |\n",
      "+---------------------------------+----------+\n"
     ]
    }
   ],
   "source": [
    "from prettytable import PrettyTable\n",
    "    \n",
    "x = PrettyTable()\n",
    "x.field_names = [\"Number of LSTM layers\", \"Accuracy\"]\n",
    "\n",
    "x.add_row([\"1 layer\", \"94.27%\"])\n",
    "x.add_row([\"2 layer\", \"93.86%\"])\n",
    "x.add_row([\"1 layer with dropout rate = 0.5\", \"94.06%\"])\n",
    "print(x)"
   ]
  },
  {
   "cell_type": "markdown",
   "metadata": {
    "collapsed": true
   },
   "source": [
    "Procedure followed"
   ]
  },
  {
   "cell_type": "markdown",
   "metadata": {},
   "source": [
    "1. Preprocessed the Amazon fine food dataset\n",
    "2. Created the vocabulary\n",
    "3. Indexed the words based on frequency\n",
    "4. Made the dataset same as that with IMdb dataset\n",
    "5. Trained the LSTM model with 1 layer\n",
    "6. Trained the LSTM model with 2 layers"
   ]
  }
 ],
 "metadata": {
  "accelerator": "GPU",
  "anaconda-cloud": {},
  "colab": {
   "collapsed_sections": [],
   "name": "Amazon_LSTM.ipynb",
   "provenance": [],
   "version": "0.3.2"
  },
  "kernelspec": {
   "display_name": "Python 3",
   "language": "python",
   "name": "python3"
  },
  "language_info": {
   "codemirror_mode": {
    "name": "ipython",
    "version": 3
   },
   "file_extension": ".py",
   "mimetype": "text/x-python",
   "name": "python",
   "nbconvert_exporter": "python",
   "pygments_lexer": "ipython3",
   "version": "3.6.5"
  }
 },
 "nbformat": 4,
 "nbformat_minor": 1
}
