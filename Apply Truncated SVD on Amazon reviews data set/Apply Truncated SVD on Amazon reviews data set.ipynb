{
 "cells": [
  {
   "cell_type": "code",
   "execution_count": 1,
   "metadata": {
    "colab": {},
    "colab_type": "code",
    "collapsed": true,
    "id": "3sIip062Re1K"
   },
   "outputs": [],
   "source": [
    "%matplotlib inline\n",
    "import warnings\n",
    "warnings.filterwarnings(\"ignore\")\n",
    "\n",
    "\n",
    "import sqlite3\n",
    "import pandas as pd\n",
    "import numpy as np\n",
    "import nltk\n",
    "import string\n",
    "import matplotlib.pyplot as plt\n",
    "import seaborn as sns\n",
    "from sklearn.feature_extraction.text import TfidfTransformer\n",
    "from sklearn.feature_extraction.text import TfidfVectorizer\n",
    "\n",
    "from sklearn.feature_extraction.text import CountVectorizer\n",
    "from sklearn.metrics import confusion_matrix\n",
    "from sklearn import metrics\n",
    "from sklearn.metrics import roc_curve, auc\n",
    "from nltk.stem.porter import PorterStemmer\n",
    "\n",
    "import re\n",
    "# Tutorial about Python regular expressions: https://pymotw.com/2/re/\n",
    "import string\n",
    "from nltk.corpus import stopwords\n",
    "from nltk.stem import PorterStemmer\n",
    "from nltk.stem.wordnet import WordNetLemmatizer\n",
    "\n",
    "from gensim.models import Word2Vec\n",
    "from gensim.models import KeyedVectors\n",
    "import pickle\n",
    "\n",
    "from tqdm import tqdm\n",
    "import os"
   ]
  },
  {
   "cell_type": "code",
   "execution_count": 229,
   "metadata": {
    "colab": {
     "base_uri": "https://localhost:8080/",
     "height": 122
    },
    "colab_type": "code",
    "collapsed": false,
    "executionInfo": {
     "elapsed": 25345,
     "status": "ok",
     "timestamp": 1550765717873,
     "user": {
      "displayName": "Rajendra Choudhary",
      "photoUrl": "https://lh3.googleusercontent.com/-H2n68bMjaqM/AAAAAAAAAAI/AAAAAAAAADs/35wbnA9B3WM/s64/photo.jpg",
      "userId": "11987022453046813676"
     },
     "user_tz": -330
    },
    "id": "e1yJEc-QSUpR",
    "outputId": "1a6114f8-c32f-4ed4-892a-75377999ab67"
   },
   "outputs": [
    {
     "ename": "ImportError",
     "evalue": "No module named 'google.colab'",
     "output_type": "error",
     "traceback": [
      "\u001b[0;31m---------------------------------------------------------------------------\u001b[0m",
      "\u001b[0;31mImportError\u001b[0m                               Traceback (most recent call last)",
      "\u001b[0;32m<ipython-input-229-6db90e9297aa>\u001b[0m in \u001b[0;36m<module>\u001b[0;34m()\u001b[0m\n\u001b[0;32m----> 1\u001b[0;31m \u001b[1;32mfrom\u001b[0m \u001b[0mgoogle\u001b[0m\u001b[1;33m.\u001b[0m\u001b[0mcolab\u001b[0m \u001b[1;32mimport\u001b[0m \u001b[0mdrive\u001b[0m\u001b[1;33m\u001b[0m\u001b[0m\n\u001b[0m\u001b[1;32m      2\u001b[0m \u001b[0mdrive\u001b[0m\u001b[1;33m.\u001b[0m\u001b[0mmount\u001b[0m\u001b[1;33m(\u001b[0m\u001b[1;34m'/content/gdrive'\u001b[0m\u001b[1;33m)\u001b[0m\u001b[1;33m\u001b[0m\u001b[0m\n",
      "\u001b[0;31mImportError\u001b[0m: No module named 'google.colab'"
     ]
    }
   ],
   "source": [
    "from google.colab import drive\n",
    "drive.mount('/content/gdrive') "
   ]
  },
  {
   "cell_type": "code",
   "execution_count": 230,
   "metadata": {
    "colab": {
     "base_uri": "https://localhost:8080/",
     "height": 261
    },
    "colab_type": "code",
    "collapsed": false,
    "executionInfo": {
     "elapsed": 7743,
     "status": "ok",
     "timestamp": 1550769111493,
     "user": {
      "displayName": "Rajendra Choudhary",
      "photoUrl": "https://lh3.googleusercontent.com/-H2n68bMjaqM/AAAAAAAAAAI/AAAAAAAAADs/35wbnA9B3WM/s64/photo.jpg",
      "userId": "11987022453046813676"
     },
     "user_tz": -330
    },
    "id": "XgKMt0qhCj8j",
    "outputId": "6bced987-bd3c-4cd2-cfbc-4e81dd90b59e"
   },
   "outputs": [
    {
     "name": "stdout",
     "output_type": "stream",
     "text": [
      "Number of data points in our data (525814, 10)\n"
     ]
    },
    {
     "data": {
      "text/html": [
       "<div>\n",
       "<style scoped>\n",
       "    .dataframe tbody tr th:only-of-type {\n",
       "        vertical-align: middle;\n",
       "    }\n",
       "\n",
       "    .dataframe tbody tr th {\n",
       "        vertical-align: top;\n",
       "    }\n",
       "\n",
       "    .dataframe thead th {\n",
       "        text-align: right;\n",
       "    }\n",
       "</style>\n",
       "<table border=\"1\" class=\"dataframe\">\n",
       "  <thead>\n",
       "    <tr style=\"text-align: right;\">\n",
       "      <th></th>\n",
       "      <th>Id</th>\n",
       "      <th>ProductId</th>\n",
       "      <th>UserId</th>\n",
       "      <th>ProfileName</th>\n",
       "      <th>HelpfulnessNumerator</th>\n",
       "      <th>HelpfulnessDenominator</th>\n",
       "      <th>Score</th>\n",
       "      <th>Time</th>\n",
       "      <th>Summary</th>\n",
       "      <th>Text</th>\n",
       "    </tr>\n",
       "  </thead>\n",
       "  <tbody>\n",
       "    <tr>\n",
       "      <th>0</th>\n",
       "      <td>1</td>\n",
       "      <td>B001E4KFG0</td>\n",
       "      <td>A3SGXH7AUHU8GW</td>\n",
       "      <td>delmartian</td>\n",
       "      <td>1</td>\n",
       "      <td>1</td>\n",
       "      <td>1</td>\n",
       "      <td>1303862400</td>\n",
       "      <td>Good Quality Dog Food</td>\n",
       "      <td>I have bought several of the Vitality canned d...</td>\n",
       "    </tr>\n",
       "    <tr>\n",
       "      <th>1</th>\n",
       "      <td>2</td>\n",
       "      <td>B00813GRG4</td>\n",
       "      <td>A1D87F6ZCVE5NK</td>\n",
       "      <td>dll pa</td>\n",
       "      <td>0</td>\n",
       "      <td>0</td>\n",
       "      <td>0</td>\n",
       "      <td>1346976000</td>\n",
       "      <td>Not as Advertised</td>\n",
       "      <td>Product arrived labeled as Jumbo Salted Peanut...</td>\n",
       "    </tr>\n",
       "    <tr>\n",
       "      <th>2</th>\n",
       "      <td>3</td>\n",
       "      <td>B000LQOCH0</td>\n",
       "      <td>ABXLMWJIXXAIN</td>\n",
       "      <td>Natalia Corres \"Natalia Corres\"</td>\n",
       "      <td>1</td>\n",
       "      <td>1</td>\n",
       "      <td>1</td>\n",
       "      <td>1219017600</td>\n",
       "      <td>\"Delight\" says it all</td>\n",
       "      <td>This is a confection that has been around a fe...</td>\n",
       "    </tr>\n",
       "  </tbody>\n",
       "</table>\n",
       "</div>"
      ],
      "text/plain": [
       "   Id   ProductId          UserId                      ProfileName  \\\n",
       "0   1  B001E4KFG0  A3SGXH7AUHU8GW                       delmartian   \n",
       "1   2  B00813GRG4  A1D87F6ZCVE5NK                           dll pa   \n",
       "2   3  B000LQOCH0   ABXLMWJIXXAIN  Natalia Corres \"Natalia Corres\"   \n",
       "\n",
       "   HelpfulnessNumerator  HelpfulnessDenominator  Score        Time  \\\n",
       "0                     1                       1      1  1303862400   \n",
       "1                     0                       0      0  1346976000   \n",
       "2                     1                       1      1  1219017600   \n",
       "\n",
       "                 Summary                                               Text  \n",
       "0  Good Quality Dog Food  I have bought several of the Vitality canned d...  \n",
       "1      Not as Advertised  Product arrived labeled as Jumbo Salted Peanut...  \n",
       "2  \"Delight\" says it all  This is a confection that has been around a fe...  "
      ]
     },
     "execution_count": 230,
     "metadata": {},
     "output_type": "execute_result"
    }
   ],
   "source": [
    "#connecting to sqlite db\n",
    "# con = sqlite3.connect('/content/gdrive/My Drive/Colab Notebooks/Assignment 4/database.sqlite')\n",
    "con = sqlite3.connect('database.sqlite')\n",
    "                      \n",
    "# filtering only positive and negative reviews i.e. \n",
    "# not taking into consideration those reviews with Score=3\n",
    "# SELECT * FROM Reviews WHERE Score != 3 LIMIT 500000, will give top 500000 data points\n",
    "# you can change the number to any other number based on your computing power\n",
    "\n",
    "# filtered_data = pd.read_sql_query(\"\"\" SELECT * FROM Reviews WHERE Score != 3 LIMIT 500000\"\"\", con) \n",
    "# for tsne assignment you can take 5k data points\n",
    "\n",
    "filtered_data = pd.read_sql_query(\"\"\" SELECT * FROM Reviews WHERE Score != 3\"\"\", con) \n",
    "\n",
    "# Give reviews with Score>3 a positive rating(1), and reviews with a score<3 a negative rating(0).\n",
    "def partition(x):\n",
    "    if x < 3:\n",
    "        return 0\n",
    "    return 1\n",
    "\n",
    "#changing reviews with score less than 3 to be positive and vice-versa\n",
    "actualScore = filtered_data['Score']\n",
    "positiveNegative = actualScore.map(partition) \n",
    "filtered_data['Score'] = positiveNegative\n",
    "print(\"Number of data points in our data\", filtered_data.shape)\n",
    "filtered_data.head(3)"
   ]
  },
  {
   "cell_type": "code",
   "execution_count": 231,
   "metadata": {
    "colab": {},
    "colab_type": "code",
    "collapsed": true,
    "id": "9PzG3hgQCxuA"
   },
   "outputs": [],
   "source": [
    "display = pd.read_sql_query(\"\"\"\n",
    "SELECT UserId, ProductId, ProfileName, Time, Score, Text, COUNT(*)\n",
    "FROM Reviews\n",
    "GROUP BY UserId\n",
    "HAVING COUNT(*)>1\n",
    "\"\"\", con)"
   ]
  },
  {
   "cell_type": "code",
   "execution_count": 232,
   "metadata": {
    "colab": {
     "base_uri": "https://localhost:8080/",
     "height": 221
    },
    "colab_type": "code",
    "collapsed": false,
    "executionInfo": {
     "elapsed": 2589,
     "status": "ok",
     "timestamp": 1550769160678,
     "user": {
      "displayName": "Rajendra Choudhary",
      "photoUrl": "https://lh3.googleusercontent.com/-H2n68bMjaqM/AAAAAAAAAAI/AAAAAAAAADs/35wbnA9B3WM/s64/photo.jpg",
      "userId": "11987022453046813676"
     },
     "user_tz": -330
    },
    "id": "3Clg7vqUC22C",
    "outputId": "9186d981-37fa-4658-ffdb-98e0c9fcec91"
   },
   "outputs": [
    {
     "name": "stdout",
     "output_type": "stream",
     "text": [
      "(80668, 7)\n"
     ]
    },
    {
     "data": {
      "text/html": [
       "<div>\n",
       "<style scoped>\n",
       "    .dataframe tbody tr th:only-of-type {\n",
       "        vertical-align: middle;\n",
       "    }\n",
       "\n",
       "    .dataframe tbody tr th {\n",
       "        vertical-align: top;\n",
       "    }\n",
       "\n",
       "    .dataframe thead th {\n",
       "        text-align: right;\n",
       "    }\n",
       "</style>\n",
       "<table border=\"1\" class=\"dataframe\">\n",
       "  <thead>\n",
       "    <tr style=\"text-align: right;\">\n",
       "      <th></th>\n",
       "      <th>UserId</th>\n",
       "      <th>ProductId</th>\n",
       "      <th>ProfileName</th>\n",
       "      <th>Time</th>\n",
       "      <th>Score</th>\n",
       "      <th>Text</th>\n",
       "      <th>COUNT(*)</th>\n",
       "    </tr>\n",
       "  </thead>\n",
       "  <tbody>\n",
       "    <tr>\n",
       "      <th>0</th>\n",
       "      <td>#oc-R115TNMSPFT9I7</td>\n",
       "      <td>B007Y59HVM</td>\n",
       "      <td>Breyton</td>\n",
       "      <td>1331510400</td>\n",
       "      <td>2</td>\n",
       "      <td>Overall its just OK when considering the price...</td>\n",
       "      <td>2</td>\n",
       "    </tr>\n",
       "    <tr>\n",
       "      <th>1</th>\n",
       "      <td>#oc-R11D9D7SHXIJB9</td>\n",
       "      <td>B005HG9ET0</td>\n",
       "      <td>Louis E. Emory \"hoppy\"</td>\n",
       "      <td>1342396800</td>\n",
       "      <td>5</td>\n",
       "      <td>My wife has recurring extreme muscle spasms, u...</td>\n",
       "      <td>3</td>\n",
       "    </tr>\n",
       "    <tr>\n",
       "      <th>2</th>\n",
       "      <td>#oc-R11DNU2NBKQ23Z</td>\n",
       "      <td>B007Y59HVM</td>\n",
       "      <td>Kim Cieszykowski</td>\n",
       "      <td>1348531200</td>\n",
       "      <td>1</td>\n",
       "      <td>This coffee is horrible and unfortunately not ...</td>\n",
       "      <td>2</td>\n",
       "    </tr>\n",
       "    <tr>\n",
       "      <th>3</th>\n",
       "      <td>#oc-R11O5J5ZVQE25C</td>\n",
       "      <td>B005HG9ET0</td>\n",
       "      <td>Penguin Chick</td>\n",
       "      <td>1346889600</td>\n",
       "      <td>5</td>\n",
       "      <td>This will be the bottle that you grab from the...</td>\n",
       "      <td>3</td>\n",
       "    </tr>\n",
       "    <tr>\n",
       "      <th>4</th>\n",
       "      <td>#oc-R12KPBODL2B5ZD</td>\n",
       "      <td>B007OSBE1U</td>\n",
       "      <td>Christopher P. Presta</td>\n",
       "      <td>1348617600</td>\n",
       "      <td>1</td>\n",
       "      <td>I didnt like this coffee. Instead of telling y...</td>\n",
       "      <td>2</td>\n",
       "    </tr>\n",
       "  </tbody>\n",
       "</table>\n",
       "</div>"
      ],
      "text/plain": [
       "               UserId   ProductId             ProfileName        Time  Score  \\\n",
       "0  #oc-R115TNMSPFT9I7  B007Y59HVM                 Breyton  1331510400      2   \n",
       "1  #oc-R11D9D7SHXIJB9  B005HG9ET0  Louis E. Emory \"hoppy\"  1342396800      5   \n",
       "2  #oc-R11DNU2NBKQ23Z  B007Y59HVM        Kim Cieszykowski  1348531200      1   \n",
       "3  #oc-R11O5J5ZVQE25C  B005HG9ET0           Penguin Chick  1346889600      5   \n",
       "4  #oc-R12KPBODL2B5ZD  B007OSBE1U   Christopher P. Presta  1348617600      1   \n",
       "\n",
       "                                                Text  COUNT(*)  \n",
       "0  Overall its just OK when considering the price...         2  \n",
       "1  My wife has recurring extreme muscle spasms, u...         3  \n",
       "2  This coffee is horrible and unfortunately not ...         2  \n",
       "3  This will be the bottle that you grab from the...         3  \n",
       "4  I didnt like this coffee. Instead of telling y...         2  "
      ]
     },
     "execution_count": 232,
     "metadata": {},
     "output_type": "execute_result"
    }
   ],
   "source": [
    "print(display.shape)\n",
    "display.head()"
   ]
  },
  {
   "cell_type": "code",
   "execution_count": 233,
   "metadata": {
    "colab": {
     "base_uri": "https://localhost:8080/",
     "height": 34
    },
    "colab_type": "code",
    "collapsed": false,
    "executionInfo": {
     "elapsed": 2151,
     "status": "ok",
     "timestamp": 1550769179085,
     "user": {
      "displayName": "Rajendra Choudhary",
      "photoUrl": "https://lh3.googleusercontent.com/-H2n68bMjaqM/AAAAAAAAAAI/AAAAAAAAADs/35wbnA9B3WM/s64/photo.jpg",
      "userId": "11987022453046813676"
     },
     "user_tz": -330
    },
    "id": "SFRiGUBmC7f9",
    "outputId": "6604b89e-4715-40fd-ad83-047bd00deb77"
   },
   "outputs": [
    {
     "name": "stdout",
     "output_type": "stream",
     "text": [
      "(364173, 10)\n"
     ]
    }
   ],
   "source": [
    "# Removing duplicate reviews\n",
    "final=filtered_data.drop_duplicates(subset={\"UserId\",\"ProfileName\",\"Time\",\"Text\"}, keep='first', inplace=False)\n",
    "print(final.shape)"
   ]
  },
  {
   "cell_type": "code",
   "execution_count": 234,
   "metadata": {
    "colab": {
     "base_uri": "https://localhost:8080/",
     "height": 34
    },
    "colab_type": "code",
    "collapsed": false,
    "executionInfo": {
     "elapsed": 1084,
     "status": "ok",
     "timestamp": 1550769193941,
     "user": {
      "displayName": "Rajendra Choudhary",
      "photoUrl": "https://lh3.googleusercontent.com/-H2n68bMjaqM/AAAAAAAAAAI/AAAAAAAAADs/35wbnA9B3WM/s64/photo.jpg",
      "userId": "11987022453046813676"
     },
     "user_tz": -330
    },
    "id": "njjTvKgwC_fs",
    "outputId": "0c23a3ae-2583-4fa4-d784-e49ffac5f8e9"
   },
   "outputs": [
    {
     "data": {
      "text/plain": [
       "69.25890143662969"
      ]
     },
     "execution_count": 234,
     "metadata": {},
     "output_type": "execute_result"
    }
   ],
   "source": [
    "(final['Id'].size*1.0)/(filtered_data['Id'].size*1.0)*100"
   ]
  },
  {
   "cell_type": "code",
   "execution_count": 235,
   "metadata": {
    "colab": {},
    "colab_type": "code",
    "collapsed": true,
    "id": "icJxMrXoDCaV"
   },
   "outputs": [],
   "source": [
    "final=final[final.HelpfulnessNumerator<=final.HelpfulnessDenominator]"
   ]
  },
  {
   "cell_type": "code",
   "execution_count": 236,
   "metadata": {
    "colab": {
     "base_uri": "https://localhost:8080/",
     "height": 85
    },
    "colab_type": "code",
    "collapsed": false,
    "executionInfo": {
     "elapsed": 1056,
     "status": "ok",
     "timestamp": 1550769220216,
     "user": {
      "displayName": "Rajendra Choudhary",
      "photoUrl": "https://lh3.googleusercontent.com/-H2n68bMjaqM/AAAAAAAAAAI/AAAAAAAAADs/35wbnA9B3WM/s64/photo.jpg",
      "userId": "11987022453046813676"
     },
     "user_tz": -330
    },
    "id": "rS-TqenXDF8m",
    "outputId": "ae0e680a-ad3a-4951-f354-058586944c1c"
   },
   "outputs": [
    {
     "name": "stdout",
     "output_type": "stream",
     "text": [
      "(364171, 10)\n"
     ]
    },
    {
     "data": {
      "text/plain": [
       "1    307061\n",
       "0     57110\n",
       "Name: Score, dtype: int64"
      ]
     },
     "execution_count": 236,
     "metadata": {},
     "output_type": "execute_result"
    }
   ],
   "source": [
    "#Before starting the next phase of preprocessing lets see the number of entries left\n",
    "print(final.shape)\n",
    "\n",
    "#How many positive and negative reviews are present in our dataset?\n",
    "final['Score'].value_counts()"
   ]
  },
  {
   "cell_type": "code",
   "execution_count": 237,
   "metadata": {
    "collapsed": true
   },
   "outputs": [],
   "source": [
    "final[\"cleanReview\"] = final[\"Summary\"].map(str) + \". \" + final[\"Text\"]"
   ]
  },
  {
   "cell_type": "code",
   "execution_count": 238,
   "metadata": {
    "collapsed": false
   },
   "outputs": [
    {
     "data": {
      "text/plain": [
       "0    Good Quality Dog Food. I have bought several o...\n",
       "1    Not as Advertised. Product arrived labeled as ...\n",
       "2    \"Delight\" says it all. This is a confection th...\n",
       "3    Cough Medicine. If you are looking for the sec...\n",
       "4    Great taffy. Great taffy at a great price.  Th...\n",
       "Name: cleanReview, dtype: object"
      ]
     },
     "execution_count": 238,
     "metadata": {},
     "output_type": "execute_result"
    }
   ],
   "source": [
    "final['cleanReview'].head()"
   ]
  },
  {
   "cell_type": "code",
   "execution_count": 239,
   "metadata": {
    "collapsed": false
   },
   "outputs": [
    {
     "data": {
      "text/plain": [
       "0    52\n",
       "1    34\n",
       "2    98\n",
       "3    43\n",
       "4    29\n",
       "Name: lengthOfReview, dtype: int64"
      ]
     },
     "execution_count": 239,
     "metadata": {},
     "output_type": "execute_result"
    }
   ],
   "source": [
    "final['lengthOfReview'] = final['cleanReview'].str.split().str.len()\n",
    "final['lengthOfReview'].head()"
   ]
  },
  {
   "cell_type": "code",
   "execution_count": 19,
   "metadata": {
    "colab": {
     "base_uri": "https://localhost:8080/",
     "height": 34
    },
    "colab_type": "code",
    "collapsed": false,
    "executionInfo": {
     "elapsed": 3699,
     "status": "ok",
     "timestamp": 1550769244025,
     "user": {
      "displayName": "Rajendra Choudhary",
      "photoUrl": "https://lh3.googleusercontent.com/-H2n68bMjaqM/AAAAAAAAAAI/AAAAAAAAADs/35wbnA9B3WM/s64/photo.jpg",
      "userId": "11987022453046813676"
     },
     "user_tz": -330
    },
    "id": "98Qlu7hKDK7R",
    "outputId": "e6ac4c3e-662f-45dd-8fd1-104cba1bb1f8"
   },
   "outputs": [
    {
     "name": "stderr",
     "output_type": "stream",
     "text": [
      "100%|█████████████████████████████████████████████████████████████████████████████████████████████████████████████████████████████| 364171/364171 [00:01<00:00, 348689.13it/s]\n"
     ]
    }
   ],
   "source": [
    "#remove urls from text python\n",
    "from tqdm import tqdm\n",
    "lst = []\n",
    "removed_urls_list = []\n",
    "for text in tqdm(final['cleanReview']):\n",
    "  removed_urls_text = re.sub(r\"http\\S+\", \"\", text)\n",
    "  lst.append(removed_urls_text)"
   ]
  },
  {
   "cell_type": "code",
   "execution_count": 20,
   "metadata": {
    "colab": {
     "base_uri": "https://localhost:8080/",
     "height": 34
    },
    "colab_type": "code",
    "collapsed": false,
    "executionInfo": {
     "elapsed": 3533,
     "status": "ok",
     "timestamp": 1550769263468,
     "user": {
      "displayName": "Rajendra Choudhary",
      "photoUrl": "https://lh3.googleusercontent.com/-H2n68bMjaqM/AAAAAAAAAAI/AAAAAAAAADs/35wbnA9B3WM/s64/photo.jpg",
      "userId": "11987022453046813676"
     },
     "user_tz": -330
    },
    "id": "Hk4AYZLLDPsd",
    "outputId": "069a3e83-0345-4136-846e-7a06cac6c519"
   },
   "outputs": [
    {
     "name": "stderr",
     "output_type": "stream",
     "text": [
      "100%|█████████████████████████████████████████████████████████████████████████████████████████████████████████████████████████████| 364171/364171 [00:00<00:00, 545983.46it/s]\n"
     ]
    }
   ],
   "source": [
    "#remove urls from text python\n",
    "removed_urls_list = []\n",
    "for text in tqdm(lst):\n",
    "  removed_urls_text = re.sub(r\"http\\S+\", \"\", text)\n",
    "  removed_urls_list.append(removed_urls_text)"
   ]
  },
  {
   "cell_type": "code",
   "execution_count": 21,
   "metadata": {
    "colab": {
     "base_uri": "https://localhost:8080/",
     "height": 34
    },
    "colab_type": "code",
    "collapsed": false,
    "executionInfo": {
     "elapsed": 97417,
     "status": "ok",
     "timestamp": 1550769373290,
     "user": {
      "displayName": "Rajendra Choudhary",
      "photoUrl": "https://lh3.googleusercontent.com/-H2n68bMjaqM/AAAAAAAAAAI/AAAAAAAAADs/35wbnA9B3WM/s64/photo.jpg",
      "userId": "11987022453046813676"
     },
     "user_tz": -330
    },
    "id": "5EM9yQX_DTtc",
    "outputId": "07a280eb-abe0-4dc8-fc2a-e92c3b9f5bd4"
   },
   "outputs": [
    {
     "name": "stderr",
     "output_type": "stream",
     "text": [
      "100%|███████████████████████████████████████████████████████████████████████████████████████████████████████████████████████████████| 364171/364171 [02:07<00:00, 2863.46it/s]\n"
     ]
    }
   ],
   "source": [
    "from bs4 import BeautifulSoup\n",
    "text_lst = []\n",
    "for text in tqdm(removed_urls_list):\n",
    "  soup = BeautifulSoup(text, 'lxml')\n",
    "  text = soup.get_text()\n",
    "  text_lst.append(text)\n",
    "# print(text)\n",
    "# print(\"=\"*50)"
   ]
  },
  {
   "cell_type": "code",
   "execution_count": 22,
   "metadata": {
    "colab": {
     "base_uri": "https://localhost:8080/",
     "height": 34
    },
    "colab_type": "code",
    "collapsed": false,
    "executionInfo": {
     "elapsed": 841,
     "status": "ok",
     "timestamp": 1550769382297,
     "user": {
      "displayName": "Rajendra Choudhary",
      "photoUrl": "https://lh3.googleusercontent.com/-H2n68bMjaqM/AAAAAAAAAAI/AAAAAAAAADs/35wbnA9B3WM/s64/photo.jpg",
      "userId": "11987022453046813676"
     },
     "user_tz": -330
    },
    "id": "h4kMN4PyDYqh",
    "outputId": "8f543749-f6a4-4d09-879a-6652d45133e3"
   },
   "outputs": [
    {
     "name": "stdout",
     "output_type": "stream",
     "text": [
      "364171\n"
     ]
    }
   ],
   "source": [
    "print(len(final['cleanReview']))"
   ]
  },
  {
   "cell_type": "code",
   "execution_count": 23,
   "metadata": {
    "colab": {},
    "colab_type": "code",
    "collapsed": true,
    "id": "REc3-mEUDbsg"
   },
   "outputs": [],
   "source": [
    "# https://stackoverflow.com/a/47091490/4084039\n",
    "import re\n",
    "\n",
    "def decontracted(phrase):\n",
    "    # specific\n",
    "    phrase = re.sub(r\"won't\", \"will not\", phrase)\n",
    "    phrase = re.sub(r\"can\\'t\", \"can not\", phrase)\n",
    "\n",
    "    # general\n",
    "    phrase = re.sub(r\"n\\'t\", \" not\", phrase)\n",
    "    phrase = re.sub(r\"\\'re\", \" are\", phrase)\n",
    "    phrase = re.sub(r\"\\'s\", \" is\", phrase)\n",
    "    phrase = re.sub(r\"\\'d\", \" would\", phrase)\n",
    "    phrase = re.sub(r\"\\'ll\", \" will\", phrase)\n",
    "    phrase = re.sub(r\"\\'t\", \" not\", phrase)\n",
    "    phrase = re.sub(r\"\\'ve\", \" have\", phrase)\n",
    "    phrase = re.sub(r\"\\'m\", \" am\", phrase)\n",
    "    return phrase"
   ]
  },
  {
   "cell_type": "code",
   "execution_count": 24,
   "metadata": {
    "colab": {
     "base_uri": "https://localhost:8080/",
     "height": 34
    },
    "colab_type": "code",
    "collapsed": false,
    "executionInfo": {
     "elapsed": 6088,
     "status": "ok",
     "timestamp": 1550769390659,
     "user": {
      "displayName": "Rajendra Choudhary",
      "photoUrl": "https://lh3.googleusercontent.com/-H2n68bMjaqM/AAAAAAAAAAI/AAAAAAAAADs/35wbnA9B3WM/s64/photo.jpg",
      "userId": "11987022453046813676"
     },
     "user_tz": -330
    },
    "id": "MSaFaRqVDgbU",
    "outputId": "d8cb91d4-4276-498b-d7f3-30b1bb46961b"
   },
   "outputs": [
    {
     "name": "stderr",
     "output_type": "stream",
     "text": [
      "100%|██████████████████████████████████████████████████████████████████████████████████████████████████████████████████████████████| 364171/364171 [00:05<00:00, 67496.57it/s]\n"
     ]
    }
   ],
   "source": [
    "decat_lst = []\n",
    "for decat_text in tqdm(text_lst):\n",
    "  text = decontracted(decat_text)\n",
    "  decat_lst.append(text)"
   ]
  },
  {
   "cell_type": "code",
   "execution_count": 25,
   "metadata": {
    "colab": {
     "base_uri": "https://localhost:8080/",
     "height": 34
    },
    "colab_type": "code",
    "collapsed": false,
    "executionInfo": {
     "elapsed": 14902,
     "status": "ok",
     "timestamp": 1550769420182,
     "user": {
      "displayName": "Rajendra Choudhary",
      "photoUrl": "https://lh3.googleusercontent.com/-H2n68bMjaqM/AAAAAAAAAAI/AAAAAAAAADs/35wbnA9B3WM/s64/photo.jpg",
      "userId": "11987022453046813676"
     },
     "user_tz": -330
    },
    "id": "oc7floi8DzNI",
    "outputId": "f8def560-4301-4568-f4b2-1e5c2efc3a95"
   },
   "outputs": [
    {
     "name": "stderr",
     "output_type": "stream",
     "text": [
      "100%|██████████████████████████████████████████████████████████████████████████████████████████████████████████████████████████████| 364171/364171 [00:19<00:00, 18494.66it/s]\n"
     ]
    }
   ],
   "source": [
    "strip_list = []\n",
    "for to_strip in tqdm(decat_lst):\n",
    "  text = re.sub(\"\\S*\\d\\S*\", \"\", to_strip).strip()\n",
    "  strip_list.append(text)"
   ]
  },
  {
   "cell_type": "code",
   "execution_count": 26,
   "metadata": {
    "colab": {
     "base_uri": "https://localhost:8080/",
     "height": 34
    },
    "colab_type": "code",
    "collapsed": false,
    "executionInfo": {
     "elapsed": 9692,
     "status": "ok",
     "timestamp": 1550769430693,
     "user": {
      "displayName": "Rajendra Choudhary",
      "photoUrl": "https://lh3.googleusercontent.com/-H2n68bMjaqM/AAAAAAAAAAI/AAAAAAAAADs/35wbnA9B3WM/s64/photo.jpg",
      "userId": "11987022453046813676"
     },
     "user_tz": -330
    },
    "id": "LQStix5MD2tQ",
    "outputId": "c6dab596-05eb-4875-9adb-cc1786addaca"
   },
   "outputs": [
    {
     "name": "stderr",
     "output_type": "stream",
     "text": [
      "100%|██████████████████████████████████████████████████████████████████████████████████████████████████████████████████████████████| 364171/364171 [00:09<00:00, 36464.50it/s]\n"
     ]
    }
   ],
   "source": [
    "spatial_list = []\n",
    "for to_spatial in tqdm(strip_list):\n",
    "  text = re.sub('[^A-Za-z0-9]+', ' ', to_spatial)\n",
    "  spatial_list.append(text)"
   ]
  },
  {
   "cell_type": "code",
   "execution_count": 27,
   "metadata": {
    "colab": {},
    "colab_type": "code",
    "collapsed": true,
    "id": "KJPIpmqYD8QZ"
   },
   "outputs": [],
   "source": [
    "stopwords= set(['br', 'the', 'i', 'me', 'my', 'myself', 'we', 'our', 'ours', 'ourselves', 'you', \"you're\", \"you've\",\\\n",
    "            \"you'll\", \"you'd\", 'your', 'yours', 'yourself', 'yourselves', 'he', 'him', 'his', 'himself', \\\n",
    "            'she', \"she's\", 'her', 'hers', 'herself', 'it', \"it's\", 'its', 'itself', 'they', 'them', 'their',\\\n",
    "            'theirs', 'themselves', 'what', 'which', 'who', 'whom', 'this', 'that', \"that'll\", 'these', 'those', \\\n",
    "            'am', 'is', 'are', 'was', 'were', 'be', 'been', 'being', 'have', 'has', 'had', 'having', 'do', 'does', \\\n",
    "            'did', 'doing', 'a', 'an', 'the', 'and', 'but', 'if', 'or', 'because', 'as', 'until', 'while', 'of', \\\n",
    "            'at', 'by', 'for', 'with', 'about', 'against', 'between', 'into', 'through', 'during', 'before', 'after',\\\n",
    "            'above', 'below', 'to', 'from', 'up', 'down', 'in', 'out', 'on', 'off', 'over', 'under', 'again', 'further',\\\n",
    "            'then', 'once', 'here', 'there', 'when', 'where', 'why', 'how', 'all', 'any', 'both', 'each', 'few', 'more',\\\n",
    "            'most', 'other', 'some', 'such', 'only', 'own', 'same', 'so', 'than', 'too', 'very', \\\n",
    "            's', 't', 'can', 'will', 'just', 'don', \"don't\", 'should', \"should've\", 'now', 'd', 'll', 'm', 'o', 're', \\\n",
    "            've', 'y', 'ain', 'aren', \"aren't\", 'couldn', \"couldn't\", 'didn', \"didn't\", 'doesn', \"doesn't\", 'hadn',\\\n",
    "            \"hadn't\", 'hasn', \"hasn't\", 'haven', \"haven't\", 'isn', \"isn't\", 'ma', 'mightn', \"mightn't\", 'mustn',\\\n",
    "            \"mustn't\", 'needn', \"needn't\", 'shan', \"shan't\", 'shouldn', \"shouldn't\", 'wasn', \"wasn't\", 'weren', \"weren't\", \\\n",
    "            'won', \"won't\", 'wouldn', \"wouldn't\"])"
   ]
  },
  {
   "cell_type": "code",
   "execution_count": 28,
   "metadata": {
    "colab": {
     "base_uri": "https://localhost:8080/",
     "height": 34
    },
    "colab_type": "code",
    "collapsed": false,
    "executionInfo": {
     "elapsed": 144687,
     "status": "ok",
     "timestamp": 1550769602159,
     "user": {
      "displayName": "Rajendra Choudhary",
      "photoUrl": "https://lh3.googleusercontent.com/-H2n68bMjaqM/AAAAAAAAAAI/AAAAAAAAADs/35wbnA9B3WM/s64/photo.jpg",
      "userId": "11987022453046813676"
     },
     "user_tz": -330
    },
    "id": "GjPsp7hUEADC",
    "outputId": "909fe554-5306-484d-dffc-30ebc110f01c"
   },
   "outputs": [
    {
     "name": "stderr",
     "output_type": "stream",
     "text": [
      "100%|███████████████████████████████████████████████████████████████████████████████████████████████████████████████████████████████| 364171/364171 [02:01<00:00, 2999.66it/s]\n"
     ]
    }
   ],
   "source": [
    "# Combining all the above stundents \n",
    "preprocessed_reviews = []\n",
    "# tqdm is for printing the status bar\n",
    "for sentance in tqdm(spatial_list):\n",
    "    sentance = re.sub(r\"http\\S+\", \"\", sentance)\n",
    "    sentance = BeautifulSoup(sentance, 'lxml').get_text()\n",
    "    sentance = decontracted(sentance)\n",
    "    sentance = re.sub(\"\\S*\\d\\S*\", \"\", sentance).strip()\n",
    "    sentance = re.sub('[^A-Za-z]+', ' ', sentance)\n",
    "    # https://gist.github.com/sebleier/554280\n",
    "    sentance = ' '.join(e.lower() for e in sentance.split() if e.lower() not in stopwords)\n",
    "    preprocessed_reviews.append(sentance.strip())"
   ]
  },
  {
   "cell_type": "code",
   "execution_count": 29,
   "metadata": {
    "colab": {
     "base_uri": "https://localhost:8080/",
     "height": 51
    },
    "colab_type": "code",
    "collapsed": false,
    "executionInfo": {
     "elapsed": 872,
     "status": "ok",
     "timestamp": 1550769609774,
     "user": {
      "displayName": "Rajendra Choudhary",
      "photoUrl": "https://lh3.googleusercontent.com/-H2n68bMjaqM/AAAAAAAAAAI/AAAAAAAAADs/35wbnA9B3WM/s64/photo.jpg",
      "userId": "11987022453046813676"
     },
     "user_tz": -330
    },
    "id": "3ssesro1EGoY",
    "outputId": "55c379ca-9765-4f12-d77b-154526ff51cc"
   },
   "outputs": [
    {
     "name": "stdout",
     "output_type": "stream",
     "text": [
      "364171\n"
     ]
    },
    {
     "data": {
      "text/plain": [
       "'great honey satisfied product advertised use cereal raw vinegar general sweetner'"
      ]
     },
     "execution_count": 29,
     "metadata": {},
     "output_type": "execute_result"
    }
   ],
   "source": [
    "print(len(preprocessed_reviews))\n",
    "preprocessed_reviews[-1]"
   ]
  },
  {
   "cell_type": "code",
   "execution_count": 30,
   "metadata": {
    "colab": {},
    "colab_type": "code",
    "collapsed": true,
    "id": "RK6YWo6HENP6"
   },
   "outputs": [],
   "source": [
    "final['cleanReview'] = preprocessed_reviews"
   ]
  },
  {
   "cell_type": "code",
   "execution_count": 117,
   "metadata": {
    "colab": {
     "base_uri": "https://localhost:8080/",
     "height": 564
    },
    "colab_type": "code",
    "collapsed": false,
    "executionInfo": {
     "elapsed": 802,
     "status": "ok",
     "timestamp": 1550769614923,
     "user": {
      "displayName": "Rajendra Choudhary",
      "photoUrl": "https://lh3.googleusercontent.com/-H2n68bMjaqM/AAAAAAAAAAI/AAAAAAAAADs/35wbnA9B3WM/s64/photo.jpg",
      "userId": "11987022453046813676"
     },
     "user_tz": -330
    },
    "id": "1eFLmTYlEPu5",
    "outputId": "2ff2fcef-985b-4f76-9358-a7edb55fe30b"
   },
   "outputs": [
    {
     "name": "stdout",
     "output_type": "stream",
     "text": [
      "364171\n"
     ]
    },
    {
     "data": {
      "text/html": [
       "<div>\n",
       "<style scoped>\n",
       "    .dataframe tbody tr th:only-of-type {\n",
       "        vertical-align: middle;\n",
       "    }\n",
       "\n",
       "    .dataframe tbody tr th {\n",
       "        vertical-align: top;\n",
       "    }\n",
       "\n",
       "    .dataframe thead th {\n",
       "        text-align: right;\n",
       "    }\n",
       "</style>\n",
       "<table border=\"1\" class=\"dataframe\">\n",
       "  <thead>\n",
       "    <tr style=\"text-align: right;\">\n",
       "      <th></th>\n",
       "      <th>Id</th>\n",
       "      <th>ProductId</th>\n",
       "      <th>UserId</th>\n",
       "      <th>ProfileName</th>\n",
       "      <th>HelpfulnessNumerator</th>\n",
       "      <th>HelpfulnessDenominator</th>\n",
       "      <th>Score</th>\n",
       "      <th>Time</th>\n",
       "      <th>Summary</th>\n",
       "      <th>Text</th>\n",
       "      <th>cleanReview</th>\n",
       "      <th>lengthOfReview</th>\n",
       "    </tr>\n",
       "  </thead>\n",
       "  <tbody>\n",
       "    <tr>\n",
       "      <th>525809</th>\n",
       "      <td>568450</td>\n",
       "      <td>B001EO7N10</td>\n",
       "      <td>A28KG5XORO54AY</td>\n",
       "      <td>Lettie D. Carter</td>\n",
       "      <td>0</td>\n",
       "      <td>0</td>\n",
       "      <td>1</td>\n",
       "      <td>1299628800</td>\n",
       "      <td>Will not do without</td>\n",
       "      <td>Great for sesame chicken..this is a good if no...</td>\n",
       "      <td>not without great sesame chicken good not bett...</td>\n",
       "      <td>15</td>\n",
       "    </tr>\n",
       "    <tr>\n",
       "      <th>525810</th>\n",
       "      <td>568451</td>\n",
       "      <td>B003S1WTCU</td>\n",
       "      <td>A3I8AFVPEE8KI5</td>\n",
       "      <td>R. Sawyer</td>\n",
       "      <td>0</td>\n",
       "      <td>0</td>\n",
       "      <td>0</td>\n",
       "      <td>1331251200</td>\n",
       "      <td>disappointed</td>\n",
       "      <td>I'm disappointed with the flavor. The chocolat...</td>\n",
       "      <td>disappointed disappointed flavor chocolate not...</td>\n",
       "      <td>24</td>\n",
       "    </tr>\n",
       "    <tr>\n",
       "      <th>525811</th>\n",
       "      <td>568452</td>\n",
       "      <td>B004I613EE</td>\n",
       "      <td>A121AA1GQV751Z</td>\n",
       "      <td>pksd \"pk_007\"</td>\n",
       "      <td>2</td>\n",
       "      <td>2</td>\n",
       "      <td>1</td>\n",
       "      <td>1329782400</td>\n",
       "      <td>Perfect for our maltipoo</td>\n",
       "      <td>These stars are small, so you can give 10-15 o...</td>\n",
       "      <td>perfect maltipoo stars small give one training...</td>\n",
       "      <td>40</td>\n",
       "    </tr>\n",
       "    <tr>\n",
       "      <th>525812</th>\n",
       "      <td>568453</td>\n",
       "      <td>B004I613EE</td>\n",
       "      <td>A3IBEVCTXKNOH</td>\n",
       "      <td>Kathy A. Welch \"katwel\"</td>\n",
       "      <td>1</td>\n",
       "      <td>1</td>\n",
       "      <td>1</td>\n",
       "      <td>1331596800</td>\n",
       "      <td>Favorite Training and reward treat</td>\n",
       "      <td>These are the BEST treats for training and rew...</td>\n",
       "      <td>favorite training reward treat best treats tra...</td>\n",
       "      <td>22</td>\n",
       "    </tr>\n",
       "    <tr>\n",
       "      <th>525813</th>\n",
       "      <td>568454</td>\n",
       "      <td>B001LR2CU2</td>\n",
       "      <td>A3LGQPJCZVL9UC</td>\n",
       "      <td>srfell17</td>\n",
       "      <td>0</td>\n",
       "      <td>0</td>\n",
       "      <td>1</td>\n",
       "      <td>1338422400</td>\n",
       "      <td>Great Honey</td>\n",
       "      <td>I am very satisfied ,product is as advertised,...</td>\n",
       "      <td>great honey satisfied product advertised use c...</td>\n",
       "      <td>11</td>\n",
       "    </tr>\n",
       "  </tbody>\n",
       "</table>\n",
       "</div>"
      ],
      "text/plain": [
       "            Id   ProductId          UserId              ProfileName  \\\n",
       "525809  568450  B001EO7N10  A28KG5XORO54AY         Lettie D. Carter   \n",
       "525810  568451  B003S1WTCU  A3I8AFVPEE8KI5                R. Sawyer   \n",
       "525811  568452  B004I613EE  A121AA1GQV751Z            pksd \"pk_007\"   \n",
       "525812  568453  B004I613EE   A3IBEVCTXKNOH  Kathy A. Welch \"katwel\"   \n",
       "525813  568454  B001LR2CU2  A3LGQPJCZVL9UC                 srfell17   \n",
       "\n",
       "        HelpfulnessNumerator  HelpfulnessDenominator  Score        Time  \\\n",
       "525809                     0                       0      1  1299628800   \n",
       "525810                     0                       0      0  1331251200   \n",
       "525811                     2                       2      1  1329782400   \n",
       "525812                     1                       1      1  1331596800   \n",
       "525813                     0                       0      1  1338422400   \n",
       "\n",
       "                                   Summary  \\\n",
       "525809                 Will not do without   \n",
       "525810                        disappointed   \n",
       "525811            Perfect for our maltipoo   \n",
       "525812  Favorite Training and reward treat   \n",
       "525813                         Great Honey   \n",
       "\n",
       "                                                     Text  \\\n",
       "525809  Great for sesame chicken..this is a good if no...   \n",
       "525810  I'm disappointed with the flavor. The chocolat...   \n",
       "525811  These stars are small, so you can give 10-15 o...   \n",
       "525812  These are the BEST treats for training and rew...   \n",
       "525813  I am very satisfied ,product is as advertised,...   \n",
       "\n",
       "                                              cleanReview  lengthOfReview  \n",
       "525809  not without great sesame chicken good not bett...              15  \n",
       "525810  disappointed disappointed flavor chocolate not...              24  \n",
       "525811  perfect maltipoo stars small give one training...              40  \n",
       "525812  favorite training reward treat best treats tra...              22  \n",
       "525813  great honey satisfied product advertised use c...              11  "
      ]
     },
     "execution_count": 117,
     "metadata": {},
     "output_type": "execute_result"
    }
   ],
   "source": [
    "print(len(final))\n",
    "final.tail(5)"
   ]
  },
  {
   "cell_type": "code",
   "execution_count": 118,
   "metadata": {
    "collapsed": false,
    "scrolled": true
   },
   "outputs": [
    {
     "data": {
      "text/plain": [
       "'good quality dog food bought several vitality canned dog food products found good quality product looks like stew processed meat smells better labrador finicky appreciates product better'"
      ]
     },
     "execution_count": 118,
     "metadata": {},
     "output_type": "execute_result"
    }
   ],
   "source": [
    "final['cleanReview'][0]"
   ]
  },
  {
   "cell_type": "code",
   "execution_count": 119,
   "metadata": {
    "collapsed": false
   },
   "outputs": [
    {
     "data": {
      "text/plain": [
       "27"
      ]
     },
     "execution_count": 119,
     "metadata": {},
     "output_type": "execute_result"
    }
   ],
   "source": [
    "final['lengthOfReview'][0]"
   ]
  },
  {
   "cell_type": "code",
   "execution_count": 2,
   "metadata": {
    "colab": {},
    "colab_type": "code",
    "collapsed": true,
    "id": "zae_uyJESXDu"
   },
   "outputs": [],
   "source": [
    "dir_path = os.getcwd()\n",
    "# conn = sqlite3.connect(os.path.join(dir_path, '/content/gdrive/My Drive/Colab Notebooks/Assignment 4/final.sqlite'))\n",
    "conn = sqlite3.connect(os.path.join(dir_path, 'final.sqlite'))\n",
    "# final.to_sql('Reviews', conn, if_exists='replace', index=False)"
   ]
  },
  {
   "cell_type": "code",
   "execution_count": 3,
   "metadata": {
    "colab": {
     "base_uri": "https://localhost:8080/",
     "height": 51
    },
    "colab_type": "code",
    "collapsed": false,
    "executionInfo": {
     "elapsed": 1117,
     "status": "ok",
     "timestamp": 1550769622453,
     "user": {
      "displayName": "Rajendra Choudhary",
      "photoUrl": "https://lh3.googleusercontent.com/-H2n68bMjaqM/AAAAAAAAAAI/AAAAAAAAADs/35wbnA9B3WM/s64/photo.jpg",
      "userId": "11987022453046813676"
     },
     "user_tz": -330
    },
    "id": "BABvD-PcScwh",
    "outputId": "2f570c2b-7b29-4d0d-95d3-84b7e264fcdd"
   },
   "outputs": [
    {
     "name": "stdout",
     "output_type": "stream",
     "text": [
      "   count(*)\n",
      "0    364171\n"
     ]
    }
   ],
   "source": [
    "review_3 = pd.read_sql_query(\"\"\" SELECT count(*) FROM Reviews\"\"\", conn)\n",
    "print(review_3)"
   ]
  },
  {
   "cell_type": "code",
   "execution_count": 4,
   "metadata": {
    "colab": {},
    "colab_type": "code",
    "collapsed": true,
    "id": "EZe-zkC2SuoY"
   },
   "outputs": [],
   "source": [
    "filtered_data = pd.read_sql_query(\"\"\" SELECT * FROM Reviews\"\"\", conn)"
   ]
  },
  {
   "cell_type": "code",
   "execution_count": 5,
   "metadata": {
    "colab": {
     "base_uri": "https://localhost:8080/",
     "height": 34
    },
    "colab_type": "code",
    "collapsed": false,
    "executionInfo": {
     "elapsed": 2374,
     "status": "ok",
     "timestamp": 1550769627116,
     "user": {
      "displayName": "Rajendra Choudhary",
      "photoUrl": "https://lh3.googleusercontent.com/-H2n68bMjaqM/AAAAAAAAAAI/AAAAAAAAADs/35wbnA9B3WM/s64/photo.jpg",
      "userId": "11987022453046813676"
     },
     "user_tz": -330
    },
    "id": "Ac-PQW4dSwdn",
    "outputId": "deca4d8e-b8b0-4c9b-de6b-67578b6413f7"
   },
   "outputs": [
    {
     "data": {
      "text/plain": [
       "(364171, 13)"
      ]
     },
     "execution_count": 5,
     "metadata": {},
     "output_type": "execute_result"
    }
   ],
   "source": [
    "filtered_data.shape"
   ]
  },
  {
   "cell_type": "code",
   "execution_count": 6,
   "metadata": {
    "colab": {},
    "colab_type": "code",
    "collapsed": true,
    "id": "r5vlYfvoSyZ3"
   },
   "outputs": [],
   "source": [
    "filtered_data[\"Time\"] = pd.to_datetime(filtered_data[\"Time\"], unit = \"s\")\n",
    "filtered_data = filtered_data.sort_values(by = \"Time\")"
   ]
  },
  {
   "cell_type": "code",
   "execution_count": 7,
   "metadata": {
    "colab": {
     "base_uri": "https://localhost:8080/",
     "height": 547
    },
    "colab_type": "code",
    "collapsed": false,
    "executionInfo": {
     "elapsed": 27331,
     "status": "ok",
     "timestamp": 1550769653793,
     "user": {
      "displayName": "Rajendra Choudhary",
      "photoUrl": "https://lh3.googleusercontent.com/-H2n68bMjaqM/AAAAAAAAAAI/AAAAAAAAADs/35wbnA9B3WM/s64/photo.jpg",
      "userId": "11987022453046813676"
     },
     "user_tz": -330
    },
    "id": "6IcfGK5jS0XG",
    "outputId": "2859c315-bceb-461e-f2c0-0bb05773e46c"
   },
   "outputs": [
    {
     "data": {
      "text/html": [
       "<div>\n",
       "<style scoped>\n",
       "    .dataframe tbody tr th:only-of-type {\n",
       "        vertical-align: middle;\n",
       "    }\n",
       "\n",
       "    .dataframe tbody tr th {\n",
       "        vertical-align: top;\n",
       "    }\n",
       "\n",
       "    .dataframe thead th {\n",
       "        text-align: right;\n",
       "    }\n",
       "</style>\n",
       "<table border=\"1\" class=\"dataframe\">\n",
       "  <thead>\n",
       "    <tr style=\"text-align: right;\">\n",
       "      <th></th>\n",
       "      <th>Id</th>\n",
       "      <th>ProductId</th>\n",
       "      <th>UserId</th>\n",
       "      <th>ProfileName</th>\n",
       "      <th>HelpfulnessNumerator</th>\n",
       "      <th>HelpfulnessDenominator</th>\n",
       "      <th>Score</th>\n",
       "      <th>Time</th>\n",
       "      <th>Summary</th>\n",
       "      <th>Text</th>\n",
       "      <th>cleanReview</th>\n",
       "      <th>lengthOfReview</th>\n",
       "      <th>Preprocessed_text</th>\n",
       "    </tr>\n",
       "  </thead>\n",
       "  <tbody>\n",
       "    <tr>\n",
       "      <th>117924</th>\n",
       "      <td>150524</td>\n",
       "      <td>0006641040</td>\n",
       "      <td>ACITT7DI6IDDL</td>\n",
       "      <td>shari zychinski</td>\n",
       "      <td>0</td>\n",
       "      <td>0</td>\n",
       "      <td>1</td>\n",
       "      <td>1999-10-08</td>\n",
       "      <td>EVERY book is educational</td>\n",
       "      <td>this witty little book makes my son laugh at l...</td>\n",
       "      <td>EVERY book is educational. this witty little b...</td>\n",
       "      <td>78</td>\n",
       "      <td>witty little book makes son laugh loud recite ...</td>\n",
       "    </tr>\n",
       "    <tr>\n",
       "      <th>117901</th>\n",
       "      <td>150501</td>\n",
       "      <td>0006641040</td>\n",
       "      <td>AJ46FKXOVC7NR</td>\n",
       "      <td>Nicholas A Mesiano</td>\n",
       "      <td>2</td>\n",
       "      <td>2</td>\n",
       "      <td>1</td>\n",
       "      <td>1999-10-25</td>\n",
       "      <td>This whole series is great way to spend time w...</td>\n",
       "      <td>I can remember seeing the show when it aired o...</td>\n",
       "      <td>This whole series is great way to spend time w...</td>\n",
       "      <td>90</td>\n",
       "      <td>remember seeing show aired television years ag...</td>\n",
       "    </tr>\n",
       "    <tr>\n",
       "      <th>298792</th>\n",
       "      <td>451856</td>\n",
       "      <td>B00004CXX9</td>\n",
       "      <td>AIUWLEQ1ADEG5</td>\n",
       "      <td>Elizabeth Medina</td>\n",
       "      <td>0</td>\n",
       "      <td>0</td>\n",
       "      <td>1</td>\n",
       "      <td>1999-12-02</td>\n",
       "      <td>Entertainingl Funny!</td>\n",
       "      <td>Beetlejuice is a well written movie ..... ever...</td>\n",
       "      <td>Entertainingl Funny!. Beetlejuice is a well wr...</td>\n",
       "      <td>31</td>\n",
       "      <td>beetlejuice well written movie everything exce...</td>\n",
       "    </tr>\n",
       "    <tr>\n",
       "      <th>169281</th>\n",
       "      <td>230285</td>\n",
       "      <td>B00004RYGX</td>\n",
       "      <td>A344SMIA5JECGM</td>\n",
       "      <td>Vincent P. Ross</td>\n",
       "      <td>1</td>\n",
       "      <td>2</td>\n",
       "      <td>1</td>\n",
       "      <td>1999-12-06</td>\n",
       "      <td>A modern day fairy tale</td>\n",
       "      <td>A twist of rumplestiskin captured on film, sta...</td>\n",
       "      <td>A modern day fairy tale. A twist of rumplestis...</td>\n",
       "      <td>41</td>\n",
       "      <td>twist rumplestiskin captured film starring mic...</td>\n",
       "    </tr>\n",
       "    <tr>\n",
       "      <th>298791</th>\n",
       "      <td>451855</td>\n",
       "      <td>B00004CXX9</td>\n",
       "      <td>AJH6LUC1UT1ON</td>\n",
       "      <td>The Phantom of the Opera</td>\n",
       "      <td>0</td>\n",
       "      <td>0</td>\n",
       "      <td>1</td>\n",
       "      <td>2000-01-03</td>\n",
       "      <td>FANTASTIC!</td>\n",
       "      <td>Beetlejuice is an excellent and funny movie. K...</td>\n",
       "      <td>FANTASTIC!. Beetlejuice is an excellent and fu...</td>\n",
       "      <td>44</td>\n",
       "      <td>beetlejuice excellent funny movie keaton hilar...</td>\n",
       "    </tr>\n",
       "  </tbody>\n",
       "</table>\n",
       "</div>"
      ],
      "text/plain": [
       "            Id   ProductId          UserId               ProfileName  \\\n",
       "117924  150524  0006641040   ACITT7DI6IDDL           shari zychinski   \n",
       "117901  150501  0006641040   AJ46FKXOVC7NR        Nicholas A Mesiano   \n",
       "298792  451856  B00004CXX9   AIUWLEQ1ADEG5          Elizabeth Medina   \n",
       "169281  230285  B00004RYGX  A344SMIA5JECGM           Vincent P. Ross   \n",
       "298791  451855  B00004CXX9   AJH6LUC1UT1ON  The Phantom of the Opera   \n",
       "\n",
       "        HelpfulnessNumerator  HelpfulnessDenominator  Score       Time  \\\n",
       "117924                     0                       0      1 1999-10-08   \n",
       "117901                     2                       2      1 1999-10-25   \n",
       "298792                     0                       0      1 1999-12-02   \n",
       "169281                     1                       2      1 1999-12-06   \n",
       "298791                     0                       0      1 2000-01-03   \n",
       "\n",
       "                                                  Summary  \\\n",
       "117924                          EVERY book is educational   \n",
       "117901  This whole series is great way to spend time w...   \n",
       "298792                               Entertainingl Funny!   \n",
       "169281                            A modern day fairy tale   \n",
       "298791                                         FANTASTIC!   \n",
       "\n",
       "                                                     Text  \\\n",
       "117924  this witty little book makes my son laugh at l...   \n",
       "117901  I can remember seeing the show when it aired o...   \n",
       "298792  Beetlejuice is a well written movie ..... ever...   \n",
       "169281  A twist of rumplestiskin captured on film, sta...   \n",
       "298791  Beetlejuice is an excellent and funny movie. K...   \n",
       "\n",
       "                                              cleanReview  lengthOfReview  \\\n",
       "117924  EVERY book is educational. this witty little b...              78   \n",
       "117901  This whole series is great way to spend time w...              90   \n",
       "298792  Entertainingl Funny!. Beetlejuice is a well wr...              31   \n",
       "169281  A modern day fairy tale. A twist of rumplestis...              41   \n",
       "298791  FANTASTIC!. Beetlejuice is an excellent and fu...              44   \n",
       "\n",
       "                                        Preprocessed_text  \n",
       "117924  witty little book makes son laugh loud recite ...  \n",
       "117901  remember seeing show aired television years ag...  \n",
       "298792  beetlejuice well written movie everything exce...  \n",
       "169281  twist rumplestiskin captured film starring mic...  \n",
       "298791  beetlejuice excellent funny movie keaton hilar...  "
      ]
     },
     "execution_count": 7,
     "metadata": {},
     "output_type": "execute_result"
    }
   ],
   "source": [
    "filtered_data.head(5)"
   ]
  },
  {
   "cell_type": "code",
   "execution_count": 8,
   "metadata": {
    "colab": {
     "base_uri": "https://localhost:8080/",
     "height": 323
    },
    "colab_type": "code",
    "collapsed": false,
    "executionInfo": {
     "elapsed": 27906,
     "status": "ok",
     "timestamp": 1550769654740,
     "user": {
      "displayName": "Rajendra Choudhary",
      "photoUrl": "https://lh3.googleusercontent.com/-H2n68bMjaqM/AAAAAAAAAAI/AAAAAAAAADs/35wbnA9B3WM/s64/photo.jpg",
      "userId": "11987022453046813676"
     },
     "user_tz": -330
    },
    "id": "s2At8aIwS24T",
    "outputId": "6f384358-b6aa-4a10-9465-0fcf72eb2143"
   },
   "outputs": [
    {
     "name": "stdout",
     "output_type": "stream",
     "text": [
      "364171\n",
      "<class 'pandas.core.frame.DataFrame'>\n",
      "Int64Index: 364171 entries, 117924 to 107253\n",
      "Data columns (total 13 columns):\n",
      "Id                        364171 non-null int64\n",
      "ProductId                 364171 non-null object\n",
      "UserId                    364171 non-null object\n",
      "ProfileName               364171 non-null object\n",
      "HelpfulnessNumerator      364171 non-null int64\n",
      "HelpfulnessDenominator    364171 non-null int64\n",
      "Score                     364171 non-null int64\n",
      "Time                      364171 non-null datetime64[ns]\n",
      "Summary                   364171 non-null object\n",
      "Text                      364171 non-null object\n",
      "cleanReview               364171 non-null object\n",
      "lengthOfReview            364171 non-null int64\n",
      "Preprocessed_text         364171 non-null object\n",
      "dtypes: datetime64[ns](1), int64(5), object(7)\n",
      "memory usage: 38.9+ MB\n",
      "100000\n"
     ]
    }
   ],
   "source": [
    "print(len(filtered_data))\n",
    "filtered_data.info()\n",
    "filtered_data = filtered_data.head(100000)\n",
    "print(len(filtered_data))"
   ]
  },
  {
   "cell_type": "code",
   "execution_count": 9,
   "metadata": {
    "colab": {
     "base_uri": "https://localhost:8080/",
     "height": 68
    },
    "colab_type": "code",
    "collapsed": false,
    "executionInfo": {
     "elapsed": 27459,
     "status": "ok",
     "timestamp": 1550769654742,
     "user": {
      "displayName": "Rajendra Choudhary",
      "photoUrl": "https://lh3.googleusercontent.com/-H2n68bMjaqM/AAAAAAAAAAI/AAAAAAAAADs/35wbnA9B3WM/s64/photo.jpg",
      "userId": "11987022453046813676"
     },
     "user_tz": -330
    },
    "id": "u22e0QpbS47q",
    "outputId": "fc2d5618-481e-44ad-ec94-c9934bee2403"
   },
   "outputs": [
    {
     "data": {
      "text/plain": [
       "1    87729\n",
       "0    12271\n",
       "Name: Score, dtype: int64"
      ]
     },
     "execution_count": 9,
     "metadata": {},
     "output_type": "execute_result"
    }
   ],
   "source": [
    "filtered_data['Score'].value_counts()"
   ]
  },
  {
   "cell_type": "code",
   "execution_count": 10,
   "metadata": {
    "colab": {
     "base_uri": "https://localhost:8080/",
     "height": 238
    },
    "colab_type": "code",
    "collapsed": false,
    "executionInfo": {
     "elapsed": 27042,
     "status": "ok",
     "timestamp": 1550769654744,
     "user": {
      "displayName": "Rajendra Choudhary",
      "photoUrl": "https://lh3.googleusercontent.com/-H2n68bMjaqM/AAAAAAAAAAI/AAAAAAAAADs/35wbnA9B3WM/s64/photo.jpg",
      "userId": "11987022453046813676"
     },
     "user_tz": -330
    },
    "id": "2JlyqmfIS8Fp",
    "outputId": "f2ff174c-5eab-4ba3-eaa4-0bcb8d90d993"
   },
   "outputs": [
    {
     "name": "stdout",
     "output_type": "stream",
     "text": [
      "shape of X: 117924    EVERY book is educational. this witty little b...\n",
      "117901    This whole series is great way to spend time w...\n",
      "298792    Entertainingl Funny!. Beetlejuice is a well wr...\n",
      "169281    A modern day fairy tale. A twist of rumplestis...\n",
      "298791    FANTASTIC!. Beetlejuice is an excellent and fu...\n",
      "Name: cleanReview, dtype: object\n",
      "None\n",
      "shape of y: 117924    1\n",
      "117901    1\n",
      "298792    1\n",
      "169281    1\n",
      "298791    1\n",
      "Name: Score, dtype: int64\n"
     ]
    }
   ],
   "source": [
    "X = filtered_data[\"cleanReview\"]\n",
    "print(print(\"shape of X:\", X.head(5)))\n",
    "y = filtered_data[\"Score\"]\n",
    "print(\"shape of y:\", y.head(5))\n",
    "X_len = filtered_data['lengthOfReview']"
   ]
  },
  {
   "cell_type": "code",
   "execution_count": 11,
   "metadata": {
    "collapsed": false
   },
   "outputs": [
    {
     "data": {
      "text/plain": [
       "100000"
      ]
     },
     "execution_count": 11,
     "metadata": {},
     "output_type": "execute_result"
    }
   ],
   "source": [
    "len(filtered_data['lengthOfReview'])"
   ]
  },
  {
   "cell_type": "code",
   "execution_count": 14,
   "metadata": {
    "collapsed": false
   },
   "outputs": [],
   "source": [
    "X_train = X[0:100000]\n",
    "Y_train = y[0:100000]"
   ]
  },
  {
   "cell_type": "code",
   "execution_count": 16,
   "metadata": {
    "collapsed": false
   },
   "outputs": [
    {
     "name": "stdout",
     "output_type": "stream",
     "text": [
      "100000\n",
      "100000\n"
     ]
    }
   ],
   "source": [
    "print(len(X_train))\n",
    "print(len(Y_train))"
   ]
  },
  {
   "cell_type": "code",
   "execution_count": 17,
   "metadata": {
    "colab": {
     "base_uri": "https://localhost:8080/",
     "height": 51
    },
    "colab_type": "code",
    "collapsed": false,
    "executionInfo": {
     "elapsed": 26231,
     "status": "ok",
     "timestamp": 1550769654750,
     "user": {
      "displayName": "Rajendra Choudhary",
      "photoUrl": "https://lh3.googleusercontent.com/-H2n68bMjaqM/AAAAAAAAAAI/AAAAAAAAADs/35wbnA9B3WM/s64/photo.jpg",
      "userId": "11987022453046813676"
     },
     "user_tz": -330
    },
    "id": "TxvqsXUATBAv",
    "outputId": "d5002573-dbc3-4488-eaf6-dfe0c354354c"
   },
   "outputs": [
    {
     "name": "stdout",
     "output_type": "stream",
     "text": [
      "(100000,)\n",
      "(100000,)\n"
     ]
    }
   ],
   "source": [
    "print(X_train.shape)\n",
    "print(X_train.shape)"
   ]
  },
  {
   "cell_type": "markdown",
   "metadata": {
    "colab_type": "text",
    "id": "ge1xNyvcUi-I"
   },
   "source": [
    "# Bag of Words"
   ]
  },
  {
   "cell_type": "code",
   "execution_count": 15,
   "metadata": {
    "colab": {
     "base_uri": "https://localhost:8080/",
     "height": 71
    },
    "colab_type": "code",
    "collapsed": false,
    "executionInfo": {
     "elapsed": 31125,
     "status": "ok",
     "timestamp": 1550769660839,
     "user": {
      "displayName": "Rajendra Choudhary",
      "photoUrl": "https://lh3.googleusercontent.com/-H2n68bMjaqM/AAAAAAAAAAI/AAAAAAAAADs/35wbnA9B3WM/s64/photo.jpg",
      "userId": "11987022453046813676"
     },
     "user_tz": -330
    },
    "id": "Dfaq1nJBTDIu",
    "outputId": "77177048-fa73-46ba-eb84-1f4875b9350d"
   },
   "outputs": [
    {
     "name": "stdout",
     "output_type": "stream",
     "text": [
      "(60000, 48270)\n"
     ]
    }
   ],
   "source": [
    "from sklearn.feature_extraction.text import CountVectorizer \n",
    "\n",
    "count_vect = CountVectorizer()\n",
    "X_train_vect = count_vect.fit_transform(X_train)\n",
    "X_test_vect = count_vect.transform(X_test)\n",
    "X_val_vect = count_vect.transform(X_val)\n",
    "feature_names = count_vect.get_feature_names()\n",
    "# BoW_dict = {'X_train_vect':X_train_vect, 'X_test_vect': X_test_vect, 'X_val_vect': X_val_vect}\n",
    "print(X_train_vect.shape)\n",
    "# print(feature_names)"
   ]
  },
  {
   "cell_type": "code",
   "execution_count": 16,
   "metadata": {
    "collapsed": false
   },
   "outputs": [
    {
     "data": {
      "text/plain": [
       "(60000, 48270)"
      ]
     },
     "execution_count": 16,
     "metadata": {},
     "output_type": "execute_result"
    }
   ],
   "source": [
    "X_train_vect.shape"
   ]
  },
  {
   "cell_type": "code",
   "execution_count": 18,
   "metadata": {
    "collapsed": false
   },
   "outputs": [
    {
     "data": {
      "text/plain": [
       "100000"
      ]
     },
     "execution_count": 18,
     "metadata": {},
     "output_type": "execute_result"
    }
   ],
   "source": [
    "len(filtered_data['lengthOfReview'])"
   ]
  },
  {
   "cell_type": "code",
   "execution_count": 191,
   "metadata": {
    "collapsed": false
   },
   "outputs": [],
   "source": [
    "from scipy.sparse import hstack\n",
    "# len_review = final['lengthOfReview'].to_sparse()\n",
    "concat_data = hstack((X_train_vect,np.array(filtered_data['lengthOfReview'][0:60000])[:,None]))\n",
    "concat_data_val = hstack((X_val_vect,np.array(filtered_data['lengthOfReview'][60000:80000])[:,None]))\n",
    "concat_data_test = hstack((X_test_vect,np.array(filtered_data['lengthOfReview'][80000:100000])[:,None]))"
   ]
  },
  {
   "cell_type": "code",
   "execution_count": 193,
   "metadata": {
    "collapsed": false
   },
   "outputs": [
    {
     "name": "stdout",
     "output_type": "stream",
     "text": [
      "(60000, 47536)\n",
      "(20000, 47536)\n",
      "(20000, 47536)\n"
     ]
    }
   ],
   "source": [
    "print(concat_data.shape)\n",
    "print(concat_data_val.shape)\n",
    "print(concat_data_test.shape)"
   ]
  },
  {
   "cell_type": "code",
   "execution_count": 194,
   "metadata": {
    "colab": {
     "base_uri": "https://localhost:8080/",
     "height": 34
    },
    "colab_type": "code",
    "collapsed": false,
    "executionInfo": {
     "elapsed": 30732,
     "status": "ok",
     "timestamp": 1550769660849,
     "user": {
      "displayName": "Rajendra Choudhary",
      "photoUrl": "https://lh3.googleusercontent.com/-H2n68bMjaqM/AAAAAAAAAAI/AAAAAAAAADs/35wbnA9B3WM/s64/photo.jpg",
      "userId": "11987022453046813676"
     },
     "user_tz": -330
    },
    "id": "kPdrDSLxzC56",
    "outputId": "5a0f5859-0403-495d-fbb0-60916f987388"
   },
   "outputs": [
    {
     "name": "stdout",
     "output_type": "stream",
     "text": [
      "47535\n"
     ]
    }
   ],
   "source": [
    "print(len(feature_names))"
   ]
  },
  {
   "cell_type": "code",
   "execution_count": 195,
   "metadata": {
    "collapsed": false
   },
   "outputs": [
    {
     "name": "stdout",
     "output_type": "stream",
     "text": [
      "(60000, 47536)\n"
     ]
    }
   ],
   "source": [
    "BoW_dict = {'X_train_vect':concat_data, 'X_test_vect': concat_data_test, 'X_val_vect': concat_data_val}\n",
    "print(BoW_dict['X_train_vect'].shape)"
   ]
  },
  {
   "cell_type": "code",
   "execution_count": 196,
   "metadata": {
    "colab": {},
    "colab_type": "code",
    "collapsed": false,
    "id": "fT1u1ikbTTbe"
   },
   "outputs": [],
   "source": [
    "import pickle\n",
    "with open('BoW.pkl', 'wb') as handle:\n",
    "    pickle.dump(BoW_dict, handle, protocol=pickle.HIGHEST_PROTOCOL)"
   ]
  },
  {
   "cell_type": "markdown",
   "metadata": {
    "colab_type": "text",
    "id": "WZEY4oJlUpgW"
   },
   "source": [
    "## TF-IDF"
   ]
  },
  {
   "cell_type": "code",
   "execution_count": 18,
   "metadata": {
    "colab": {
     "base_uri": "https://localhost:8080/",
     "height": 68
    },
    "colab_type": "code",
    "collapsed": false,
    "executionInfo": {
     "elapsed": 37237,
     "status": "ok",
     "timestamp": 1550769675618,
     "user": {
      "displayName": "Rajendra Choudhary",
      "photoUrl": "https://lh3.googleusercontent.com/-H2n68bMjaqM/AAAAAAAAAAI/AAAAAAAAADs/35wbnA9B3WM/s64/photo.jpg",
      "userId": "11987022453046813676"
     },
     "user_tz": -330
    },
    "id": "1P0H-O8BTbYA",
    "outputId": "a8d5b056-895a-488d-c5c3-c73f6326bdd4"
   },
   "outputs": [
    {
     "name": "stdout",
     "output_type": "stream",
     "text": [
      "the shape of out text TFIDF vectorizer  (100000, 94772)\n",
      "the type of count vectorizer  <class 'scipy.sparse.csr.csr_matrix'>\n",
      "the number of unique words including both unigrams and bigrams  94772\n"
     ]
    }
   ],
   "source": [
    "tf_idf_vect = TfidfVectorizer(ngram_range=(1,2), min_df=10)\n",
    "train_tf_idf = tf_idf_vect.fit_transform(X_train)\n",
    "\n",
    "print(\"the shape of out text TFIDF vectorizer \",train_tf_idf.get_shape())\n",
    "print(\"the type of count vectorizer \",type(train_tf_idf))\n",
    "print(\"the number of unique words including both unigrams and bigrams \", train_tf_idf.get_shape()[1])"
   ]
  },
  {
   "cell_type": "code",
   "execution_count": 210,
   "metadata": {
    "collapsed": true
   },
   "outputs": [],
   "source": [
    "tfidf_concat_data_train = hstack((train_tf_idf,np.array(final['lengthOfReview'][0:60000])[:,None]))\n",
    "tfidf_concat_data_val = hstack((cv_tf_idf,np.array(final['lengthOfReview'][60000:80000])[:,None]))\n",
    "tfidf_concat_data_test = hstack((test_tf_idf,np.array(final['lengthOfReview'][80000:100000])[:,None]))"
   ]
  },
  {
   "cell_type": "code",
   "execution_count": 211,
   "metadata": {
    "colab": {},
    "colab_type": "code",
    "collapsed": true,
    "id": "_YVXgsYCUs_h"
   },
   "outputs": [],
   "source": [
    "tf_idf_dict = {'train_tf_idf': tfidf_concat_data_train, 'cv_tf_idf': tfidf_concat_data_val, 'test_tf_idf': tfidf_concat_data_test}"
   ]
  },
  {
   "cell_type": "code",
   "execution_count": 19,
   "metadata": {
    "collapsed": true
   },
   "outputs": [],
   "source": [
    "tf_idf_dict = {'train_tf_idf': train_tf_idf}"
   ]
  },
  {
   "cell_type": "code",
   "execution_count": 16,
   "metadata": {
    "colab": {},
    "colab_type": "code",
    "collapsed": true,
    "id": "oOJKYF-3Uw6Y"
   },
   "outputs": [],
   "source": [
    "import pickle\n",
    "with open('tf_idf.pkl', 'wb') as handle:\n",
    "    pickle.dump(tf_idf_dict, handle, protocol=pickle.HIGHEST_PROTOCOL)"
   ]
  },
  {
   "cell_type": "markdown",
   "metadata": {
    "colab_type": "text",
    "id": "t4Wjl_tdVEW4"
   },
   "source": [
    "## TruncatedSVD on tfidf"
   ]
  },
  {
   "cell_type": "code",
   "execution_count": 20,
   "metadata": {
    "colab": {},
    "colab_type": "code",
    "collapsed": false,
    "id": "d78evIY0rOYK"
   },
   "outputs": [],
   "source": [
    "import pickle\n",
    "# with open(r\"/content/gdrive/My Drive/Colab Notebooks/Assignment 4/tf_idf.pkl\", \"rb\") as input_file:\n",
    "with open(r\"tf_idf.pkl\", \"rb\") as input_file:\n",
    "    tfidf_dict = pickle.load(input_file)"
   ]
  },
  {
   "cell_type": "code",
   "execution_count": 21,
   "metadata": {
    "collapsed": false
   },
   "outputs": [
    {
     "data": {
      "text/plain": [
       "TruncatedSVD(algorithm='randomized', n_components=2, n_iter=5,\n",
       "       random_state=None, tol=0.0)"
      ]
     },
     "execution_count": 21,
     "metadata": {},
     "output_type": "execute_result"
    }
   ],
   "source": [
    "from sklearn.decomposition import TruncatedSVD\n",
    "\n",
    "svd = TruncatedSVD()\n",
    "svd.fit(train_tf_idf)"
   ]
  },
  {
   "cell_type": "code",
   "execution_count": 22,
   "metadata": {
    "collapsed": true
   },
   "outputs": [],
   "source": [
    "idf = tf_idf_vect.idf_\n",
    "y = dict(zip(tf_idf_vect.get_feature_names(), idf))"
   ]
  },
  {
   "cell_type": "code",
   "execution_count": 23,
   "metadata": {
    "collapsed": false
   },
   "outputs": [],
   "source": [
    "from collections import OrderedDict\n",
    "from operator import itemgetter\n",
    "\n",
    "sorted_dict = OrderedDict(sorted(y.items(), key = itemgetter(1), reverse=True))"
   ]
  },
  {
   "cell_type": "code",
   "execution_count": 24,
   "metadata": {
    "collapsed": false
   },
   "outputs": [],
   "source": [
    "top_features = list(sorted_dict)[:2000]"
   ]
  },
  {
   "cell_type": "code",
   "execution_count": 25,
   "metadata": {
    "collapsed": false
   },
   "outputs": [
    {
     "name": "stdout",
     "output_type": "stream",
     "text": [
      "2000\n"
     ]
    },
    {
     "data": {
      "text/plain": [
       "'day along'"
      ]
     },
     "execution_count": 25,
     "metadata": {},
     "output_type": "execute_result"
    }
   ],
   "source": [
    "print(len(top_features))\n",
    "top_features[0]"
   ]
  },
  {
   "cell_type": "code",
   "execution_count": 26,
   "metadata": {
    "collapsed": true
   },
   "outputs": [],
   "source": [
    "#https://codereview.stackexchange.com/questions/188482/generating-a-word-bigram-co-occurrence-matrix\n",
    "\n",
    "import nltk\n",
    "from nltk import bigrams    \n",
    "\n",
    "def co_occurrence_matrix(corpus):\n",
    "    vocab = set(corpus)\n",
    "    vocab = list(vocab)\n",
    "\n",
    "    # Key:Value = Word:Index\n",
    "    vocab_to_index = { word:i for i, word in enumerate(vocab) }\n",
    "\n",
    "    # Create bigrams from all words in corpus\n",
    "    bi_grams = list(bigrams(corpus))\n",
    "\n",
    "    # Frequency distribution of bigrams ((word1, word2), num_occurrences)\n",
    "    bigram_freq = nltk.FreqDist(bi_grams).most_common(len(bi_grams))\n",
    "\n",
    "    # Initialise co-occurrence matrix\n",
    "    # co_occurrence_matrix[current][previous]\n",
    "    co_occurrence_matrix = np.zeros((len(vocab), len(vocab)))\n",
    "\n",
    "    # Loop through the bigrams in the frequency distribution, noting the \n",
    "    # current and previous word, and the number of occurrences of the bigram.\n",
    "    # Get the vocab index of the current and previous words.\n",
    "    # Put the number of occurrences into the appropriate element of the array.\n",
    "    for bigram in bigram_freq:\n",
    "        current = bigram[0][1]\n",
    "        previous = bigram[0][0]\n",
    "        count = bigram[1]\n",
    "        pos_current = vocab_to_index[current]\n",
    "        pos_previous = vocab_to_index[previous]\n",
    "        co_occurrence_matrix[pos_current][pos_previous] = count \n",
    "\n",
    "    co_occurrence_matrix = np.matrix(co_occurrence_matrix)\n",
    "\n",
    "    return co_occurrence_matrix\n",
    "\n",
    "m = co_occurrence_matrix(top_features)"
   ]
  },
  {
   "cell_type": "code",
   "execution_count": 30,
   "metadata": {
    "collapsed": false
   },
   "outputs": [
    {
     "name": "stdout",
     "output_type": "stream",
     "text": [
      "[[0. 0. 0. ... 0. 0. 0.]\n",
      " [0. 0. 0. ... 0. 0. 0.]\n",
      " [0. 0. 0. ... 0. 1. 0.]\n",
      " ...\n",
      " [0. 0. 0. ... 0. 0. 0.]\n",
      " [0. 0. 0. ... 0. 0. 0.]\n",
      " [0. 0. 0. ... 1. 0. 0.]]\n"
     ]
    },
    {
     "data": {
      "text/plain": [
       "(2000, 2000)"
      ]
     },
     "execution_count": 30,
     "metadata": {},
     "output_type": "execute_result"
    }
   ],
   "source": [
    "print(m)\n",
    "m.shape"
   ]
  },
  {
   "cell_type": "code",
   "execution_count": 34,
   "metadata": {
    "collapsed": false
   },
   "outputs": [
    {
     "data": {
      "text/plain": [
       "scipy.sparse.csr.csr_matrix"
      ]
     },
     "execution_count": 34,
     "metadata": {},
     "output_type": "execute_result"
    }
   ],
   "source": [
    "type(train_tf_idf)"
   ]
  },
  {
   "cell_type": "code",
   "execution_count": 42,
   "metadata": {
    "collapsed": false
   },
   "outputs": [],
   "source": [
    "from sklearn.decomposition import PCA\n",
    "from sklearn.preprocessing import MinMaxScaler"
   ]
  },
  {
   "cell_type": "code",
   "execution_count": 43,
   "metadata": {
    "collapsed": false
   },
   "outputs": [],
   "source": [
    "#https://towardsdatascience.com/an-approach-to-choosing-the-number-of-components-in-a-principal-component-analysis-pca-3b9f3d6e73fe\n",
    "\n",
    "#Fitting the Truncated SVD algorithm with our Data\n",
    "tsvd = TruncatedSVD().fit(train_tf_idf)"
   ]
  },
  {
   "cell_type": "code",
   "execution_count": 49,
   "metadata": {
    "collapsed": false
   },
   "outputs": [
    {
     "data": {
      "text/plain": [
       "array([0.00311267, 0.00418885])"
      ]
     },
     "execution_count": 49,
     "metadata": {},
     "output_type": "execute_result"
    }
   ],
   "source": [
    "tsvd.explained_variance_ratio_"
   ]
  },
  {
   "cell_type": "code",
   "execution_count": 46,
   "metadata": {
    "collapsed": false
   },
   "outputs": [
    {
     "data": {
      "image/png": "[encoded data removed]",
      "text/plain": [
       "<matplotlib.figure.Figure at 0x22292fa31d0>"
      ]
     },
     "metadata": {},
     "output_type": "display_data"
    }
   ],
   "source": [
    "#Plotting the Cumulative Summation of the Explained Variance\n",
    "plt.figure()\n",
    "plt.plot(np.cumsum(tsvd.explained_variance_ratio_))\n",
    "plt.xlabel('Number of Components')\n",
    "plt.ylabel('Variance (%)') #for each component\n",
    "plt.title('Amazon Dataset Explained Variance')\n",
    "plt.show()"
   ]
  },
  {
   "cell_type": "code",
   "execution_count": 50,
   "metadata": {
    "collapsed": true
   },
   "outputs": [],
   "source": [
    "best_svd = TruncatedSVD(n_components=1).fit(train_tf_idf)"
   ]
  },
  {
   "cell_type": "code",
   "execution_count": null,
   "metadata": {
    "collapsed": false,
    "scrolled": true
   },
   "outputs": [
    {
     "name": "stderr",
     "output_type": "stream",
     "text": [
      "\n",
      "  0%|                                                                                                                       | 0/14 [00:00<?, ?it/s]"
     ]
    }
   ],
   "source": [
    "from sklearn.cluster import KMeans\n",
    "from sklearn.model_selection import GridSearchCV\n",
    "from tqdm import tqdm\n",
    "tfidf_k_inertia_train = dict()\n",
    "\n",
    "for k_val in tqdm(range(1, 15)):\n",
    "    tfidf_km_clf = KMeans(n_clusters = k_val, n_jobs = -1)\n",
    "    tfidf_km_clf.fit(train_tf_idf)\n",
    "    tfidf_k_inertia_train[k_val] = (tfidf_km_clf.inertia_)"
   ]
  },
  {
   "cell_type": "code",
   "execution_count": null,
   "metadata": {
    "collapsed": true
   },
   "outputs": [],
   "source": []
  }
 ],
 "metadata": {
  "anaconda-cloud": {},
  "colab": {
   "collapsed_sections": [],
   "name": "Naive Bayes.ipynb",
   "provenance": [],
   "version": "0.3.2"
  },
  "kernelspec": {
   "display_name": "Python [default]",
   "language": "python",
   "name": "python3"
  },
  "language_info": {
   "codemirror_mode": {
    "name": "ipython",
    "version": 3
   },
   "file_extension": ".py",
   "mimetype": "text/x-python",
   "name": "python",
   "nbconvert_exporter": "python",
   "pygments_lexer": "ipython3",
   "version": "3.5.2"
  }
 },
 "nbformat": 4,
 "nbformat_minor": 0
}
